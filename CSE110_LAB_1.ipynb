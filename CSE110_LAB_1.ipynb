{
  "cells": [
    {
      "cell_type": "markdown",
      "metadata": {
        "id": "IWtmpTd70e6N"
      },
      "source": [
        "### Task 1\n",
        "\n",
        "Write a python program that prints a square of size N using + where N will be given as input.\n",
        "\n",
        "**Sample Input**\n",
        "5\n",
        "\n",
        "**Sample Output**<br>\n",
        "+++++<br>\n",
        "+++++<br>\n",
        "+++++<br>\n",
        "+++++<br>\n",
        "+++++<br>\n"
      ]
    },
    {
      "cell_type": "code",
      "execution_count": null,
      "metadata": {
        "id": "lTnWVm-U0e6Q",
        "outputId": "247899aa-bd11-4288-a9d5-36e4f24ffc42"
      },
      "outputs": [
        {
          "name": "stdout",
          "output_type": "stream",
          "text": [
            "Enter the number = 5\n",
            "+ + + + + \n",
            "+ + + + + \n",
            "+ + + + + \n",
            "+ + + + + \n",
            "+ + + + + \n"
          ]
        }
      ],
      "source": [
        "n = int(input(\"Enter the number = \"))\n",
        "for i in range(n):\n",
        "    for j in range(n):\n",
        "        print(\"+\",end = \" \")\n",
        "     \n",
        "    print()"
      ]
    },
    {
      "cell_type": "markdown",
      "metadata": {
        "id": "hbaEC54-0e6S"
      },
      "source": [
        "### Task 2\n",
        "\n",
        "Write a python program that prints a rectangle of size M (height) and N(length) using + where M,N will be given as input.\n",
        "\n",
        "**Sample Input**\n",
        "3,8\n",
        "\n",
        "**Sample Output**<br>\n",
        "++++++++<br>\n",
        "++++++++<br>\n",
        "++++++++<br>\n"
      ]
    },
    {
      "cell_type": "code",
      "execution_count": null,
      "metadata": {
        "id": "gatkiM4z0e6S",
        "outputId": "cdeef34d-1235-4576-c4a9-af08949a40e8"
      },
      "outputs": [
        {
          "name": "stdout",
          "output_type": "stream",
          "text": [
            "Enter the height = 3\n",
            "Enter the lenght = 8\n",
            "+ + + + + + + + \n",
            "+ + + + + + + + \n",
            "+ + + + + + + + \n"
          ]
        }
      ],
      "source": [
        "m = int(input(\"Enter the height = \"))\n",
        "n = int(input(\"Enter the lenght = \"))\n",
        "for i in range(m):\n",
        "    for j in range(n):\n",
        "        print(\"+\",end = \" \")\n",
        "     \n",
        "    print()"
      ]
    },
    {
      "cell_type": "markdown",
      "metadata": {
        "id": "V1OTyrv80e6T"
      },
      "source": [
        "### Task 3\n",
        "\n",
        "Write a python program that prints a right angled triangle of height N using + where N will be given as input.\n",
        "\n",
        "**Sample Input**\n",
        "4\n",
        "\n",
        "**Sample Output**<br>\n",
        "+<br>\n",
        "++<br>\n",
        "+++<br>\n",
        "++++<br>\n"
      ]
    },
    {
      "cell_type": "code",
      "execution_count": null,
      "metadata": {
        "id": "V7jXdm6h0e6T",
        "outputId": "9e6d601c-8341-4afd-913a-3c5f46d8f7f6"
      },
      "outputs": [
        {
          "name": "stdout",
          "output_type": "stream",
          "text": [
            "Enter the lenght = 4\n",
            "+ \n",
            "+ + \n",
            "+ + + \n",
            "+ + + + \n"
          ]
        }
      ],
      "source": [
        "n = int(input(\"Enter the height = \"))\n",
        "for i in range(n):\n",
        "    for j in range(i+1):\n",
        "        print(\"+\",end = \" \")\n",
        "     \n",
        "    print()"
      ]
    },
    {
      "cell_type": "markdown",
      "metadata": {
        "id": "Pv3JJMTn0e6T"
      },
      "source": [
        "### Task 4\n",
        "\n",
        "Write a python program that prints a square of size N using incrementing numbers where N will be given as input.\n",
        "\n",
        "**Sample Input**\n",
        "5\n",
        "\n",
        "**Sample Output**<br>\n",
        "12345<br>\n",
        "12345<br>\n",
        "12345<br>\n",
        "12345<br>\n",
        "12345<br>\n",
        "\n"
      ]
    },
    {
      "cell_type": "code",
      "execution_count": null,
      "metadata": {
        "id": "wdYUW6-O0e6U",
        "outputId": "97c2c914-943e-41f4-ca91-be10464e0cda"
      },
      "outputs": [
        {
          "name": "stdout",
          "output_type": "stream",
          "text": [
            "Enter the number = 5\n",
            "1 2 3 4 5 \n",
            "1 2 3 4 5 \n",
            "1 2 3 4 5 \n",
            "1 2 3 4 5 \n",
            "1 2 3 4 5 \n",
            "1 2 3 4 5 \n"
          ]
        }
      ],
      "source": [
        "n = int(input(\"Enter the number = \"))\n",
        "for i in range(n+1):\n",
        "    for j in range(1,n+1):\n",
        "        print(j,end = \" \")\n",
        "     \n",
        "    print()\n",
        "    "
      ]
    },
    {
      "cell_type": "markdown",
      "metadata": {
        "id": "7sdsRNY_0e6U"
      },
      "source": [
        "### Task 5\n",
        "\n",
        "Write a python program that prints a rectangle of size M (height) and N(length) using incrementing numbers where M,N will be given as input.\n",
        "\n",
        "**Sample Input**\n",
        "4,6\n",
        "\n",
        "**Sample Output**<br>\n",
        "123456<br>\n",
        "123456<br>\n",
        "123456<br>\n",
        "123456<br>\n"
      ]
    },
    {
      "cell_type": "code",
      "execution_count": null,
      "metadata": {
        "id": "XtSzk4sP0e6U",
        "outputId": "9351fd4b-20a1-49ec-86d8-4672d9fcaf85"
      },
      "outputs": [
        {
          "name": "stdout",
          "output_type": "stream",
          "text": [
            "Enter the height = 4\n",
            "Enter the lenght = 6\n",
            "1 2 3 4 5 6 \n",
            "1 2 3 4 5 6 \n",
            "1 2 3 4 5 6 \n",
            "1 2 3 4 5 6 \n"
          ]
        }
      ],
      "source": [
        "m = int(input(\"Enter the height = \"))\n",
        "n = int(input(\"Enter the lenght = \"))\n",
        "for i in range(m):\n",
        "    for j in range(1,n+1):\n",
        "        print(j,end = \" \")\n",
        "     \n",
        "    print()\n",
        "    \n",
        "    "
      ]
    },
    {
      "cell_type": "markdown",
      "metadata": {
        "id": "0tIYMDO30e6U"
      },
      "source": [
        "### Task 6\n",
        "\n",
        "Write a python program that prints a right angled triangle of height N using incrementing numbers where N will be given as input.\n",
        "\n",
        "**Sample Input**\n",
        "4\n",
        "\n",
        "**Sample Output**<br>\n",
        "1<br>\n",
        "12<br>\n",
        "123<br>\n",
        "1234<br>\n"
      ]
    },
    {
      "cell_type": "code",
      "execution_count": null,
      "metadata": {
        "id": "PL9QtDiU0e6V",
        "outputId": "0d4504f3-2c1b-4475-c83e-b19a26dcac7a"
      },
      "outputs": [
        {
          "name": "stdout",
          "output_type": "stream",
          "text": [
            "Enter the height = 4\n",
            "1 \n",
            "1 2 \n",
            "1 2 3 \n",
            "1 2 3 4 \n"
          ]
        }
      ],
      "source": [
        "n = int(input(\"Enter the height = \"))\n",
        "for i in range(1,n+1):\n",
        "    for j in range(1,i+1):\n",
        "        print(j,end = \" \")\n",
        "     \n",
        "    print()"
      ]
    },
    {
      "cell_type": "markdown",
      "metadata": {
        "id": "PWQHi1aR0e6V"
      },
      "source": [
        "### Task 7\n",
        "\n",
        "Write a python program that prints all the fibonacci number from 0 to N where N will be given. ***A Fibonacci number is a number which is the summation of its previous two fibonacci number. *** First two fibonacci number are 0 and 1. So the 3rd Fib will be 0+1=1, 4th Fib will be 1+1=2, 5th Fib will be 1+2=3 and so on.\n",
        "\n",
        "**Sample Input**<br>\n",
        "10\n",
        "\n",
        "**Sample Output**<br>\n",
        "0 1 1 2 3 5 8"
      ]
    },
    {
      "cell_type": "code",
      "execution_count": null,
      "metadata": {
        "id": "0Zj7GQwS0e6V",
        "outputId": "9cdf6265-c9f6-4aee-e24e-35ea63cc13ff"
      },
      "outputs": [
        {
          "name": "stdout",
          "output_type": "stream",
          "text": [
            "Enter the number = 10\n",
            "0 1 1 2 3 5 8 "
          ]
        }
      ],
      "source": [
        "n = int(input(\"Enter the number = \"))\n",
        "a = 0\n",
        "b = 1\n",
        "c = a+b\n",
        "while a<=n :\n",
        "    print (a, end =\" \")\n",
        "    a=b\n",
        "    b=c\n",
        "    c=a+b"
      ]
    },
    {
      "cell_type": "markdown",
      "metadata": {
        "id": "q0OG_pQv0e6W"
      },
      "source": [
        "### Task 8\n",
        "\n",
        "Write a python program that converts a Decimal Integer number to a Boolean Number. \n",
        "\n",
        "**A decimal can be converted to a binary number by keeping track of the remainders after each division of that number by 2. For example, to convert 10 to a binary number, we can follow the following approach**\n",
        "\n",
        "2/10 = 5 (Remainder 0) <br>2/5 = 2 (Remainder 1) \n",
        "<br>2/2 = 1 (Remainder 0) \n",
        "<br>2/1 = 0 (Remainder 1) \n",
        "\n",
        "Take the remainders from bottom to top, which is, 1010. Binary of 10 is 1010.\n",
        "\n",
        "**Sample Input** <br>\n",
        "10\n",
        "\n",
        "**Sample Output**<br>\n",
        "1010"
      ]
    },
    {
      "cell_type": "code",
      "execution_count": null,
      "metadata": {
        "id": "NRDYyS1A0e6W"
      },
      "outputs": [],
      "source": [
        "num = int(input(\"Enter the number = \"))\n",
        "y=0\n",
        "x=0\n",
        "\n",
        "mylist = []\n",
        "l = []\n",
        "while(x<=num):\n",
        "    x=num%2\n",
        "    y=num//2\n",
        "    num = y\n",
        "    mylist.append(x)\n",
        "    \n",
        "\n",
        "\n",
        "l = mylist[::-1]\n",
        "for i in l:\n",
        "    print(i,end = '')\n"
      ]
    },
    {
      "cell_type": "markdown",
      "metadata": {
        "id": "f3nb7rWJ0e6W"
      },
      "source": [
        "### Task 9\n",
        "\n",
        "Write a python program that converts a Binary number to a Decimal Integer Number. \n",
        "\n",
        "**A binary number can be converted to its corresponding decimal number by multiplying each binary digit with a power of 2 where the power denotes the position of the binary digit**\n",
        "\n",
        "For example, to convert 1010, we can do this - $2^{3}$ x 1 + $2^{2}$ x 0 + $2^{1}$ x 1 + $2^{0}$ x 0 = 10\n",
        "\n",
        "\n",
        "**Sample Input** <br>\n",
        "1010\n",
        "\n",
        "**Sample Output** <br>\n",
        "10"
      ]
    },
    {
      "cell_type": "code",
      "execution_count": null,
      "metadata": {
        "id": "56d79PZx0e6W",
        "outputId": "5feb292e-771a-4ba6-f430-47a165c67373"
      },
      "outputs": [
        {
          "name": "stdout",
          "output_type": "stream",
          "text": [
            " Enter the Binary number = 101\n",
            " Decimal number =  5\n"
          ]
        }
      ],
      "source": [
        "num = int(input(\" Enter the Binary number = \"))\n",
        "sum = 0\n",
        "i = 0\n",
        "while num!=0 :\n",
        "    rem = num%10\n",
        "    sum = sum + rem*pow(2,i)\n",
        "    num = int(num/10)\n",
        "    i = i + 1\n",
        "print(\" Decimal number = \",sum)    "
      ]
    },
    {
      "cell_type": "markdown",
      "metadata": {
        "id": "nIh1xN_g0e6X"
      },
      "source": [
        "### Task 10\n",
        "\n",
        "Write a python program that counts the total unique digits of a number. <br>\n",
        "*To solve this problem, the number can be converted to a string and then nested iterations can be done over the string*\n",
        "\n",
        "\n",
        "\n",
        "\n",
        "**Sample Input** <br>\n",
        "12233345\n",
        "\n",
        "**Sample Output** <br>\n",
        "5"
      ]
    },
    {
      "cell_type": "code",
      "execution_count": null,
      "metadata": {
        "id": "1bqz9AKO0e6X"
      },
      "outputs": [],
      "source": [
        ""
      ]
    }
  ],
  "metadata": {
    "kernelspec": {
      "display_name": "Python 3",
      "language": "python",
      "name": "python3"
    },
    "language_info": {
      "codemirror_mode": {
        "name": "ipython",
        "version": 3
      },
      "file_extension": ".py",
      "mimetype": "text/x-python",
      "name": "python",
      "nbconvert_exporter": "python",
      "pygments_lexer": "ipython3",
      "version": "3.7.6"
    },
    "colab": {
      "name": "CSE110 LAB 1.ipynb",
      "provenance": []
    }
  },
  "nbformat": 4,
  "nbformat_minor": 0
}