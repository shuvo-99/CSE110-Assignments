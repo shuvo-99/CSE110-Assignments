{
  "cells": [
    {
      "cell_type": "markdown",
      "metadata": {
        "id": "0ZcT5c9CjT8P"
      },
      "source": [
        "# SUMMER 2020\n",
        "\n",
        "# CSE110 MID\n",
        "**<font color='red'>[MUST MAINTAIN VARIABLE NAMING CONVENTIONS FOR ALL THE TASKS]</font>**\n",
        "\n",
        "**<font color='red'>[Writing comments(explanatory sentences) in any of the code is completely optional]</font>**"
      ]
    },
    {
      "cell_type": "markdown",
      "metadata": {
        "id": "hQCnOmw6iWER"
      },
      "source": [
        "# Task 01\n",
        "Mrs. Flintstone has recently started following a healthy lifestyle. She buys all her vegetables and fruits from a local organic food seller who offers her a discount depending on the total bill amount. The price of one kg mango is **120 taka**, the price of one kg orange is **220 taka** and the price of 1 kg lychee is **400** taka. The table below shows the discount she will get on her total amount.\n",
        "\n",
        "\n",
        "\n",
        "\n",
        "\n",
        "\n",
        "|Total Amount (TK)|Discount (TK)|\n",
        "|------|------|\n",
        "|0 - 450|No Discount|\n",
        "|451 - 699|25|\n",
        "|700 - 849 |50|\n",
        "|850 - 1599|150|\n",
        "|>= 1600|250|\n",
        "\n",
        "Write a python program and take three inputs from the user. The first input will be the number of mangos in kgs, the second input will be the number of oranges in kgs and the last input will be the amount of lychee in kgs. Based on the price of each fruit, calculate the total amount that Mrs. Flintstone will have to pay.  \n",
        "\n",
        " ================================\n",
        "\n",
        "\n",
        "**Sample input(1):**\\\n",
        "2\\\n",
        "1\\\n",
        "2\n",
        "\n",
        "\n",
        "**Sample Output(1):**\\\n",
        "Previous total: 1260\\\n",
        "New total after discount: 1110\n",
        "\n",
        "\n",
        "*Explanation(1): 2 * 120 + 1 * 220 + 2 * 400 = 1260Tk was her bill without discount.  For 1260Tk, the discount amount is 150 Tk. So, her new bill with a discount is (1260-150)= 1110Tk*\n",
        "\n",
        "================================\n",
        "\n",
        "**Sample input 2:**\\\n",
        "0\\\n",
        "0\\\n",
        "1\n",
        "\n",
        "\n",
        "\n",
        "\n",
        "**Sample output 2:**\\\n",
        "Previous total: 400\\\n",
        "New total after discount: 400\n",
        "\n",
        "\n",
        "\n",
        "*Explanation(2):   0 * 120 + 0 * 220 + 1 * 400 = 400Tk was her bill without discount.  For 400Tk, the discount amount is 0Tk. So, her new bill with a discount is (400-0)= 400Tk.*\n",
        "\n",
        "\n",
        "\n"
      ]
    },
    {
      "cell_type": "code",
      "execution_count": null,
      "metadata": {
        "id": "P0vIwmbeiWEU",
        "outputId": "67e9b47b-789e-4e89-9d60-c3ee6dbc4cc9"
      },
      "outputs": [
        {
          "name": "stdout",
          "output_type": "stream",
          "text": [
            " Enter the amount of Mangoes(kg) = 2\n",
            " Enter the amount of Oranges(kg) = 1\n",
            " Enter the amount of Lichies(kg) = 2\n",
            "Previous Total =  1260\n",
            "New total after discount =  1110\n"
          ]
        }
      ],
      "source": [
        "#task 1\n",
        "#to do\n",
        "m = int(input(\" Enter the amount of Mangoes(kg) = \"))\n",
        "o = int(input(\" Enter the amount of Oranges(kg) = \"))\n",
        "l = int(input(\" Enter the amount of Lichies(kg) = \"))\n",
        "new_m = m*120\n",
        "new_o = o*220\n",
        "new_l = l*400\n",
        "Sum = new_m + new_o + new_l\n",
        "if Sum >0 and Sum <=450:\n",
        "    print(\"Previous Total = \",Sum)\n",
        "    print(\"New total after discount = \",Sum)\n",
        "elif Sum >450 and Sum <=699:\n",
        "    print(\"Previous Total = \",Sum)\n",
        "    new_Sum = Sum - 25\n",
        "    print(\"New total after discount = \",new_Sum)\n",
        "elif Sum >699 and Sum <=849:\n",
        "    print(\"Previous Total = \",Sum)\n",
        "    new_Sum = Sum - 50\n",
        "    print(\"New total after discount = \",new_Sum)\n",
        "elif Sum >849 and Sum <=1599:\n",
        "    print(\"Previous Total = \",Sum)\n",
        "    new_Sum = Sum - 150\n",
        "    print(\"New total after discount = \",new_Sum)\n",
        "else:\n",
        "    print(\"Previous Total = \",Sum)\n",
        "    new_Sum = Sum - 250\n",
        "    print(\"New total after discount = \",new_Sum)\n",
        "    \n"
      ]
    },
    {
      "cell_type": "markdown",
      "metadata": {
        "id": "zUyYKkWViWEd"
      },
      "source": [
        "# Task 02\n",
        "Write a python program that takes a number as input from the user and prints the summation of all the even digits.”  \n",
        "\n",
        "\n",
        "*hint: consider 0 as even number*\n",
        "\n",
        "\n",
        "\n",
        "\n",
        " \n",
        "  ================================\n",
        " \n",
        "**Sample input 1:**\\\n",
        "234567\\\n",
        "**Sample output 1:**\\\n",
        "12*\\\n",
        "Explanation: even digits of 234567 are 2,4,6. 2+4+6=12*\n",
        "\n",
        " \n",
        "  ================================\n",
        "\n",
        "**Sample input 2:**\\\n",
        "24499  \\\n",
        "**Sample output 2:**\\\n",
        "10\\\n",
        "*Explanation: even digits of 24499 are 2,4,4. 2+4+4=10*\n"
      ]
    },
    {
      "cell_type": "code",
      "execution_count": null,
      "metadata": {
        "id": "_oEJ6XwgiWEh",
        "outputId": "a4f08e5f-193f-47b0-ab5b-18c95cf15639"
      },
      "outputs": [
        {
          "name": "stdout",
          "output_type": "stream",
          "text": [
            " Enter the number = 234567\n",
            "Sum of even digits =  12\n"
          ]
        }
      ],
      "source": [
        "#task 2\n",
        "#to do\n",
        "num = int(input(\" Enter the number = \"))\n",
        "Sum = 0\n",
        "while (num>0):\n",
        "    mod = num%10\n",
        "    if mod%2 == 0:\n",
        "        Sum = Sum + mod\n",
        "    num = num//10\n",
        "    \n",
        "print(\"Sum of even digits = \",Sum)"
      ]
    },
    {
      "cell_type": "markdown",
      "metadata": {
        "id": "CEhXrQIhiWEo"
      },
      "source": [
        "# Task 03\n",
        "Write a program that takes a **string** as input and prints “Binary Number” if the string contains only 0s or 1s. Otherwise, print “Not a Binary Number”.\n",
        "\n",
        "**<font color='red'>( you have to use a loop)**\n",
        "\n",
        "*hints: consider 0 as even number*\n",
        "\n",
        "\n",
        "\n",
        "\n",
        " \n",
        "  ================================\n",
        " \n",
        "**Sample input 1:**\\\n",
        "01101101101\\\n",
        "**Sample output 1:**\\\n",
        "Binary Number\n",
        "\n",
        "  ================================\n",
        "\n",
        "**Sample input 2:**\\\n",
        "12344ab0 \\\n",
        "**Sample output 2:**\\\n",
        "Not a Binary Number"
      ]
    },
    {
      "cell_type": "code",
      "execution_count": null,
      "metadata": {
        "id": "gWQIR06LiWEp",
        "outputId": "5fc63de0-f616-466c-b588-f605fc5628f5"
      },
      "outputs": [
        {
          "name": "stdout",
          "output_type": "stream",
          "text": [
            "Enter the number = 0\n",
            "Binary Number\n"
          ]
        }
      ],
      "source": [
        "#task 3\n",
        "#to do\n",
        "num = input(\"Enter the number = \")\n",
        "\n",
        "mylist=[]\n",
        "for i in num:\n",
        "    if i > \"1\":\n",
        "        mylist = [i] \n",
        "if len(mylist) > 0:\n",
        "    print(\"Not a Binary Number\")\n",
        "else:\n",
        "    print(\"Binary Number\")\n",
        "\n",
        "\n"
      ]
    },
    {
      "cell_type": "code",
      "execution_count": null,
      "metadata": {
        "id": "1k5w2_aW0CW8"
      },
      "outputs": [],
      "source": [
        ""
      ]
    }
  ],
  "metadata": {
    "colab": {
      "collapsed_sections": [],
      "name": "20301301_Md. Anonto Shuvo_10_CSE110_mid_set _494.ipynb",
      "provenance": []
    },
    "kernelspec": {
      "display_name": "Python 3",
      "language": "python",
      "name": "python3"
    },
    "language_info": {
      "codemirror_mode": {
        "name": "ipython",
        "version": 3
      },
      "file_extension": ".py",
      "mimetype": "text/x-python",
      "name": "python",
      "nbconvert_exporter": "python",
      "pygments_lexer": "ipython3",
      "version": "3.7.6"
    }
  },
  "nbformat": 4,
  "nbformat_minor": 0
}