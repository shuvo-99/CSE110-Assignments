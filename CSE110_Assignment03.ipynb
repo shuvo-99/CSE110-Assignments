{
  "cells": [
    {
      "cell_type": "markdown",
      "metadata": {
        "id": "lT35x_WMyBwa"
      },
      "source": [
        "# CSE110 Assignment 3\n",
        "\n"
      ]
    },
    {
      "cell_type": "markdown",
      "metadata": {
        "id": "kWkDLcbqyBwe"
      },
      "source": [
        "\n",
        "## Write the Python code of the following problems:\n",
        "\n",
        "**<font color='red'>[MUST MAINTAIN VARIABLE NAMING CONVENTIONS FOR ALL THE TASKS]</font>**\n",
        "\n",
        "## Part 1: String\n",
        "\n",
        "\n",
        "\n"
      ]
    },
    {
      "cell_type": "markdown",
      "metadata": {
        "id": "5u0-WsqfyBwf"
      },
      "source": [
        "### Task 1 \n",
        "\n",
        "Write a Python program that will ask the user to input a string (containing exactly one word). Then your program should print a subsequent substring of the given string.\n",
        "\n",
        "**Example1:**\\\n",
        "Input: BANGLA\\\n",
        "Output:\\\n",
        "B\\\n",
        "BA\\\n",
        "BAN\\\n",
        "BANG\\\n",
        "BANGL\\\n",
        "BANGLA\n",
        "\n",
        "**Example2:**\\\n",
        "Input: DREAM\\\n",
        "Output:\\\n",
        "D\\\n",
        "DR\\\n",
        "DRE\\\n",
        "DREA\\\n",
        "DREAM\n",
        "\n",
        "**Hints(1):** Need to use \"for loop\" for this task.\n",
        "\n",
        "**Hints(2):** Need to use print() function for prnting newlines.\n",
        "\n",
        "For example:\\\n",
        "print(1)\\\n",
        "print(2)\n",
        "\n",
        "Output:\\\n",
        "1\\\n",
        "2\n",
        "\n",
        "=====================================================================\n",
        "\n",
        "We need use print(end = \"\") to skip printing the additional newline.\n",
        "\n",
        "For example:\\\n",
        "print(1, end =\" \")\\\n",
        "print(2)\n",
        "\n",
        "Output:(prints the next output right to the previous one)\\\n",
        "12\n",
        "\n",
        "=====================================================================\n",
        "\n",
        "\n",
        "\n",
        "\n"
      ]
    },
    {
      "cell_type": "code",
      "execution_count": null,
      "metadata": {
        "id": "JRodFxouyBwh",
        "outputId": "dec9d0f5-70f1-4bf3-ff5f-334644140e1e"
      },
      "outputs": [
        {
          "name": "stdout",
          "output_type": "stream",
          "text": [
            " Enter a word = BANGLA\n",
            "B \n",
            "B A \n",
            "B A N \n",
            "B A N G \n",
            "B A N G L \n",
            "B A N G L A \n",
            "\n"
          ]
        }
      ],
      "source": [
        "#Todo\n",
        "n = input(\" Enter a word = \")\n",
        "length = len(n)\n",
        "for i in range(length):\n",
        "    for j in range(i+1):\n",
        "        print(n[j],end = \" \")\n",
        "     \n",
        "    print()\n",
        "    \n",
        "print()    \n",
        "\n"
      ]
    },
    {
      "cell_type": "markdown",
      "metadata": {
        "id": "jYyYJmfpyBwj"
      },
      "source": [
        "### Task 2\n",
        "\n",
        "Write a Python program that will ask the user to enter two strings (s1, s2) as an input. Then create a mixed string with alternative characters from each string. Any leftover chars will be appended at the end of the result string.\n",
        "\n",
        "**Example 1:**\\\n",
        "Input:\\\n",
        "\"ABCD\"\\\n",
        "\"efgh\"\n",
        "\n",
        "Output:\\\n",
        "AeBfCgDh\n",
        "\n",
        "**Example 2:**\\\n",
        "Input:\\\n",
        "\"ABCDENDFGH\"\\\n",
        "\"ijkl\"\n",
        "\n",
        "Output:\\\n",
        "AiBjCkDlENDFGH\n",
        "\n",
        "**Example 3:**\\\n",
        "Input:\\\n",
        "\"ijkl\"\\\n",
        "\"ABCDENDFGH\"\n",
        "\n",
        "Output:\\\n",
        "iAjBkClDENDFGH\n",
        "\n",
        "*Hint: For adding the leftover characters use string slicing.*\n",
        "\n",
        "\n"
      ]
    },
    {
      "cell_type": "code",
      "execution_count": null,
      "metadata": {
        "id": "nNFXgid2yBwk",
        "outputId": "5d06d676-d7e3-449b-93dd-8e8e59be01b7"
      },
      "outputs": [
        {
          "name": "stdout",
          "output_type": "stream",
          "text": [
            " Enter 1st string = ijkl\n",
            " Enter 2nd string = ABCDEFGH\n",
            "iAjBkClDEFGH\n"
          ]
        }
      ],
      "source": [
        "#Todo\n",
        "s1 = input(\" Enter 1st string = \")\n",
        "s2 = input(\" Enter 2nd string = \")\n",
        "i = 0\n",
        "j = 0\n",
        "sum = ''\n",
        "while i<len(s1) or j<len(s2):\n",
        "    if i<len(s1):\n",
        "        sum = sum + s1[i] \n",
        "        i = i + 1\n",
        "        \n",
        "    if j<len(s2):\n",
        "        sum = sum + s2[j]\n",
        "        j = j + 1\n",
        "        \n",
        "print(sum)"
      ]
    },
    {
      "cell_type": "markdown",
      "metadata": {
        "id": "6Ap8rbxayBwl"
      },
      "source": [
        "### Task3\n",
        "\n",
        "Write a Python program that will ask the user to enter a  word as an input. If the length of the input string is less than 4, then your program should print the same string as an output. If the input string’s length is greater than 3, then your program should add “er” at the end of the input string. If the input string already ends with “er”, then add “est” instead. If the input string already ends with “est”, then your program should print the same string as an output.\n",
        "\n",
        "**Example 1:**\\\n",
        "Input: strong\\\n",
        "Output: stronger\n",
        "\n",
        "**Example 2:**\\\n",
        "Input: stronger\\\n",
        "Output: strongest\n",
        "\n",
        "**Example 3:**\\\n",
        "Input: strongest\\\n",
        "Output: strongest\n",
        "\n",
        "**Example 4:**\\\n",
        "Input: abc\\\n",
        "Output: abc\n"
      ]
    },
    {
      "cell_type": "code",
      "execution_count": null,
      "metadata": {
        "id": "UsRu8KRbyBws",
        "outputId": "051f0e4b-95c6-4dae-c570-fe555f5aced5"
      },
      "outputs": [
        {
          "name": "stdout",
          "output_type": "stream",
          "text": [
            "Enter a word = abc\n",
            "abc\n"
          ]
        }
      ],
      "source": [
        "#Todo\n",
        "n = input(\"Enter a word = \")\n",
        "x = \"er\"\n",
        "y = \"est\"\n",
        "if len(n)<4 :\n",
        "    print(n)\n",
        "elif x in n :\n",
        "    print(n[:-2]+y)\n",
        "elif y in n :\n",
        "    print(n)\n",
        "else:\n",
        "    print(n + x)"
      ]
    },
    {
      "cell_type": "markdown",
      "metadata": {
        "id": "XXlAEMFsyBwt"
      },
      "source": [
        "### Task4\n",
        "\n",
        "Write a Python program that will ask the user to input a string (containing exactly one word). Then print code for each character in the String using the ord() function. Use any means necessary.\n",
        "\n",
        "To check if your program is working correctly or not, you can find a list of all correct values from the following website. Look at “Dec” and “Char” columns only, ignore other columns.\\\n",
        "link: http://www.asciitable.com/\n",
        "\n",
        "**Example 1:**\\\n",
        "Input: Programming\\\n",
        "Output:\\\n",
        "P : 80\\\n",
        "r : 114\\\n",
        "o : 111\\\n",
        "g : 103\\\n",
        "r : 114\\\n",
        "a : 97\\\n",
        "m : 109\\\n",
        "m : 109\\\n",
        "i : 105\\\n",
        "n : 110\\\n",
        "g : 103\n",
        "\n",
        "**Example 2:**\\\n",
        "Input: hunger\\\n",
        "Output:\\\n",
        "h : 104\\\n",
        "u : 117\\\n",
        "n : 110\\\n",
        "g : 103\\\n",
        "e : 101\\\n",
        "r : 114 "
      ]
    },
    {
      "cell_type": "code",
      "execution_count": null,
      "metadata": {
        "id": "_RnHncMnyBwu",
        "outputId": "6e3d7c65-49d3-4b32-b743-baea111045d1"
      },
      "outputs": [
        {
          "name": "stdout",
          "output_type": "stream",
          "text": [
            " Enter a string = hunger\n",
            "h : 104\n",
            "u : 117\n",
            "n : 110\n",
            "g : 103\n",
            "e : 101\n",
            "r : 114\n"
          ]
        }
      ],
      "source": [
        "#Todo\n",
        "s = input(\" Enter a string = \")\n",
        "for c in s:\n",
        "    print(c,\":\",ord(c))"
      ]
    },
    {
      "cell_type": "markdown",
      "metadata": {
        "id": "01o6T8gGyBwu"
      },
      "source": [
        "### Task5\n",
        "\n",
        "Given a word as input in small letters, print the next alphabet in sequence for each alphabet found in the input.\n",
        "\n",
        "**Example1:**\\\n",
        "Input: abcd\\\n",
        "Output: bcde\n",
        "\n",
        "**Example2:**\\\n",
        "Input: the cow\\\n",
        "Output: uif!dpx\n",
        "\n",
        "**Example3: <font color='red'>[Must fulfil this criteria]</font>**\\\n",
        "Input: xyzabc\\\n",
        "Output: yzabcd\n",
        "\n",
        "*Hint: You need to use functions ord() and chr(). The ASCII value of ‘a’ is 97 and ‘z’ is 122.*\n"
      ]
    },
    {
      "cell_type": "code",
      "execution_count": null,
      "metadata": {
        "id": "tYc7IZpsyBwv",
        "outputId": "771bcda7-1fa0-4162-f5f7-f77d7c38597f"
      },
      "outputs": [
        {
          "name": "stdout",
          "output_type": "stream",
          "text": [
            "Enter a word (in small letters) = abcd\n",
            "bcde\n"
          ]
        }
      ],
      "source": [
        "#Todo\n",
        "word = input(\"Enter a word (in small letters) = \")\n",
        "new_word = \"\"\n",
        "for c in word:\n",
        "    asci = ord(c)\n",
        "    if asci == ord('z'):\n",
        "        new_word = new_word + 'a'\n",
        "    else :\n",
        "        new_word = new_word + chr(asci + 1)\n",
        "        \n",
        "print(new_word)"
      ]
    },
    {
      "cell_type": "markdown",
      "metadata": {
        "id": "UrkvdOktyBww"
      },
      "source": [
        "### Task6\n",
        "Given a string, create a new string with all the consecutive duplicates removed. \n",
        "\n",
        "**Example:**\\\n",
        "Input:\\\n",
        "AAABBBBCDDBBECE\\\n",
        "Output:\\\n",
        "ABCDBECE\n",
        "\n",
        "*Hint: You need to make a new string to store your answer. Check whether the current character and the next character are the same, then add that character to the answer.*\n",
        "\n"
      ]
    },
    {
      "cell_type": "code",
      "execution_count": null,
      "metadata": {
        "id": "gXCq6sGPyBww",
        "outputId": "c921c21e-fda4-4564-f15c-7544a35714b3"
      },
      "outputs": [
        {
          "name": "stdout",
          "output_type": "stream",
          "text": [
            " Enter a new string = AAABBBBCDDBBECE\n",
            "ABCDBECE\n"
          ]
        }
      ],
      "source": [
        "#Todo\n",
        "n = input(' Enter a new string = ')\n",
        "s = ''\n",
        "for chr in n:\n",
        "    if s == '' or chr != s[len(s)-1]:\n",
        "        s = s + chr\n",
        "        \n",
        "print (s)  "
      ]
    },
    {
      "cell_type": "markdown",
      "metadata": {
        "id": "LwxgsAzOyBww"
      },
      "source": [
        "## Part 2: List\n"
      ]
    },
    {
      "cell_type": "markdown",
      "metadata": {
        "id": "P1kISg76yBwx"
      },
      "source": [
        "### Task 7\n",
        "Write a Python program that reads 10 numbers from the user. After reading each number, print all the numbers that have been entered so far. \n",
        "\n",
        "**Example:**\\\n",
        "After the user enters 3, prints “So far in the list: [3]”\\\n",
        "After the user enters 5, prints “So far in the list: [3, 5]”\\\n",
        "After the user enters 34, prints “So far in the list: [3, 5, 34]”\n"
      ]
    },
    {
      "cell_type": "code",
      "execution_count": null,
      "metadata": {
        "id": "myudlP4PyBwx",
        "outputId": "5ff5a2b4-0018-4749-c0b2-f60f90dc582c"
      },
      "outputs": [
        {
          "name": "stdout",
          "output_type": "stream",
          "text": [
            " Enter a number = 1\n",
            "So far in the list:  [1]\n",
            " Enter a number = 2\n",
            "So far in the list:  [1, 2]\n",
            " Enter a number = 3\n",
            "So far in the list:  [1, 2, 3]\n",
            " Enter a number = 4\n",
            "So far in the list:  [1, 2, 3, 4]\n",
            " Enter a number = 5\n",
            "So far in the list:  [1, 2, 3, 4, 5]\n",
            " Enter a number = 6\n",
            "So far in the list:  [1, 2, 3, 4, 5, 6]\n",
            " Enter a number = 7\n",
            "So far in the list:  [1, 2, 3, 4, 5, 6, 7]\n",
            " Enter a number = 8\n",
            "So far in the list:  [1, 2, 3, 4, 5, 6, 7, 8]\n",
            " Enter a number = 9\n",
            "So far in the list:  [1, 2, 3, 4, 5, 6, 7, 8, 9]\n",
            " Enter a number = 10\n",
            "So far in the list:  [1, 2, 3, 4, 5, 6, 7, 8, 9, 10]\n"
          ]
        }
      ],
      "source": [
        "#Todo\n",
        "list = []\n",
        "count = 0\n",
        "i = 1\n",
        "while i <=10:\n",
        "    x = int(input(\" Enter a number = \"))\n",
        "    list.append(x)\n",
        "    print(\"So far in the list: \",list)\n",
        "    i = i + 1\n",
        "    count = count + 1"
      ]
    },
    {
      "cell_type": "markdown",
      "metadata": {
        "id": "PmS26fbNyBwx"
      },
      "source": [
        "### Task 8\n",
        "Assume, you have been given a list.\n",
        "\n",
        "a_list =  [10, 20, 24, 25, 26, 35, 70]\n",
        "\n",
        "Write a Python program that creates a new list excluding the first and last two elements of the given list and prints the new list. \n",
        "\n",
        "Output: [24, 25, 26]\n",
        "\n",
        "\n",
        "*Hint:You need to use list slicing.*\n"
      ]
    },
    {
      "cell_type": "code",
      "execution_count": null,
      "metadata": {
        "id": "6RkNoW__yBwy",
        "outputId": "53b3f999-dfb5-43ca-82ce-a604d22fd5e8"
      },
      "outputs": [
        {
          "name": "stdout",
          "output_type": "stream",
          "text": [
            "[24, 25, 26]\n"
          ]
        }
      ],
      "source": [
        "#Todo\n",
        "a_list = [10, 20, 24, 25, 26, 35, 70]\n",
        "\n",
        "new_list = a_list[2:-2]  \n",
        "\n",
        "print(new_list)\n"
      ]
    },
    {
      "cell_type": "markdown",
      "metadata": {
        "id": "H7JT7sdYyBwy"
      },
      "source": [
        "### Task 9\n",
        "Assume, you have been given two lists. \n",
        "\n",
        "list_one = [1, 2, 3, 4, 5, 6, 7, 8, 9]\\\n",
        "list_two = [10, 11, 12, -13, -14, -15, -16]\n",
        "\n",
        "Write a Python program that creates a new list with all the even elements of both of the given lists and prints the new list.\n",
        "\n",
        "\n",
        "Output: [2, 4, 6, 8, 10, 12, -14, -16]\n",
        "\n",
        "*Hint: You need to create a third list to store the even elements of the given lists.*\n",
        "\n"
      ]
    },
    {
      "cell_type": "code",
      "execution_count": null,
      "metadata": {
        "id": "oL_kqD-SyBwy",
        "outputId": "f276ba6c-1c98-4607-e70a-daa2c77631da"
      },
      "outputs": [
        {
          "name": "stdout",
          "output_type": "stream",
          "text": [
            "[2, 4, 6, 8, 10, 12, -14, -16]\n"
          ]
        }
      ],
      "source": [
        "#Todo\n",
        "list_one = [1, 2, 3, 4, 5, 6, 7, 8, 9]\n",
        "list_two = [10, 11, 12, -13, -14, -15, -16]\n",
        "even = []\n",
        "for i  in list_one:\n",
        "    if (i%2 == 0):\n",
        "        even.append(i)\n",
        "for j in list_two:\n",
        "    if (j%2 == 0):\n",
        "        even.append(j)\n",
        "    \n",
        "print(even)"
      ]
    },
    {
      "cell_type": "markdown",
      "metadata": {
        "id": "11hV7TYVyBwz"
      },
      "source": [
        "### Task 10\n",
        "\n",
        "Assume, you have been given two lists.\\\n",
        "list_one = [1, 2 , 2, 4, 5, 5, 7, 99, 200, 303, 70]\\\n",
        "list_two = [1, 1, 2, 3, 3, 3, 4, 5, 200, 500, -5]\n",
        "\n",
        "Write a Python program that creates a new list with all the unique elements of both the given lists. You make sure no duplicates are in the result list and finally print the result list.\n",
        "\n",
        "Output: \n",
        "[1, 2, 4, 5, 7, 99, 200, 303, 70, 3, 500, -5]\n",
        "\n",
        "*Hint:You need to create a third list to store the results. Use membership operators (in, not in) to make sure no duplicates are added.*\n",
        "\n"
      ]
    },
    {
      "cell_type": "code",
      "execution_count": null,
      "metadata": {
        "id": "ODt0mLZMyBwz",
        "outputId": "a5533ad6-3103-435b-c603-eeff3ca168ed"
      },
      "outputs": [
        {
          "name": "stdout",
          "output_type": "stream",
          "text": [
            "[1, 2, 4, 5, 7, 99, 200, 303, 70, 3, 500, -5]\n"
          ]
        }
      ],
      "source": [
        "#Todo\n",
        "list_one = [1, 2 , 2, 4, 5, 5, 7, 99, 200, 303, 70]\n",
        "list_two = [1, 1, 2, 3, 3, 3, 4, 5, 200, 500, -5]\n",
        "new_list = list_one + list_two\n",
        "unique_list = []\n",
        "for i in new_list:\n",
        "    if i not in unique_list:\n",
        "        unique_list.append(i)\n",
        "\n",
        "print(unique_list)"
      ]
    },
    {
      "cell_type": "markdown",
      "metadata": {
        "id": "W3YwkHDeyBw0"
      },
      "source": [
        "### Task 11\n",
        "\n",
        "Write a Python program that reads 5 numbers into a list and prints the largest number and its location on the list. <font color='red'>[You are not allowed to use the max() function here]</font>\n",
        "\n",
        "**Example:**\\\n",
        "Input: 7, 13, 2, 10, 6\\\n",
        "Output:\\\n",
        "“list: [7, 13, 2, 10, 6]”\\\n",
        "“Largest number 13 was found at location 1”.\n",
        "\n",
        "*Hint: Assume, the first input to be the largest value initially and the location of first input which is 0 to be the initial value of the largest value’s location.\n",
        "You need to be careful while printing the output. Depending on your code might need data conversion.*\n"
      ]
    },
    {
      "cell_type": "code",
      "execution_count": null,
      "metadata": {
        "id": "W5E2WNR2yBw0",
        "outputId": "9579e0ef-0cb2-47c5-9840-2cd01bfce47a"
      },
      "outputs": [
        {
          "name": "stdout",
          "output_type": "stream",
          "text": [
            " Enter a number = 7\n",
            " Enter a number = 13\n",
            " Enter a number = 2\n",
            " Enter a number = 10\n",
            " Enter a number = 6\n",
            " list:  [7, 13, 2, 10, 6]\n",
            "Largest number  13 was found at location 1\n"
          ]
        }
      ],
      "source": [
        "#Todo\n",
        "list = []\n",
        "count = 0\n",
        "i = 1\n",
        "j = 0\n",
        "position = 0\n",
        "while i <=5:\n",
        "    x = int(input(\" Enter a number = \"))\n",
        "    list.append(x)\n",
        "    i = i + 1\n",
        "    count = count + 1\n",
        "    \n",
        "largest = list[0]\n",
        "while j<5:\n",
        "    if (largest < list[j]):\n",
        "        largest = list[j]\n",
        "        position = j\n",
        "        \n",
        "    j = j+1\n",
        "\n",
        "print(\" list: \",list)\n",
        "print(\"Largest number \",largest,\"was found at location\",position )"
      ]
    },
    {
      "cell_type": "markdown",
      "metadata": {
        "id": "q3dPGXyNyBw1"
      },
      "source": [
        "### Task 12\n",
        "\n",
        "Write a Python program that reads 5 numbers into a list and prints the smallest and largest number and their location in the list. <font color='red'>[You are not allowed to use the max() and min() function here]</font>\n",
        "\n",
        "**Example:**\\\n",
        "If the user enters 7, 13, -5, 10, 6 then your program should print\\\n",
        "“list: [7, 13, -5, 10, 6]”\\\n",
        "“Smallest number -5 was found at location 2”.\\\n",
        "“Largest number 13 was found at location 1”.\n",
        "\n",
        "*Hint: Assume, the first input to be the largest value and the location of the first input which is 0 to be the initial value of the largest value’s location. Similarly, assume the first input to be the smallest value and the location of the first input which is 0 to be the initial value of the smallest value’s location.\n",
        "You need to be careful while printing the output. Depending on your code might need data conversion.*\n"
      ]
    },
    {
      "cell_type": "code",
      "execution_count": null,
      "metadata": {
        "id": "uJ3-pionyBw1",
        "outputId": "b0d9addf-3d64-4dfb-f76c-5811f5aa80d1"
      },
      "outputs": [
        {
          "name": "stdout",
          "output_type": "stream",
          "text": [
            " Enter a number = -1\n",
            " Enter a number = 100\n",
            " Enter a number = -2\n",
            " Enter a number = 200\n",
            " Enter a number = -3\n",
            " list:  [-1, 100, -2, 200, -3]\n",
            "Smallest number  -3 was found at location 4\n",
            "Largest number  200 was found at location 3\n"
          ]
        }
      ],
      "source": [
        "#Todo\n",
        "list = []\n",
        "count = 0\n",
        "i = 1\n",
        "j = 0\n",
        "z = 0\n",
        "position = 0\n",
        "while i <=5:\n",
        "    x = int(input(\" Enter a number = \"))\n",
        "    list.append(x)\n",
        "    i = i + 1\n",
        "    count = count + 1\n",
        "    \n",
        "largest = list[0]\n",
        "while j<5:\n",
        "    if (largest < list[j]):\n",
        "        largest = list[j]\n",
        "        position = j\n",
        "        \n",
        "    j = j+1\n",
        "\n",
        "smallest = list[0]\n",
        "while z<5:\n",
        "    if (smallest > list[z]):\n",
        "        smallest = list[z]\n",
        "        position1 = z\n",
        "        \n",
        "    z = z+1\n",
        "\n",
        "\n",
        "print(\" list: \",list)\n",
        "print(\"Smallest number \",smallest,\"was found at location\",position1 )\n",
        "print(\"Largest number \",largest,\"was found at location\",position )"
      ]
    },
    {
      "cell_type": "code",
      "execution_count": null,
      "metadata": {
        "id": "QaNdZ0EwyBw1"
      },
      "outputs": [],
      "source": [
        ""
      ]
    }
  ],
  "metadata": {
    "kernelspec": {
      "display_name": "Python 3",
      "language": "python",
      "name": "python3"
    },
    "language_info": {
      "codemirror_mode": {
        "name": "ipython",
        "version": 3
      },
      "file_extension": ".py",
      "mimetype": "text/x-python",
      "name": "python",
      "nbconvert_exporter": "python",
      "pygments_lexer": "ipython3",
      "version": "3.7.6"
    },
    "colab": {
      "name": "CSE110 Assignment03.ipynb",
      "provenance": []
    }
  },
  "nbformat": 4,
  "nbformat_minor": 0
}