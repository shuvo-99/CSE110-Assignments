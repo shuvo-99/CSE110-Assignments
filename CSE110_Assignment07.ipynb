{
  "cells": [
    {
      "cell_type": "markdown",
      "metadata": {
        "id": "oMYzsTcnHEll"
      },
      "source": [
        "# CSE110 Assignment 7\n",
        "\n",
        "\n",
        "## Write the Python code of the following problems:\n",
        "**<font color='red'>[MUST MAINTAIN VARIABLE NAMING CONVENTIONS FOR ALL THE TASKS]</font>**"
      ]
    },
    {
      "cell_type": "markdown",
      "metadata": {
        "id": "jT-t2zlnHEll"
      },
      "source": [
        "### Task 1\n",
        "\n",
        "Given a list named my_list. <br/>\n",
        "my_list=[10,1,20,3,6,2,5,11,15,2,12,14,17,18,29] <br/>\n",
        "Now use bubble sort to sort my_list into ascending order.\n",
        "\n",
        "**Output**<br/>\n",
        "[1, 2, 2, 3, 5, 6, 10, 11, 12, 14, 15, 17, 18, 20, 29]"
      ]
    },
    {
      "cell_type": "code",
      "execution_count": null,
      "metadata": {
        "id": "7qXVakLgHElm",
        "outputId": "398f7a8c-ffd3-4b56-d34d-d23a64e7c6be"
      },
      "outputs": [
        {
          "name": "stdout",
          "output_type": "stream",
          "text": [
            "[1, 2, 2, 3, 5, 6, 10, 11, 12, 14, 15, 17, 18, 20, 29]\n"
          ]
        }
      ],
      "source": [
        "#todo\n",
        "my_list=[10,1,20,3,6,2,5,11,15,2,12,14,17,18,29] \n",
        "for i in range(len(my_list)-1,0,-1):\n",
        "    for j in range(i):\n",
        "        if my_list[j]>my_list[j+1]:\n",
        "            temp = my_list[j]\n",
        "            my_list[j]=my_list[j+1]\n",
        "            my_list[j+1]=temp\n",
        "print(my_list)            "
      ]
    },
    {
      "cell_type": "markdown",
      "metadata": {
        "id": "w1QgeWd2HElp"
      },
      "source": [
        "### Task 2\n",
        "\n",
        "Given a list named my_list. <br/>\n",
        "my_list=[10,1,20,3,6,2,5,11,15,2,12,14,17,18,29] <br/>\n",
        "Now use selection sort to sort my_list into ascending order.\n",
        "\n",
        "**Output**<br/>\n",
        "[1, 2, 2, 3, 5, 6, 10, 11, 12, 14, 15, 17, 18, 20, 29]\n",
        "\n"
      ]
    },
    {
      "cell_type": "code",
      "execution_count": null,
      "metadata": {
        "id": "am0B_8ICHElq",
        "outputId": "75225ac4-b6c5-4bd0-a1e0-278816c31f9c"
      },
      "outputs": [
        {
          "name": "stdout",
          "output_type": "stream",
          "text": [
            "[1, 2, 2, 3, 5, 6, 10, 11, 12, 14, 15, 17, 18, 20, 29]\n"
          ]
        }
      ],
      "source": [
        "#todo\n",
        "my_list=[10,1,20,3,6,2,5,11,15,2,12,14,17,18,29]\n",
        "for i in range(len(my_list)):\n",
        "    min = my_list[i]\n",
        "    min_index = i\n",
        "    for j in range(i+1,len(my_list)):\n",
        "        if my_list[j]<min:\n",
        "            min = my_list[j]\n",
        "            min_index = j\n",
        "    temp = my_list[min_index]\n",
        "    my_list[min_index]=my_list[i]\n",
        "    my_list[i]=temp \n",
        "print(my_list)    "
      ]
    },
    {
      "cell_type": "markdown",
      "metadata": {
        "id": "j4ffr2CAHElt"
      },
      "source": [
        "### Task  3\n",
        "\n",
        "Given a list named my_list. <br/>\n",
        "my_list=[10,1,20,3,6,2,5,11,15,2,12,14,17,18,29] <br/>\n",
        "Now use any of the two sorts used above to sort the list in descending order.\n",
        "\n",
        "**Output**<br/>\n",
        "[29, 20, 18, 17, 15, 14, 12, 11, 10, 6, 5, 3, 2, 2, 1]\n"
      ]
    },
    {
      "cell_type": "code",
      "execution_count": null,
      "metadata": {
        "id": "n2X3YR-_HElt",
        "outputId": "d2e27f82-8edd-42c9-9e9b-28cf5daf7bf4"
      },
      "outputs": [
        {
          "name": "stdout",
          "output_type": "stream",
          "text": [
            "[29, 20, 18, 17, 15, 14, 12, 11, 10, 6, 5, 3, 2, 2, 1]\n"
          ]
        }
      ],
      "source": [
        "#todo\n",
        "my_list=[10,1,20,3,6,2,5,11,15,2,12,14,17,18,29]\n",
        "for i in range(len(my_list)):\n",
        "    max = my_list[i]\n",
        "    max_index = i\n",
        "    for j in range(i+1,len(my_list)):\n",
        "        if my_list[j]>max:\n",
        "            max = my_list[j]\n",
        "            max_index = j\n",
        "    temp = my_list[max_index]\n",
        "    my_list[max_index]=my_list[i]\n",
        "    my_list[i]=temp \n",
        "print(my_list)"
      ]
    },
    {
      "cell_type": "markdown",
      "metadata": {
        "id": "9iYiiTWWHElw"
      },
      "source": [
        "### Task 4\n",
        "\n",
        "Suppose you have a sitting arrangement of the students of the final exam in a list. The list contains the last two digits of their roll number.<br/>\n",
        "\n",
        "sitting_list=[10,30,20,70,11,15,22,16,58,100,12,56,70,80] <br/>\n",
        "\n",
        "Now you want to organize the sitting arrangement. You decided to sort all the students in the even indices into ascending order and all the students in the odd indices  into descending order.  <br/>\n",
        "\n",
        "So write a python program that organizes the list for you the way you decided.<br/>\n",
        "\n",
        "\n",
        "**Sample Output**<br/>\n",
        "[10, 100, 11, 80, 12, 70, 20, 56, 22, 30, 58, 16, 70, 15]"
      ]
    },
    {
      "cell_type": "code",
      "execution_count": null,
      "metadata": {
        "id": "nPdUAKDJHElw"
      },
      "outputs": [],
      "source": [
        "#todo\n",
        "sitting_list = [10,30,20,70,11,15,22,16,58,100,12,56,70,80] \n",
        "even_sitting_list = [] \n",
        "odd_sitting_list = [] \n",
        "k=0\n",
        "for i in range(0, len(sitting_list)): \n",
        "    if i % 2==0: \n",
        "        even_sitting_list.append(sitting_list[i])\n",
        "        for j in range(len(even_sitting_list)):\n",
        "            min = even_sitting_list[j]\n",
        "            min_index = j\n",
        "            for k in range(j+1,len(even_sitting_list)):\n",
        "                if even_sitting_list[k]<min:\n",
        "                    min = even_sitting_list[k]\n",
        "                    min_index = k\n",
        "            temp = even_sitting_list[min_index]\n",
        "            even_sitting_list[min_index]=even_sitting_list[j]\n",
        "            even_sitting_list[j]=temp\n",
        "    else : \n",
        "        odd_sitting_list.append(sitting_list[i]) \n",
        "        for j in range(len(odd_sitting_list)):\n",
        "            max = odd_sitting_list[j]\n",
        "            max_index = j\n",
        "            for k in range(j+1,len(odd_sitting_list)):\n",
        "                if odd_sitting_list[k]>max:\n",
        "                    max = odd_sitting_list[k]\n",
        "                    max_index = k\n",
        "            temp = odd_sitting_list[max_index]\n",
        "            odd_sitting_list[max_index]=odd_sitting_list[j]\n",
        "            odd_sitting_list[j]=temp\n",
        "        \n",
        "  \n",
        "res =[]\n",
        "j=0\n",
        "if len(sitting_list)-1%2==0:\n",
        "    z = len(sitting_list)-2\n",
        "else:\n",
        "    z = len(sitting_list)-1 \n",
        "for i in range(0,len(sitting_list),2):\n",
        "    res.append(even_sitting_list[j])\n",
        "    res.append(odd_sitting_list[j])\n",
        "    j=j+1\n",
        "\n",
        "print(res)"
      ]
    },
    {
      "cell_type": "markdown",
      "metadata": {
        "id": "oVR1Tsa0HElz"
      },
      "source": [
        "### Task 5\n",
        "\n",
        "Suppose a list contains the final exam results of CSE110, PHY111, and MAT110 of each student in a listed form. Your task is to sort the list based on a course name that will be given by the user and print the names after sorting. <br/>\n",
        "\n",
        "For example, a list looks like <br/>\n",
        "Lst = [ [‘Farzad’,95,87,91] , [‘Mahjabin’,92,90,83], [‘Sadman’,87,92,80], [‘Nakhla’,85,94,90] ] <br/>\n",
        "where for each list, 1st index is name, 2nd index is CSE110, 3rd index is PHY111 and 4th index is MAT110. \n",
        "\n",
        "**Sample Input**<br/>\n",
        "MAT110\n",
        "\n",
        "**Sample Output**<br/>\n",
        "Farzad <br/>\n",
        "Nakhla <br/>\n",
        "Mahjabin <br/>\n",
        "Sadman\n",
        "\n",
        "**Hint:**<br/>\n",
        "Nested list can be accessed by listname[firstIndex][secondIndex] like lst[0][0] will give Farzad\n"
      ]
    },
    {
      "cell_type": "code",
      "execution_count": null,
      "metadata": {
        "id": "539b2P1NHElz",
        "outputId": "fe9af2ad-214c-44c5-9f1e-dca8ae79cff6"
      },
      "outputs": [
        {
          "name": "stdout",
          "output_type": "stream",
          "text": [
            "Enter the course name = MAT110\n",
            "Farzad\n",
            "Nakhla\n",
            "Mahjabin\n",
            "Sadman\n"
          ]
        }
      ],
      "source": [
        "#todo\n",
        "def result(lst):\n",
        "    \n",
        "    course = input(\"Enter the course name = \").lower()\n",
        "    \n",
        "    dict_CSE110 = {lst[0][1]:lst[0][0],lst[1][1]:lst[1][0],lst[2][1]:lst[2][0],lst[3][1]:lst[3][0]}\n",
        "    sorted_dict_CSE110 = sorted(dict_CSE110, reverse = True)\n",
        "\n",
        "    dict_PHY111 = {lst[0][2]:lst[0][0],lst[1][2]:lst[1][0],lst[2][2]:lst[2][0],lst[3][2]:lst[3][0]}\n",
        "    sorted_dict_PHY111 = sorted(dict_PHY111, reverse = True)\n",
        "\n",
        "    dict_MAT110 = {lst[0][3]:lst[0][0],lst[1][3]:lst[1][0],lst[2][3]:lst[2][0],lst[3][3]:lst[3][0]}\n",
        "    sorted_dict_MAT110 = sorted(dict_MAT110, reverse = True)\n",
        "\n",
        "    if course == 'cse110':\n",
        "        for i in sorted_dict_CSE110:\n",
        "            print(dict_CSE110[i])\n",
        "    elif course == 'phy111':\n",
        "        for j in sorted_dict_PHY111:\n",
        "            print(dict_PHY111[j])\n",
        "    elif course == 'mat110':\n",
        "        for k in sorted_dict_MAT110:\n",
        "            print(dict_MAT110[k])\n",
        "    else:\n",
        "        print(\"Invalid Course\")\n",
        "\n",
        "lst = [ ['Farzad',95,87,91] , ['Mahjabin',92,90,83], ['Sadman',87,92,80], ['Nakhla',85,94,90] ]\n",
        "\n",
        "result(lst)\n"
      ]
    },
    {
      "cell_type": "markdown",
      "metadata": {
        "id": "B0Rqbyi4HEl2"
      },
      "source": [
        "### Task 6\n",
        "\n",
        "Suppose you have a list named my_list. Your task is to sort the list and print the count of numbers that have changed their position. <br/>\n",
        "my_list = [4,2,3,1,6,5] <br/>\n",
        "Sorted list would be [1,2,3,4,5,6] where 4 numbers have changed their position.\n",
        "\n",
        "\n",
        "**Sample Output**<br/>\n",
        "4"
      ]
    },
    {
      "cell_type": "code",
      "execution_count": null,
      "metadata": {
        "id": "AMc8jAa7HEl2",
        "outputId": "38524d5e-a21b-49c2-a991-4b040a9cf2d3"
      },
      "outputs": [
        {
          "name": "stdout",
          "output_type": "stream",
          "text": [
            "4\n"
          ]
        }
      ],
      "source": [
        "#todo\n",
        "my_list = [4,2,3,1,6,5]\n",
        "\n",
        "for i in range(len(my_list)):\n",
        "    min = my_list[i]\n",
        "    min_index = i\n",
        "    for j in range(i+1,len(my_list)):\n",
        "        if my_list[j]<min:\n",
        "            min = my_list[j]\n",
        "            min_index = j\n",
        "    temp = my_list[min_index]\n",
        "    my_list[min_index]=my_list[i]\n",
        "    my_list[i]=temp\n",
        "\n",
        "new_list = [4,2,3,1,6,5]\n",
        "\n",
        "j = 0\n",
        "\n",
        "list_1 = []\n",
        "\n",
        "for i in new_list:\n",
        "    if i != my_list[j]:\n",
        "        list_1.append(j)\n",
        "        j += 1\n",
        "        \n",
        "length = len(list_1)        \n",
        "\n",
        "print(length)"
      ]
    },
    {
      "cell_type": "markdown",
      "metadata": {
        "id": "iIH5n0sJHEl5"
      },
      "source": [
        "### Task 7\n",
        "\n",
        "Write a python program that takes two lists from the user, merges the two lists, sorts the list, and find the median of the elements of the two lists.\n",
        "\n",
        "**Sample Input 1**<br/>\n",
        "list_one= [1,2,1,4] <br/>\n",
        "list_two= [5,4,1]\n",
        "\n",
        "\n",
        "**Sample Output 1**<br/>\n",
        "Sorted list= [1, 1, 1, 2, 4, 4, 5] <br/>\n",
        "Median = 2\n",
        "\n",
        "**Sample Input 2**<br/>\n",
        "list_one= [1,7,9,10] <br/>\n",
        "list_two= [2,7,6,5]\n",
        "\n",
        "\n",
        "**Sample Output 2**<br/>\n",
        "Sorted list=[1, 2, 5, 6, 7, 7, 9, 10] <br/>\n",
        "Median=6.5\n",
        "\n"
      ]
    },
    {
      "cell_type": "code",
      "execution_count": null,
      "metadata": {
        "id": "KsFxC7XbHEl6",
        "outputId": "d3fb4201-f873-4422-9160-c5feae31379e"
      },
      "outputs": [
        {
          "name": "stdout",
          "output_type": "stream",
          "text": [
            "Enter how many elements you want in 1st List = 4\n",
            " Enter the Elements = 1\n",
            " Enter the Elements = 7\n",
            " Enter the Elements = 9\n",
            " Enter the Elements = 10\n",
            "Enter how many elements you want in 2nd List = 4\n",
            " Enter the Elements = 2\n",
            " Enter the Elements = 7\n",
            " Enter the Elements = 6\n",
            " Enter the Elements = 5\n",
            "Sorted list =  [1, 2, 5, 6, 7, 7, 9, 10]\n",
            "Median =  6.5\n"
          ]
        }
      ],
      "source": [
        "#todo\n",
        "list_one = []\n",
        "num1 = int(input(\"Enter how many elements you want in 1st List = \"))\n",
        "i = 1\n",
        "while i <=num1:\n",
        "    x = int(input(\" Enter the Elements = \"))\n",
        "    list_one.append(x)\n",
        "    i = i + 1\n",
        "list_two= []\n",
        "num2 = int(input(\"Enter how many elements you want in 2nd List = \"))\n",
        "i = 1\n",
        "while i <=num2:\n",
        "    x = int(input(\" Enter the Elements = \"))\n",
        "    list_two.append(x)\n",
        "    i = i + 1\n",
        "my_list = list_two + list_one\n",
        "for i in range(len(my_list)):\n",
        "    min = my_list[i]\n",
        "    min_index = i\n",
        "    for j in range(i+1,len(my_list)):\n",
        "        if my_list[j]<min:\n",
        "            min = my_list[j]\n",
        "            min_index = j\n",
        "            \n",
        "    temp = my_list[min_index]\n",
        "    my_list[min_index]=my_list[i]\n",
        "    my_list[i]=temp\n",
        "print(\"Sorted list = \", my_list)    \n",
        "length = len(my_list)\n",
        "if length%2!=0:\n",
        "    median_index = int((length-1+1)/2)\n",
        "    print(\"Median = \", my_list[median_index])\n",
        "else:\n",
        "    median_index_1 = int((length-1)/2)\n",
        "    median_index_2 = int(((length-1)/2)+1)\n",
        "    print(\"Median = \",(my_list[median_index_1]+my_list[median_index_2])/2)\n"
      ]
    },
    {
      "cell_type": "markdown",
      "metadata": {
        "id": "-XKiwBR1HEl8"
      },
      "source": [
        "### Task 8\n",
        "\n",
        "\n",
        "Write a python program that takes a list from user containing both positive and negative numbers. The program then finds two pairs of values whose summation is closest to zero.\n",
        "\n",
        "**Sample Input 1**<br/>\n",
        "list_one=[-10,15,2,4,-4,7,-8] \n",
        "\n",
        "\n",
        "**Sample Output 1**<br/>\n",
        "Two pairs which have the smallest sum = 4 and -4\n",
        "\n",
        "\n",
        "**Sample Input 2**<br/>\n",
        "list_one=[1,-8,4,-7,-20,26,70,-85]\n",
        "\n",
        "\n",
        "**Sample Output 2**<br/>\n",
        "Two pairs which have the smallest sum = 4 and -7"
      ]
    },
    {
      "cell_type": "code",
      "execution_count": null,
      "metadata": {
        "id": "5ORSGa5GHEl9",
        "outputId": "c0e8858f-efc2-4014-a31e-32f88f7e7888"
      },
      "outputs": [
        {
          "name": "stdout",
          "output_type": "stream",
          "text": [
            "Enter how many elements you want in List = 8\n",
            " Enter the Elements = 1\n",
            " Enter the Elements = -8\n",
            " Enter the Elements = 4\n",
            " Enter the Elements = -7\n",
            " Enter the Elements = -20\n",
            " Enter the Elements = 26\n",
            " Enter the Elements = 70\n",
            " Enter the Elements = -85\n",
            "Two pairs which have the smallest sum =  4 and -7\n"
          ]
        }
      ],
      "source": [
        "#todo\n",
        "def sum_pair(arr, n): \n",
        "    my_list.sort()\n",
        "    l = 0\n",
        "    r = n - 1\n",
        "    min_l = l \n",
        "    min_r = n - 1\n",
        "    sum = 0\n",
        "    min_sum = 10**9\n",
        "    \n",
        "    if(n < 2): \n",
        "        print(\"Invalid Input\", end = \"\") \n",
        "        return\n",
        "    \n",
        "    while(l < r): \n",
        "        sum = arr[l] + arr[r] \n",
        " \n",
        "        if(abs(sum) < abs(min_sum)): \n",
        "            min_sum = sum\n",
        "            min_l = l \n",
        "            min_r = r \n",
        "        if(sum < 0): \n",
        "            l += 1\n",
        "        else: \n",
        "            r -= 1\n",
        "  \n",
        "    print(\"Two pairs which have the smallest sum = \", my_list[min_r], \"and\", my_list[min_l]) \n",
        "\n",
        "my_list = []\n",
        "num = int(input(\"Enter how many elements you want in List = \"))\n",
        "i = 1\n",
        "while i <=num:\n",
        "    x = int(input(\" Enter the Elements = \"))\n",
        "    my_list.append(x)\n",
        "    i = i + 1\n",
        "sum_pair(my_list, num)"
      ]
    },
    {
      "cell_type": "code",
      "execution_count": null,
      "metadata": {
        "id": "VKSOPNN60WKu"
      },
      "outputs": [],
      "source": [
        "\n"
      ]
    }
  ],
  "metadata": {
    "colab": {
      "collapsed_sections": [],
      "name": "20301301_Md. Anonto Shuvo_10_CSE110 Assignment07.ipynb",
      "provenance": []
    },
    "kernelspec": {
      "display_name": "Python 3",
      "language": "python",
      "name": "python3"
    },
    "language_info": {
      "codemirror_mode": {
        "name": "ipython",
        "version": 3
      },
      "file_extension": ".py",
      "mimetype": "text/x-python",
      "name": "python",
      "nbconvert_exporter": "python",
      "pygments_lexer": "ipython3",
      "version": "3.7.6"
    }
  },
  "nbformat": 4,
  "nbformat_minor": 0
}