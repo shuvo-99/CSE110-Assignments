{
  "cells": [
    {
      "cell_type": "markdown",
      "metadata": {
        "id": "U4PRkuyUtDRw"
      },
      "source": [
        "# CSE110 Assignment 4\n",
        "\n",
        "\n",
        "## Write the Python code of the following problems:\n",
        "**<font color='red'>[MUST MAINTAIN VARIABLE NAMING CONVENTIONS FOR ALL THE TASKS]</font>**\n"
      ]
    },
    {
      "cell_type": "markdown",
      "metadata": {
        "id": "PD425BrvtDRy"
      },
      "source": [
        "## Part 1: Tuple"
      ]
    },
    {
      "cell_type": "markdown",
      "metadata": {
        "id": "FNOorLYXtDRz"
      },
      "source": [
        "### Task 1\n",
        "\n",
        "Assume, you have been given a tuple.\n",
        "\n",
        "a_tuple = (\"The Institute\",\\\n",
        "        (\"Best Mystery & Thriller\", \"The Silent Patient\", 68821),\\\n",
        "        75717,\\\n",
        "        [1, 2, 3, 400, 5, 6, 7],\\\n",
        "        (\"Best Fiction\", \"The Testaments\", 98291)\\\n",
        ")\n",
        "\n",
        "Write **one line** of Python code to access and print the value 400.\n",
        "\n",
        "Output: 400\n",
        "\n"
      ]
    },
    {
      "cell_type": "code",
      "execution_count": null,
      "metadata": {
        "id": "NDKB1cIMtDR0",
        "outputId": "b993d744-9e95-4337-c7ac-1c2993cd3e06"
      },
      "outputs": [
        {
          "name": "stdout",
          "output_type": "stream",
          "text": [
            "400\n"
          ]
        }
      ],
      "source": [
        "#TODO\n",
        "a_tuple =  (\"The Institute\",\n",
        "(\"Best Mystery & Thriller\", \"The Silent Patient\", 68821),\n",
        "75717,\n",
        "[1, 2, 3, 400, 5, 6, 7],\n",
        "(\"Best Fiction\", \"The Testaments\", 98291))\n",
        "                       \n",
        "\n",
        "print(a_tuple[3][3])"
      ]
    },
    {
      "cell_type": "markdown",
      "metadata": {
        "id": "BXlIw1svtDR-"
      },
      "source": [
        "### Task 2\n",
        "\n",
        "Assume, you have been given a tuple.\n",
        "\n",
        "a_tuple =  (10, 20, 24, 25, 26, 35, 70)\n",
        "\n",
        "Write a Python program that creates a **new tuple** excluding the first and last two elements of the given tuple and prints the new tuple. \n",
        "\n",
        "Output: (24, 25, 26)\n",
        "\n",
        "*Hint: You need to use tuple slicing.*\n"
      ]
    },
    {
      "cell_type": "code",
      "execution_count": null,
      "metadata": {
        "id": "FTJ-5AmNtDR_",
        "outputId": "ed51475c-8859-44f6-92c0-d8ad7f6cb8b0"
      },
      "outputs": [
        {
          "name": "stdout",
          "output_type": "stream",
          "text": [
            "(24, 25, 26)\n"
          ]
        }
      ],
      "source": [
        "#Todo\n",
        "a_tuple = (10,20,24,25,26,35,70)\n",
        "new_tuple = (a_tuple[2:-2])\n",
        "print(new_tuple)\n"
      ]
    },
    {
      "cell_type": "markdown",
      "metadata": {
        "id": "Z3GS2TE6tDSG"
      },
      "source": [
        "### Task 3\n",
        "\n",
        "Assume, you have been given a tuple. \n",
        "\n",
        "\n",
        "book_info = (\\\n",
        "    (\"Best Mystery & Thriller\",\"The Silent Patient\",68,821),\\\n",
        "    (\"Best Horror\",\"The Institute\",75,717),\\\n",
        "    (\"Best History & Biography\",\"The five\",31,783 ),\\\n",
        "    (\"Best Fiction\",\"The Testaments\",98,291)\\\n",
        ")\n",
        "\n",
        "Write a Python program that prints its size and all its elements.\n",
        "\n",
        "Output:\\\n",
        "Size of the tuple is: 4\\\n",
        "('Best Mystery & Thriller', 'The Silent Patient', 68, 821)\\\n",
        "('Best Horror', 'The Institute', 75, 717)\\\n",
        "('Best History & Biography', 'The five', 31, 783)\\\n",
        "('Best Fiction', 'The Testaments', 98, 291)\n"
      ]
    },
    {
      "cell_type": "code",
      "execution_count": null,
      "metadata": {
        "id": "RPFYcAjntDSG",
        "outputId": "c2c74125-a6cd-4495-b739-c752b7f2f3de"
      },
      "outputs": [
        {
          "name": "stdout",
          "output_type": "stream",
          "text": [
            "Size of the tuple is : 4\n",
            "('Best Mystery & Thriller', 'The Silent Patient', 68, 821)\n",
            "('Best Horror', 'The Institute', 75, 717)\n",
            "('Best History & Biography', 'The five', 31, 783)\n",
            "('Best Fiction', 'The Testaments', 98, 291)\n"
          ]
        }
      ],
      "source": [
        "#Todo\n",
        "book_info = (\n",
        "(\"Best Mystery & Thriller\",\"The Silent Patient\",68,821),\n",
        "(\"Best Horror\",\"The Institute\",75,717),\n",
        "(\"Best History & Biography\",\"The five\",31,783 ),\n",
        "(\"Best Fiction\",\"The Testaments\",98,291)\n",
        ")\n",
        "length = len(book_info)\n",
        "print(\"Size of the tuple is :\",length )\n",
        "count = 0\n",
        "while count<length:\n",
        "    print(book_info[count])\n",
        "    count += 1\n",
        "    "
      ]
    },
    {
      "cell_type": "markdown",
      "metadata": {
        "id": "glKgAPlGtDSK"
      },
      "source": [
        "### Task 4\n",
        "\n",
        "Assume, you have been given a tuple. \n",
        "\n",
        "book_info = (\\\n",
        "    (\"Best Mystery & Thriller\",\"The Silent Patient\",68821),\\\n",
        "    (\"Best Horror\",\"The Institute\",75717),\\\n",
        "    (\"Best History & Biography\",\"The five\",31783 ),\\\n",
        "    (\"Best Fiction\",\"The Testaments\",98291)\\\n",
        ")\n",
        "\n",
        "Write a Python program that prints the information about the Good Reads Choice Awards from a tuple. Your program should print the award category, the book name, and its total votes needed for the win.\n",
        "\n",
        "**Output:**\\\n",
        "The Silent Patient won the 'Best Mystery & Thriller' category with 68821 votes\\\n",
        "The Institute won the 'Best Horror' category with 75717 votes\\\n",
        "The five won the 'Best History & Biography' category with 31783 votes\\\n",
        "The Testaments won the 'Best Fiction' category with 98291 votes\n",
        "\n",
        "*Hint: You need to handle the quotation marks as a part of the output.*\n",
        "**<font color='red'>[Must use Tuple unpacking for printing.]</font>**\n",
        "\n",
        "\n"
      ]
    },
    {
      "cell_type": "code",
      "execution_count": null,
      "metadata": {
        "id": "LgTKpSGatDSM",
        "outputId": "a26f822c-edd5-4a21-ac2e-ff16de2bd2b4"
      },
      "outputs": [
        {
          "name": "stdout",
          "output_type": "stream",
          "text": [
            "The Silent Patient won the Best Mystery & Thriller category with 68821 votes\n",
            " The Institute won the Best Horror category with 75717 votes\n",
            " The five won the Best History & Biography category with 31783 votes\n",
            " The Testaments won the Best Fiction category with 98291 votes\n",
            "\n"
          ]
        }
      ],
      "source": [
        "#Todo\n",
        "book_info = (\n",
        "(\"Best Mystery & Thriller\",\"The Silent Patient\",68821),\n",
        "(\"Best Horror\",\"The Institute\",75717),\n",
        "(\"Best History & Biography\",\"The five\",31783 ),\n",
        "(\"Best Fiction\",\"The Testaments\",98291)\n",
        ")\n",
        "(a,b,c),(d,e,f),(g,h,i),(j,k,l)=book_info\n",
        "print(b,\"won the\",a,\"category with\",c,\"votes\\n\",\n",
        "e,\"won the\",d,\"category with\",f,\"votes\\n\",\n",
        "h,\"won the\",g,\"category with\",i,\"votes\\n\",\n",
        "k,\"won the\",j,\"category with\",l,\"votes\\n\",    \n",
        "    )"
      ]
    },
    {
      "cell_type": "markdown",
      "metadata": {
        "id": "hoElNRL6tDSR"
      },
      "source": [
        "### Task 5\n",
        "\n",
        "Assume, you have been given a tuple.\n",
        "\n",
        "a_tuple = ( [1, 2, 3], [4, 5, 6], [7, 8, 9], [10, 11, 12])\n",
        "\n",
        "Write a Python program that asks the user for input (can be any data type) and **replaces the last element of each of the inner lists with the user given value.**\n",
        "\n",
        "**Example 1:**\\\n",
        "Input: “abc”\\\n",
        "Output: ([1, 2, 'abc'], [4, 5, 'abc'], [7, 8, 'abc'], [10, 11, 'abc'])\n",
        "\n",
        "**Example 2:**\\\n",
        "Input: 1000\\\n",
        "Output: ([1, 2, '1000'], [4, 5, '1000'], [7, 8, '1000'], [10, 11, '1000'])\n",
        "\n"
      ]
    },
    {
      "cell_type": "code",
      "execution_count": null,
      "metadata": {
        "id": "mC-B1fpStDST",
        "outputId": "abaf574a-085d-4c34-92ae-8af855ae6de6"
      },
      "outputs": [
        {
          "name": "stdout",
          "output_type": "stream",
          "text": [
            "Enter the number = abc\n",
            "([1, 2, 'abc'], [4, 5, 'abc'], [7, 8, 'abc'], [10, 11, 'abc'])\n"
          ]
        }
      ],
      "source": [
        "#Todo\n",
        "a_tuple = ( [1, 2, 3], [4, 5, 6], [7, 8, 9], [10, 11, 12])\n",
        "(a,b,c),(d,e,c),(g,h,c),(j,k,c) = a_tuple\n",
        "c = input(\"Enter the number = \")\n",
        "new_tuple = (([a,b,c]),([d,e,c]),([g,h,c]),([j,k,c]))\n",
        "print(new_tuple)\n"
      ]
    },
    {
      "cell_type": "markdown",
      "metadata": {
        "id": "km0QurTJtDSX"
      },
      "source": [
        "## Part 2: Dictionary"
      ]
    },
    {
      "cell_type": "markdown",
      "metadata": {
        "id": "QlIVub1VtDSY"
      },
      "source": [
        "### Task 6\n",
        "\n",
        "Suppose there is a dictionary of your shopping list.\n",
        "\n",
        "shopping_list = {'Chocolate': 'Hersheys', 'Cocoa  powder': 'Cadbury', 'Spread': 'Nutella'} \n",
        "\n",
        "Now write a python program to add a new key called 'Baking powder' and assign 'Foster clarks' as its value.\n",
        "\n",
        "**Output:**\\\n",
        "{'Chocolate': 'Hersheys', 'Cocoa  powder': 'Cadbury', 'Spread': 'Nutella', 'Baking powder': 'Foster clarks'}\n"
      ]
    },
    {
      "cell_type": "code",
      "execution_count": null,
      "metadata": {
        "id": "tCLaSZP-tDSZ",
        "outputId": "77902f6c-41ee-405b-ed81-90643ac4304b"
      },
      "outputs": [
        {
          "name": "stdout",
          "output_type": "stream",
          "text": [
            "{'Chocolate': 'Hersheys', 'Cocoa powder': 'Cadbury', 'Spread': 'Nutella', 'Baking powder': 'Foster clarks'}\n"
          ]
        }
      ],
      "source": [
        "#todo\n",
        "shopping_list = {'Chocolate': 'Hersheys', 'Cocoa powder': 'Cadbury', 'Spread': 'Nutella'} \n",
        "shopping_list['Baking powder'] = 'Foster clarks'\n",
        "print(shopping_list)"
      ]
    },
    {
      "cell_type": "markdown",
      "metadata": {
        "id": "kvV-HnCntDSc"
      },
      "source": [
        "### Task 7\n",
        "Suppose you are given the following two dictionaries.\\\n",
        "marks_boys = {'Harry':15, 'Draco':8, 'Nevil':19}\\\n",
        "marks_girls = {'Ginie':18, 'Luna': 14}\n",
        "\n",
        "Now create a new dictionary marks merging the two of the above dictionaries, **so that the original two dictionaries remain unchanged.**\n",
        "\n",
        "**Output:**\\\n",
        "{'Harry': 15, 'Draco': 8, 'Nevil': 19, 'Ginie': 18, 'Luna': 14}\n",
        "\n",
        "*Hint: You can use dictionary functions.*\n"
      ]
    },
    {
      "cell_type": "code",
      "execution_count": null,
      "metadata": {
        "id": "BGSyClBPtDSd",
        "outputId": "8e32cf71-f43d-4d59-f4a5-6b4eddeb97cb"
      },
      "outputs": [
        {
          "name": "stdout",
          "output_type": "stream",
          "text": [
            "{'Harry': 15, 'Draco': 8, 'Nevil': 19, 'Ginie': 18, 'Luna': 14}\n"
          ]
        }
      ],
      "source": [
        "#todo\n",
        "marks_boys = {'Harry':15, 'Draco':8, 'Nevil':19}\n",
        "marks_girls = {'Ginie':18, 'Luna': 14}\n",
        "marks = marks_boys.copy()\n",
        "marks.update(marks_girls)\n",
        "print(marks)"
      ]
    },
    {
      "cell_type": "markdown",
      "metadata": {
        "id": "QRzP4HYStDSi"
      },
      "source": [
        "### Task 8\n",
        "Write a Python program to find the average of all the values in a dictionary. <font color='red'>[ You are not allowed to use len() and sum()]</font>\n",
        "\n",
        "**Input:**\\\n",
        "salary = {'Jon': 100, 'Dan':200, 'Rob':300}\n",
        "\n",
        "**Output:**\\\n",
        "Average is 200\n",
        "\n",
        "*Hint: You can use dictionary functions to get all the values of the dictionary, then run loop to calculate the sum and the total number of values in the dictionary.*\n"
      ]
    },
    {
      "cell_type": "code",
      "execution_count": null,
      "metadata": {
        "id": "VMRLnA53tDSk",
        "outputId": "6dee77c4-a7e1-4fbc-9f4e-4ff47ec8af70"
      },
      "outputs": [
        {
          "name": "stdout",
          "output_type": "stream",
          "text": [
            " Average is =  200.0\n"
          ]
        }
      ],
      "source": [
        "#todo\n",
        "salary = {'Jon': 100, 'Dan':200, 'Rob':300}\n",
        "sum = 0\n",
        "count = 0\n",
        "for value in salary.values():\n",
        "    sum = sum + value\n",
        "    count = count + 1\n",
        "\n",
        "avg = sum/count \n",
        "print(\" Average is = \",avg)"
      ]
    },
    {
      "cell_type": "markdown",
      "metadata": {
        "id": "5NS_moXQtDSo"
      },
      "source": [
        "### Task 9\n",
        "Write a Python program that discards **duplicate elements** from the following dictionary. \n",
        "\n",
        "bank = {'customer1':101, 'customer2':102, 'customer3':101, 'customer4':103, 'customer5':102}\n",
        "\n",
        "**Output:**\\\n",
        "{'customer1': 101, 'customer2': 102, 'customer4': 103}\n",
        "\n",
        "*Hint: Think of membership operators (in and not in). You can use dictionary functions to get the values.*\n"
      ]
    },
    {
      "cell_type": "code",
      "execution_count": null,
      "metadata": {
        "id": "LUKwue_ctDSo",
        "outputId": "246ef531-2026-4a6f-a394-7e2539cf2cf1"
      },
      "outputs": [
        {
          "name": "stdout",
          "output_type": "stream",
          "text": [
            "{'customer1': 101, 'customer2': 102, 'customer4': 103}\n"
          ]
        }
      ],
      "source": [
        "#todo\n",
        "bank = {'customer1':101, 'customer2':102, 'customer3':101, 'customer4':103, 'customer5':102}\n",
        "bank2 = {}\n",
        "\n",
        "for key,value in bank.items():\n",
        "  if value not in bank2.values():\n",
        "    bank2[key] = value\n",
        " \n",
        "print(bank2)\n"
      ]
    },
    {
      "cell_type": "markdown",
      "metadata": {
        "id": "IsqFQpqKtDSs"
      },
      "source": [
        "### Task 10\n",
        "Write a Python program that finds the largest value with its key from the following dictionary. <font color='red'>[without using max() function]</font> \n",
        "\n",
        "book_shop = {'sci fi': 12, 'mystery': 15, 'horror': 8, 'mythology': 10, 'young_adult': 4, 'adventure':14}\n",
        "\n",
        "**Output:**\\\n",
        "The highest selling book genre is mystery and the number of books sold are 15\n",
        "\n",
        "*Hint: Think of membership operators (in and not in). You can use dictionary functions to get the values.*\n"
      ]
    },
    {
      "cell_type": "code",
      "execution_count": null,
      "metadata": {
        "id": "v9Kosgs4tDSt",
        "outputId": "b1c902fb-0376-4b11-9819-49c141b347c2"
      },
      "outputs": [
        {
          "name": "stdout",
          "output_type": "stream",
          "text": [
            "The highest selling book genre is mystery and the number of books sold are  15\n"
          ]
        }
      ],
      "source": [
        "#todo\n",
        "book_shop = {'sci fi': 12, 'mystery': 15, 'horror': 8, 'mythology': 10, 'young_adult': 4, 'adventure':14}\n",
        "x = book_shop.get('sci fi')\n",
        "for key,value in book_shop.items():\n",
        "    if value > x:\n",
        "        x = value\n",
        "        y = key\n",
        "print(\"The highest selling book genre is \"+ y + \" and the number of books sold are \", x)"
      ]
    },
    {
      "cell_type": "markdown",
      "metadata": {
        "id": "qozufw7itDSy"
      },
      "source": [
        "### Task 11\n",
        "Write a Python program that combines two dictionary adding values for common keys. \n",
        "**Input:**\\\n",
        "dict1 = {'a': 10, 'b':20, 'c':30}\\\n",
        "dict2 = {'a': 10, 'c':20, 'd':30, 'e':40}\n",
        "\n",
        "**Output:**\\\n",
        "{'a': 20, 'b': 20, 'c': 50, 'd': 30, 'e': 40}\n",
        "\n",
        "\n",
        "*Hint: Think of membership operators (in and not in). You can use dictionary functions to get the values. Need to create a new dictionary to store the combined items.* \n"
      ]
    },
    {
      "cell_type": "code",
      "execution_count": null,
      "metadata": {
        "id": "S0EIYODZtDSz",
        "outputId": "5396cff9-1f25-4f74-d4bc-12814807a071"
      },
      "outputs": [
        {
          "name": "stdout",
          "output_type": "stream",
          "text": [
            "{'a': 20, 'b': 20, 'c': 50, 'd': 30, 'e': 40}\n"
          ]
        }
      ],
      "source": [
        "#todo\n",
        "dict1 = {'a': 10, 'b':20, 'c':30}\n",
        "dict2 = {'a': 10, 'c':20, 'd':30, 'e':40}    \n",
        "dict3 = dict1.copy()\n",
        "dict3.update(dict2) \n",
        "  \n",
        "for key in dict2: \n",
        "    if key in dict1: \n",
        "        dict3[key] = dict2[key] + dict1[key] \n",
        "    \n",
        "print(dict3)  "
      ]
    },
    {
      "cell_type": "markdown",
      "metadata": {
        "id": "hAqjgwGNtDS2"
      },
      "source": [
        "### Task 12\n",
        "Write a Python program that takes a string as an input from the user and counts the frequency of each character using the dictionary. For solving this problem, you need to use each character as a key and its frequency as values. <font color='red'>[without using count() function]</font> \n",
        "\n",
        "\n",
        "**Input:**\\\n",
        "\"Python programming is fun\"\n",
        "\n",
        "**Output:**\\\n",
        "{'p': 2, 'y': 1, 't': 1, 'h': 1, 'o': 2, 'n': 3, 'r': 2, 'g': 2, 'a': 1, 'm': 2, 'i': 2, 's': 1, 'f': 1, 'u': 1}\n",
        "\n",
        "*Hint: Need to create a new dictionary to store the frequency. Case is ignored (P and p are considered same).*\n",
        "\n"
      ]
    },
    {
      "cell_type": "code",
      "execution_count": null,
      "metadata": {
        "id": "-m2yPIT7tDS3",
        "outputId": "07051640-77a9-4a26-f08a-505deb8859bc"
      },
      "outputs": [
        {
          "name": "stdout",
          "output_type": "stream",
          "text": [
            "Enter a string = Python programming is fun\n",
            "{'p': 2, 'y': 1, 't': 1, 'h': 1, 'o': 2, 'n': 3, 'r': 2, 'g': 2, 'a': 1, 'm': 2, 'i': 2, 's': 1, 'f': 1, 'u': 1}\n"
          ]
        }
      ],
      "source": [
        "#todo\n",
        "string = input(\"Enter a string = \").lower()\n",
        "freq = {}\n",
        "for i in string:\n",
        "    if i in freq:\n",
        "        freq[i] = freq[i]+1\n",
        "    else:\n",
        "        freq[i] = 1\n",
        "del freq[' ']\n",
        "print(freq)\n"
      ]
    },
    {
      "cell_type": "markdown",
      "metadata": {
        "id": "QWf1zsBctDS6"
      },
      "source": [
        "### Task 13\n",
        "Suppose you are given the following dictionary where its values are lists. \n",
        "\n",
        "\n",
        "dict = {'A': [1,2,3], 'b': ['1', '2'], \"c\": [4, 5, 6, 7]}\n",
        "\n",
        "Write a Python program that counts the total number of items in the dictionary’s values and prints it. <font color='red'>[without using sum() , len(), count() function]</font> \n",
        "\n",
        "**Output:**\\\n",
        "9\n",
        "\n"
      ]
    },
    {
      "cell_type": "code",
      "execution_count": null,
      "metadata": {
        "id": "atnD3A1utDS6",
        "outputId": "2b94e9ae-c41a-4f77-8b29-306b55fab5dc"
      },
      "outputs": [
        {
          "name": "stdout",
          "output_type": "stream",
          "text": [
            "9\n"
          ]
        }
      ],
      "source": [
        "#todo\n",
        "dict = {'A': [1,2,3], 'b': ['1', '2'], \"c\": [4, 5, 6, 7]}\n",
        "count = 0\n",
        "for key in dict.keys():\n",
        "    value_list = dict[key]\n",
        "    for i in value_list:\n",
        "        count+=1\n",
        "print(count)\n"
      ]
    },
    {
      "cell_type": "markdown",
      "metadata": {
        "id": "rCCFcYmPtDS-"
      },
      "source": [
        "### Task 14\n",
        "\n",
        "Write a Python program that takes a number (N) from the user and creates a dictionary with all the numbers starting from 1 to N (including) as keys and its cubes as values. Lastly, prints the dictionary.\n",
        "\n",
        "**Example1:** \n",
        "\n",
        "Input: 5\\\n",
        "Output: {1: 1, 2: 8, 3: 27, 4: 64, 5: 125}\n",
        "\n",
        "**Example2:** \n",
        "\n",
        "Input: 3\\\n",
        "Output: {1: 1, 2: 8, 3: 27}\n"
      ]
    },
    {
      "cell_type": "code",
      "execution_count": null,
      "metadata": {
        "id": "1l3nIxHltDS-",
        "outputId": "5bd1af54-5003-4da1-bfa8-9de197844222"
      },
      "outputs": [
        {
          "name": "stdout",
          "output_type": "stream",
          "text": [
            "Enter the number of elements = 5\n",
            "{1: 1, 2: 8, 3: 27, 4: 64, 5: 125}\n"
          ]
        }
      ],
      "source": [
        "#todo\n",
        "salary = {}\n",
        "n = int(input(\"Enter the number of elements = \"))\n",
        "for i in range(1,n+1):\n",
        "    k = i\n",
        "    v = i**3\n",
        "    salary.update({k:v})\n",
        "print(salary)        "
      ]
    },
    {
      "cell_type": "markdown",
      "metadata": {
        "id": "-imuPb3EtDTD"
      },
      "source": [
        "### Task 15\n",
        "\n",
        "Suppose you have been given the following list of tuples. \n",
        "\n",
        "list = [(\"a\", 1), (\"b\", 2), (\"a\", 3), (\"b\", 1), (\"a\", 2), (\"c\", 1)]\n",
        "\n",
        "Write a Python program that converts this list of tuples into a dictionary and prints the dictionary. <font color='red'>[You are not allowed to use set]</font> \n",
        "\n",
        "**Output:**\n",
        "\n",
        "{'a': [1, 3, 2], 'b': [2, 1], 'c': [1]}\n",
        "\n",
        "*Hint: Think of membership operators (in and not in).*  \n"
      ]
    },
    {
      "cell_type": "code",
      "execution_count": null,
      "metadata": {
        "id": "bBBcHpgYtDTE",
        "outputId": "9d50a567-fddb-4c11-e0a6-39f37f293bbf"
      },
      "outputs": [
        {
          "name": "stdout",
          "output_type": "stream",
          "text": [
            "{'a': [1, 3, 2], 'b': [2, 1], 'c': [1]}\n"
          ]
        }
      ],
      "source": [
        "#todo\n",
        "list = [(\"a\", 1), (\"b\", 2), (\"a\", 3), (\"b\", 1), (\"a\", 2), (\"c\", 1)]\n",
        "new_dict = {}\n",
        "for key,value in list:\n",
        "    if key in new_dict:\n",
        "        new_dict[key].append(value)\n",
        "    else :\n",
        "        new_dict[key] = [value]\n",
        "print(new_dict)        "
      ]
    },
    {
      "cell_type": "code",
      "execution_count": null,
      "metadata": {
        "id": "8sBhQBmhtDTI"
      },
      "outputs": [],
      "source": [
        ""
      ]
    }
  ],
  "metadata": {
    "colab": {
      "collapsed_sections": [],
      "name": "20301301_Md. Anonto Shuvo_10_CSE110 Assignment04.ipynb",
      "provenance": []
    },
    "kernelspec": {
      "display_name": "Python 3",
      "language": "python",
      "name": "python3"
    },
    "language_info": {
      "codemirror_mode": {
        "name": "ipython",
        "version": 3
      },
      "file_extension": ".py",
      "mimetype": "text/x-python",
      "name": "python",
      "nbconvert_exporter": "python",
      "pygments_lexer": "ipython3",
      "version": "3.7.6"
    }
  },
  "nbformat": 4,
  "nbformat_minor": 0
}