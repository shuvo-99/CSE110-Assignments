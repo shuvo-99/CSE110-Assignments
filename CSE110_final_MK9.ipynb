{
  "cells": [
    {
      "cell_type": "markdown",
      "metadata": {
        "id": "0ZcT5c9CjT8P"
      },
      "source": [
        "# SUMMER 2020\n",
        "\n",
        "# CSE110 Final Exam\n",
        "**<font color='red'>[MUST MAINTAIN VARIABLE NAMING CONVENTIONS FOR ALL THE TASKS]</font>**\n",
        "\n",
        "**<font color='red'>[Writing comments(explanatory sentences) in any of the code is completely optional]</font>**"
      ]
    },
    {
      "cell_type": "markdown",
      "metadata": {
        "id": "hQCnOmw6iWER"
      },
      "source": [
        "# Task 01\n",
        "Write a function called show_square that takes a number as an argument and prints a square in the function.\n",
        "\n",
        "=============================================================\n",
        "\n",
        "**Example1:**\\\n",
        "**Input:** 3\\\n",
        "**Function Call:**   show_square(3)\\\n",
        "**Output:**\\\n",
        "123\\\n",
        "123\\\n",
        "123\n",
        "\n",
        "**Explanation:** \n",
        "*Here the argument passed to the function is 3. So it will have an equal number of rows and columns to make it look like a square.*\n",
        "\n",
        "=============================================================\n",
        "\n",
        "**Example 2:**\n",
        "\n",
        "**Input:** 5\\\n",
        "**Function Call:**   show_square(5)\n",
        "\n",
        "**Output:**\\\n",
        "12345\\\n",
        "12345\\\n",
        "12345\\\n",
        "12345\\\n",
        "12345\n",
        "\n",
        "**Explanation:**\n",
        "\n",
        "*Here the argument passed to the function is 5. So it will have an equal number of rows and columns to make it look like a square.*\n"
      ]
    },
    {
      "cell_type": "code",
      "execution_count": null,
      "metadata": {
        "id": "P0vIwmbeiWEU",
        "outputId": "ed933364-6c6f-4c53-ee6b-640472089330"
      },
      "outputs": [
        {
          "name": "stdout",
          "output_type": "stream",
          "text": [
            "Enter the number = 5\n",
            "12345\n",
            "12345\n",
            "12345\n",
            "12345\n",
            "12345\n"
          ]
        }
      ],
      "source": [
        "#task 1\n",
        "#to do\n",
        "num = int(input(\"Enter the number = \"))\n",
        "def show_square(num):\n",
        "    \n",
        "    for i in range(num):\n",
        "        for j in range(1,num+1):\n",
        "            print(j,end='')\n",
        "     \n",
        "        print()\n",
        "show_square(num)\n",
        "    "
      ]
    },
    {
      "cell_type": "markdown",
      "metadata": {
        "id": "zUyYKkWViWEd"
      },
      "source": [
        "# Task 02\n",
        "Take a single line comma separated input from the user. Convert the input into a list. You can use the **.split()** function to do so. Your task is to create a new list which will only contain the elements from the first list which are divisible by the total number of elements in the first list.\n",
        "\n",
        "**<font color='red'>[Hint: Iterate through every element of the first list and divide it by the length of the first list. Make sure to convert the list items into integer before dividing.]</font>**\n",
        "\n",
        "=============================================================\n",
        "\n",
        "**Example1:**\\\n",
        "**Input:**\\\n",
        "10,15,2,5,6\n",
        "\n",
        "**Output:**\\\n",
        "[10, 15, 5]\n",
        "\n",
        "**Explanation:** \n",
        "*Here, the input contains all the elements separated by comma in a single line. Take these elements into a list and the list will look like ['10', '15', '2', '5', '6']. The length of the list will be 5 since there are 5 elements in total. Now to produce the output, you have to mod every element of the list by 5 to see if the remainder is 0 or not. Therefore,\\\n",
        "10%5 is 0 so add it to the new list\\\n",
        "15%5 is 0 so add it to the new list\\\n",
        "2%5 is not 0 so do not add it to the new list\\\n",
        "5%5 is 0 so add it to the new list\\\n",
        "6%5 is not 0 so do not add it to the new list\\\n",
        "Finally, the new list is [10, 15, 5].*\n",
        "\n",
        "=============================================================================\n",
        "\n",
        "**Example 2:**\n",
        "\n",
        "\n",
        "**Input:**\\\n",
        "101,99,211\\\n",
        "**Output:**\\\n",
        "[99]\n",
        "\n",
        "\n",
        "\n",
        "\n",
        "**Explanation:** \n",
        "*Here, the input contains all the elements separated by comma in a single line. Take these elements into a list and the list will look like ['101', '99', '211']. The length of the list will be 3 since there are 3 elements in total. Now to produce the output, you have to mod every element of the list by 3 to see if the remainder is 0 or not. Therefore, \n",
        "101%3 is not 0 so do not add it to the new list\n",
        "99%3 is 0 so add it to the new list\n",
        "211%3 is not 0 so do not add it to the new list\n",
        "Finally, the new list is [99].*\n",
        "\n",
        "==============================================================================\n"
      ]
    },
    {
      "cell_type": "code",
      "execution_count": null,
      "metadata": {
        "id": "_oEJ6XwgiWEh",
        "outputId": "d5312ca6-5338-47b4-859f-f45d2185d6f5"
      },
      "outputs": [
        {
          "name": "stdout",
          "output_type": "stream",
          "text": [
            "Enter the value (separated by comma) = 10,15,5,2,6\n",
            "[10, 15, 5]\n"
          ]
        }
      ],
      "source": [
        "#task 2\n",
        "#to do\n",
        "string = input(\"Enter the value (separated by comma) = \")\n",
        "list_1 = string.split(',')\n",
        "list_2=[]\n",
        "for i in list_1:\n",
        "    list_2.append(int(i))\n",
        "length = len(list_2)\n",
        "list_3=[]\n",
        "for i in list_2:\n",
        "    if i%length==0:\n",
        "        list_3.append(i)\n",
        "print(list_3)"
      ]
    },
    {
      "cell_type": "markdown",
      "metadata": {
        "id": "CEhXrQIhiWEo"
      },
      "source": [
        "# Task 03\n",
        "Take a name as an input from the user. \n",
        "\n",
        "Your task is to ensure that the first letter of each word in a name must be in Uppercase and other letters in Lowercase. A person may have more than one words in the name like: Hugh Jackman. For this, you need to ensure that the first letter in each word of the names is in Uppercase. Here, the letters “H” and “J” should be in uppercase and the other letters must be in Lowercase.\n",
        "\n",
        "Now take a name as an input from the user and pass it as an argument to a function that takes a list as a parameter.\n",
        "\n",
        "If the first letters are not in Uppercase, return “First characters of each word of a name must be in Uppercase.”\n",
        "\n",
        "If any other characters are in uppercase, then return “Other than the first characters of each word of a name, all characters shall be in lowercase.”\n",
        "\n",
        "If the name was given as instructed, then simply print the name typed by the user.\n",
        "\n",
        "<font color = 'red'>**You can NOT use the built-in functions isupper() and islower(). However, you may use the ord() function.**</font>\n",
        " \n",
        " =============================================================\n",
        "\n",
        "**Sample Input 1:**\\\n",
        "Sam Thomas\\\n",
        "**Function Call:**   function_name(\"Sam Thomas\")\\\n",
        "**Sample Output 1:**\\\n",
        "Name typed: Sam Thomas\n",
        " \n",
        "=============================================================\n",
        "\n",
        "**Sample Input 2:**\\\n",
        "Sam thomas\\\n",
        "**Function Call:**   function_name(\"Sam thomas\")\\\n",
        "**Sample Output 2:**\\\n",
        "First characters of each word of a name must be in Uppercase.\n",
        "\n",
        "=============================================================\n",
        " \n",
        "**Sample Input 3:**\\\n",
        "SAM\\\n",
        "**Function Call:**   function_name(\"SAM\")\\\n",
        "**Sample Output 3:**\\\n",
        "Other than the first characters of each word of a name, all characters shall be in lowercase.\n",
        " \n",
        "=============================================================\n",
        "\n",
        "**Note:**\\\n",
        "(1)You may assume that the user will give no names as such Mary A.M. Taylor. He/ she will give either one-word names or two-word names. Just like the samples given.\n",
        " \n",
        "(2)You may also assume that the user will give inputs that consist of only alphabets. No digits nor any special character will be given in the name.\n",
        " \n",
        "\n"
      ]
    },
    {
      "cell_type": "code",
      "execution_count": null,
      "metadata": {
        "id": "gWQIR06LiWEp",
        "outputId": "3f3ca569-f4eb-40e9-d0cc-34f700106c60"
      },
      "outputs": [
        {
          "name": "stdout",
          "output_type": "stream",
          "text": [
            "Enter the name = Sam Was\n",
            "Sam Was\n"
          ]
        }
      ],
      "source": [
        "#task 3\n",
        "#to do\n",
        "string = input(\"Enter the name = \")\n",
        "\n",
        "name_list= list(string)\n",
        "def function_name(name):\n",
        "    \n",
        "    if (name_list[0]>='A' and name_list[0]<='Z'):\n",
        "        for i in range(0,len(string)):\n",
        "            if string[i] == ' ':\n",
        "                #for j in range(1,string[i]):\n",
        "                    #if ( j>= 'A' and j <= 'Z'):\n",
        "                        #print(\"Other than the first characters of each word of a name, all characters shall be in lowercase\")\n",
        "                    #else:\n",
        "                        #pass\n",
        "            \n",
        "                letter = string[i+1]\n",
        "                if ( letter>= 'A' and letter <= 'Z'):\n",
        "                    print(string)\n",
        "                else:\n",
        "                    print(\"First characters of each word of a name must be in Uppercase\")\n",
        "    \n",
        "        \n",
        "    else:\n",
        "        print(\"First characters of each word of a name must be in Uppercase\")\n",
        "function_name(name_list)"
      ]
    },
    {
      "cell_type": "code",
      "execution_count": null,
      "metadata": {
        "id": "kxBuKVOX0d57"
      },
      "outputs": [],
      "source": [
        ""
      ]
    }
  ],
  "metadata": {
    "colab": {
      "collapsed_sections": [],
      "name": "20301301_Md. Anonto Shuvo_10_CSE110_final_MK9.ipynb",
      "provenance": []
    },
    "kernelspec": {
      "display_name": "Python 3",
      "language": "python",
      "name": "python3"
    },
    "language_info": {
      "codemirror_mode": {
        "name": "ipython",
        "version": 3
      },
      "file_extension": ".py",
      "mimetype": "text/x-python",
      "name": "python",
      "nbconvert_exporter": "python",
      "pygments_lexer": "ipython3",
      "version": "3.7.6"
    }
  },
  "nbformat": 4,
  "nbformat_minor": 0
}