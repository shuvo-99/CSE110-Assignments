{
  "cells": [
    {
      "cell_type": "markdown",
      "metadata": {
        "id": "ZXvFDb3VLf5p"
      },
      "source": [
        "# CSE110 Assignment 6\n",
        "This assignment is to guide you to solve everything you have learned so far by implementing Exceptions in Python. \n",
        "\n",
        "**<font color='red'>[MUST MAINTAIN VARIABLE NAMING CONVENTIONS FOR ALL THE TASKS]</font>**\n",
        "\n",
        "## Write the Python code of the following problems:\n"
      ]
    },
    {
      "cell_type": "markdown",
      "metadata": {
        "id": "tZow-v3MLoLE"
      },
      "source": [
        "### Task 1\n",
        "Given a list named my_list.\n",
        "my_list=[10,20,30,40,60,100,2,5]\n",
        "\n",
        "Write a python program that takes the position as an input from the user and prints the element of that position from the list. \n",
        "\n",
        "If the user’s input position is not in the range, return an exception stating “Index out of range”.\n",
        "\n",
        "Make sure your program always prints “Program ended” at the end, no matter what happens.\n",
        "\n",
        "Hint: Use finally block\n",
        "\n",
        "**Example 1:** \\\n",
        "**Input:**\\\n",
        "1\\\n",
        "**Output:**\\\n",
        "20\\\n",
        "Program ended\n",
        "\n",
        "=============================\n",
        "\n",
        "**Example 2:** \\\n",
        "**Input:**\\\n",
        "10\\\n",
        "**Output:**\\\n",
        "Index out of range.\\\n",
        "Program ended\n"
      ]
    },
    {
      "cell_type": "code",
      "execution_count": null,
      "metadata": {
        "id": "c9yKuS5kLdDO",
        "outputId": "5abf5fba-eaef-4d42-b333-79f552a65cf1"
      },
      "outputs": [
        {
          "name": "stdout",
          "output_type": "stream",
          "text": [
            "Enter the position = 10\n",
            "Index out of range\n",
            "Program ended\n"
          ]
        }
      ],
      "source": [
        "#To do\n",
        "my_list=[10,20,30,40,60,100,2,5]\n",
        "try:\n",
        "    num = int(input(\"Enter the position = \"))\n",
        "    print(my_list[num])\n",
        "except ValueError:\n",
        "    print(\"Enter an integer\")\n",
        "except IndexError:\n",
        "    print('Index out of range')\n",
        "finally :\n",
        "    print(\"Program ended\")"
      ]
    },
    {
      "cell_type": "markdown",
      "metadata": {
        "id": "gD4MMyO_Mtw4"
      },
      "source": [
        "### Task 2\n",
        "\n",
        "Suppose you have a dictionary named my_dictionary containing the name of some groceries and their prices.\\\n",
        "my_dictionary={“Potato”:12, “Onion”:16, “Ginger”:15, “Garlic”:12, “Tomato:”:15}\n",
        "\n",
        "Now write a python program that takes the grocerie names as input from the users and shows the total price of the groceries.\n",
        "\n",
        "Some exceptions to handle:\n",
        "* Handle the exception when the given key is not present in the dictionary.\n",
        "* Handle the exception when the summation variable is not initialized.\n",
        "\n",
        "**Example 1:** \\\n",
        "**Input:**\\\n",
        "Potato,Onion,Ginger\\\n",
        "**Output:**\\\n",
        "43\n",
        "\n",
        "=============================\n",
        "\n",
        "**Example 2:** \\\n",
        "**Input:**\\\n",
        "Potato,Onion,Ginger,Beef\\\n",
        "**Output:**\\\n",
        "Some groceries are not available in the dictionary.\n"
      ]
    },
    {
      "cell_type": "code",
      "execution_count": null,
      "metadata": {
        "id": "15umlUXTNe5N",
        "outputId": "69866316-4ff3-495c-95ad-d6bc898de9a6"
      },
      "outputs": [
        {
          "name": "stdout",
          "output_type": "stream",
          "text": [
            "Enter how may items you want to oder = 5\n",
            " Enter your oder = potato\n",
            " Enter your oder = onion\n",
            " Enter your oder = ginger\n",
            " Enter your oder = garlic\n",
            " Enter your oder = tomato\n",
            "70\n"
          ]
        }
      ],
      "source": [
        "#To do\n",
        "try:\n",
        "    item_list = []\n",
        "    num1 = int(input(\"Enter how may items you want to oder = \"))\n",
        "    i = 1\n",
        "    while i <=num1:\n",
        "        x = input(\" Enter your oder = \").lower()\n",
        "        item_list.append(x)\n",
        "        i = i + 1\n",
        "    my_dictionary={'potato':12, 'onion':16, 'ginger':15, 'garlic':12, 'tomato':15}\n",
        "    total_cost = 0\n",
        "    for item in item_list:\n",
        "        total_cost += my_dictionary[item]\n",
        "    print(total_cost)         \n",
        "except KeyError:\n",
        "    print(\"Some groceries are not available in the dictionary\")\n",
        "except ValueError:\n",
        "    print(\"summation variable is not initialized\")"
      ]
    },
    {
      "cell_type": "markdown",
      "metadata": {
        "id": "l5SgF6kTN7vY"
      },
      "source": [
        "### Task 3\n",
        "Write a python program that takes two lists as input from the user, multiplies the index wise elements of the two lists and adds it to a new variable. While doing the program you should handle the following exceptions:\n",
        "* Return an exception when the new variable is not declared stating “The new variable is not declared”.\n",
        "* Return an exception if an element in a list is not a number stating “The list has some non number values”.\n",
        "* Return an exception if there is an index out of bound stating “Index out of bound”.\n",
        "\n",
        "**Example 1:** \\\n",
        "**Input:**\\\n",
        "list_one = [1, a, 2, 4]\\\n",
        "List_two =[5, 6, 7, 8]\\\n",
        "**Output:**\\\n",
        "The list has some non number values\n",
        "\n",
        "=================\n",
        "\n",
        "**Example 2:** \\\n",
        "**Input:**\\\n",
        "list_one=[1, 2, 3, 4, 5]\\\n",
        "list_two=[1, 2, 3, 4]\\\n",
        "**Output:**\\\n",
        "Index out of bound\n",
        "\n",
        "=================\n",
        "\n",
        "**Example 3:** \\\n",
        "**Input:**\\\n",
        "list_one=[1,2,3,4]\\\n",
        "list_two=[5,6,7,8]\\\n",
        "**Output:**\\\n",
        "70\n",
        "\n",
        "\n"
      ]
    },
    {
      "cell_type": "code",
      "execution_count": null,
      "metadata": {
        "id": "oFpEZFRhOlvV",
        "outputId": "4fc3d240-ee38-433c-b9f7-d1c8708b20b1"
      },
      "outputs": [
        {
          "name": "stdout",
          "output_type": "stream",
          "text": [
            "Enter the number of elements in List 1 = 1\n",
            " Enter a number = 1\n",
            "Enter the number of elements in List 2 = 2\n",
            " Enter a number = 1\n",
            " Enter a number = 2\n",
            "Index out of bound\n"
          ]
        }
      ],
      "source": [
        "#To do\n",
        "try:\n",
        "    list_1 = []\n",
        "    count_1 = 0\n",
        "    i = 1\n",
        "    len_1 = int(input(\"Enter the number of elements in List 1 = \"))\n",
        "    while i <=len_1:\n",
        "        x = int(input(\" Enter a number = \"))\n",
        "        list_1.append(x)\n",
        "        i = i + 1\n",
        "        count_1 = count_1 + 1\n",
        "    list_2 = []\n",
        "    count_2 = 0\n",
        "    j = 1\n",
        "    len_2 = int(input(\"Enter the number of elements in List 2 = \"))\n",
        "    while j <=len_2:\n",
        "        x = int(input(\" Enter a number = \"))\n",
        "        list_2.append(x)\n",
        "        j = j + 1\n",
        "        count_2 = count_2 + 1\n",
        "    list_3 = []\n",
        "    for z in range(0, len(list_1)):\n",
        "        list_3.append(list_1[z]*list_2[z])\n",
        "    total = 0\n",
        "    for ele in range(0, len(list_3)): \n",
        "        total = total + list_3[ele]\n",
        "        \n",
        "    if count_1 != count_2:\n",
        "        raise Exception\n",
        "    print(total)\n",
        "except ValueError:\n",
        "    print(\"The list has some non number values\")\n",
        "except Exception:\n",
        "    print('Index out of bound')"
      ]
    },
    {
      "cell_type": "markdown",
      "metadata": {
        "id": "iBqIUN-WOnvW"
      },
      "source": [
        "### Task 4\n",
        "Write a python program that will take a string input from the user. Your task is to count the number of vowels and consonants in the string.\n",
        "\n",
        "Using try, if the number of vowels is greater than or equal to the number of consonants than raise a runtime error. Print 'Number of vowels greater/equal to consonants. Please, paraphrase'.\\\n",
        "Otherwise, print 'The sentence will work'. \n",
        "\n",
        "**Note:** a,e,i,o,u are called vowels and all the other 21 english alphabets are consonants.\n",
        "\n",
        "**Example 1:** \\\n",
        "**Input:**\\\n",
        "'his age is 10'\\\n",
        "**Output:**\\\n",
        "Number of vowels is greater/equal. Paraphrase the sentence\n",
        "\n",
        "=================\n",
        "\n",
        "**Example 2:** \\\n",
        "**Input:**\\\n",
        "'he is 10 years old'\\\n",
        "**Output:**\\\n",
        "The sentence will work"
      ]
    },
    {
      "cell_type": "code",
      "execution_count": null,
      "metadata": {
        "id": "-4kg2W2EPwVo",
        "outputId": "aa8b5ced-00e8-481a-9119-1cdf04a844e9"
      },
      "outputs": [
        {
          "name": "stdout",
          "output_type": "stream",
          "text": [
            "Please enter a string = his age is 10\n",
            "Number of vowels is greater/equal. Paraphrase the sentence\n"
          ]
        }
      ],
      "source": [
        "#To do\n",
        "string = input(\"Please enter a string = \").lower()\n",
        "vowels=0\n",
        "consonants=0\n",
        "for i in string:\n",
        "    if  (i >= 'a' and i <= 'z'):\n",
        "        if(i == 'a'or i == 'e'or i == 'i'or i == 'o'or i == 'u'):\n",
        "            vowels = vowels+1\n",
        "        else:\n",
        "            consonants = consonants+1\n",
        "try:\n",
        "    if vowels < consonants:\n",
        "        print(\"The sentence will work\")\n",
        "    else:\n",
        "        raise Exception\n",
        "        \n",
        "except Exception:\n",
        "    print(\"Number of vowels is greater/equal. Paraphrase the sentence\")"
      ]
    },
    {
      "cell_type": "markdown",
      "metadata": {
        "id": "pl4CDeUkPxeM"
      },
      "source": [
        "### Task 5\n",
        "Write a python program that finds the corresponding energy values from a list of frequency values which are taken as input from the user, using the formula, $E=h*f$, where h is a constant of value: 1050\n",
        "\n",
        "Exceptions to handle:\n",
        "* Make sure all elements in the lists are numbers\n",
        "\n",
        "\n",
        "**Example 1:** \\\n",
        "**Input:**\\\n",
        "[$2$,$3$]\\\n",
        "**Output:**\\\n",
        "[$2100$, $3150$]\n",
        "\n",
        "=================\n",
        "\n",
        "**Example 2:** \\\n",
        "**Input:**\\\n",
        "[2,boss]\\\n",
        "**Output:**\\\n",
        "Wrong input type"
      ]
    },
    {
      "cell_type": "code",
      "execution_count": null,
      "metadata": {
        "id": "vdYQH9qnQvVo",
        "outputId": "29a2d71b-39b0-4a3d-dadd-dc25433e6d89"
      },
      "outputs": [
        {
          "name": "stdout",
          "output_type": "stream",
          "text": [
            "Enter the number of elements in List 1 = 2\n",
            " Enter a number = 2\n",
            " Enter a number = 3\n",
            "[2100, 3150]\n"
          ]
        }
      ],
      "source": [
        "#To do\n",
        "try:\n",
        "    list_f = []\n",
        "    i = 1\n",
        "    len_1 = int(input(\"Enter the number of elements in List 1 = \"))\n",
        "    while i <=len_1:\n",
        "        x = int(input(\" Enter a number = \"))\n",
        "        list_f.append(x)\n",
        "        i = i + 1\n",
        "    new_list = []\n",
        "    j=0\n",
        "\n",
        "    for j in list_f:\n",
        "        energy_value = 1050*j\n",
        "        new_list.append(energy_value)\n",
        "        j+=1\n",
        "    print(new_list) \n",
        "except ValueError:\n",
        "    print(\"Wrong input type\")"
      ]
    },
    {
      "cell_type": "markdown",
      "metadata": {
        "id": "RdshPzpJRcsD"
      },
      "source": [
        "### Task 6\n",
        "Write a python function that will remove a given character from a sentence based on the starting and ending index of the sentence. In the place of the removed characters, add the count of the number of characters removed so far. For this program, you need to take 4 user inputs.\n",
        "* Sentence\n",
        "* Character to be removed\n",
        "* Starting index (inclusive)\n",
        "* Ending index (inclusive)\n",
        "\n",
        "Few exceptions to catch: \n",
        "* Name Error if a variable is not found. Print ‘Name Error: Variable not defined’\n",
        "* Value Error if the starting index and ending index is not an integer. Print ‘Value Error: Wrong input, please enter an integer value.’\n",
        "* Type Error when adding count in the new sentence. Print ‘Type Error: Cannot add integer value with string.’\n",
        "* Index Error if the starting and ending index is out of range. Print ‘Index Error: Index is outside the range of sentence length.’\n",
        "* For other exceptions, catch Exception. Print ‘Some other error occurred.’\n",
        "\n",
        "If no exception occurred, print the new string using else block. At the end using finally, print ‘The program execution is complete’.\n",
        "\n",
        "**Example 1:** \\\n",
        "**Input:**\\\n",
        "'my python programming book'\\\n",
        "'m'\\\n",
        "2\\\n",
        "20\\\n",
        "**Output:**\\\n",
        "my python progra12ing book\\\n",
        "The program execution is complete\n",
        "\n",
        "=================\n",
        "\n",
        "**Example 2:** \\\n",
        "**Input:**\\\n",
        "'my python programming book'\\\n",
        "'m'\\\n",
        "2.5\\\n",
        "20\\\n",
        "**Output:**\\\n",
        "Value Error: Wrong input, please enter an integer value.\\\n",
        "The program execution is complete\n",
        "\n",
        "=================\n",
        "\n",
        "**Example 3:** \\\n",
        "**Input:**\\\n",
        "'my python programming book'\\\n",
        "'m'\\\n",
        "2\\\n",
        "100\\\n",
        "**Output:**\\\n",
        "Index Error: Index is outside the range of sentence length.\\\n",
        "The program execution is complete\n"
      ]
    },
    {
      "cell_type": "code",
      "execution_count": null,
      "metadata": {
        "id": "bcU6dV5BSl7d",
        "outputId": "a07031ad-69b1-49e4-b657-cde3a5e44a9c"
      },
      "outputs": [
        {
          "name": "stdout",
          "output_type": "stream",
          "text": [
            "Sentence = my python programming book\n",
            "Character to be removed = m\n",
            "Starting index = 2\n",
            "Ending index = 20\n",
            "my python progra12ing book\n",
            "The program execution is complete\n"
          ]
        }
      ],
      "source": [
        "#To do\n",
        "try:\n",
        "    string = input(\"Sentence = \")\n",
        "    change = input(\"Character to be removed = \")\n",
        "    start = int(input(\"Starting index = \"))\n",
        "    end = int(input(\"Ending index = \"))+1\n",
        "    splitter = string[start:end]\n",
        "         \n",
        "    split = string.split(string[start:end])\n",
        "    temp = ''\n",
        "    count = 1\n",
        "    for i in splitter:\n",
        "        if i == change:\n",
        "            temp = temp + str(count)\n",
        "            count += 1\n",
        "        else :\n",
        "            temp = temp + i\n",
        "    if (end>len(string)):\n",
        "        raise IndexError\n",
        "    \n",
        "    result = split[0]+temp+split[1]\n",
        "    \n",
        "except NameError:\n",
        "    print(\"Name Error: Variable not defined\")\n",
        "except ValueError:\n",
        "    print(\"Value Error: Wrong input, please enter an integer value.\")\n",
        "except TypeError:\n",
        "    print(\"Type Error: Cannot add integer value with string.\")\n",
        "except IndexError:\n",
        "    print(\"Index Error: Index is outside the range of sentence length.\")  \n",
        "except Exception:\n",
        "    print(\"Some other error occurred.\")\n",
        "else:\n",
        "    print(result)\n",
        "finally :\n",
        "    print ('The program execution is complete')"
      ]
    },
    {
      "cell_type": "markdown",
      "metadata": {
        "id": "SjU5ufx8Snv3"
      },
      "source": [
        "### Task 7\n",
        "Read a **file** from the user which contains the  name and salary of employees. Convert that to a dictionary where the key is the name of each employee and value is the salary of that employee. Then find the total cost for the company that it needs to pay through employees’ salary. Print the dictionary and sum if no exception occurs.\n",
        "\n",
        "Exception to handle:\n",
        "* check whether file is actually there\n",
        "* Check whether the salary in each line is a number or not.\n",
        "* Raise error if there are extra numbers or names\n",
        "\n",
        "**Example 1:** \\\n",
        "**Input:**\\\n",
        "Saadat 100\\\n",
        "Farzad 200\\\n",
        "Atef 300\\\n",
        "**Output:**\\\n",
        "dict={Saadat : 100, Farzad : 200, Atef : 300}\\\n",
        "Sum = 600\n",
        "\n",
        "=================\n",
        "\n",
        "**Example 2:** \\\n",
        "**Input:**\\\n",
        "Saadat 100\\\n",
        "Farzad 200\\\n",
        "Atef 300\\\n",
        "John\\\n",
        "**Output:**\\\n",
        "Extra Statement\n"
      ]
    },
    {
      "cell_type": "code",
      "execution_count": null,
      "metadata": {
        "id": "SUxJ1iCXUAPg",
        "outputId": "1930934a-ee39-4f90-c758-2050b60ae58b"
      },
      "outputs": [
        {
          "name": "stdout",
          "output_type": "stream",
          "text": [
            "{'Saadat': 100, 'Farzad': 200, 'Atef': 300}\n",
            " Sum is =  600\n"
          ]
        }
      ],
      "source": [
        "#To do\n",
        "try:\n",
        "    dict_1 = {}\n",
        "    file = open(\"Employee's salary.txt\",'r')\n",
        "    for i in file:\n",
        "        (key, value) = i.split()\n",
        "        dict_1[key] = int(value)\n",
        "    total_cost = 0\n",
        "    for value in dict_1.values():\n",
        "        total_cost = total_cost + int(value)\n",
        "    print(dict_1)\n",
        "    print(\" Sum is = \",total_cost)\n",
        "except FileNotFoundError:\n",
        "    print(\"File does not exist\")\n",
        "except ValueError:\n",
        "    print(\" Enter the salary as Integer\")\n",
        "except Exception:\n",
        "    print(\"Extra Statment\")"
      ]
    },
    {
      "cell_type": "markdown",
      "metadata": {
        "id": "GC6Y943uUNHY"
      },
      "source": [
        "### Task 8\n",
        "Imagine Salman Khan is going to the sets of a new movie. He decides to cycle everyday on his way to the sets. For that he uses a distance calculator which finds the distance based on the present day's date, which is asked as an input from the user. You should first take the day and then the month as your inputs.\n",
        "The inputs should be stored in variables named `day` and `month` The distance calculator uses the following formulae to calculate a number which dictates the number of kilometers he must cycle on his way to work.\n",
        "\n",
        "Exceptions to handle:\\\n",
        "-Check for 0 division error exception\\\n",
        "-Type error exception when taking date as input\\\n",
        "-Value error exception, as day can not be greater than 31 and month can not be greater than 12\n",
        "\n",
        "\n",
        "\n",
        "\n",
        "\n",
        "\n",
        "\n",
        "\n",
        "\n",
        "\n",
        "\n",
        "\n",
        "\n",
        "\n",
        "Distance = |if day<10, `5+(day*2)/month`\\\n",
        "&nbsp;&nbsp;&nbsp;&nbsp;&nbsp;&nbsp;&nbsp;&nbsp;&nbsp;&nbsp;&nbsp;&nbsp;&nbsp;&nbsp;&nbsp;&nbsp;&nbsp;&nbsp;&nbsp; |else, `3+(day/month)`\n",
        "\n",
        "\n",
        "**Example 1:** \\\n",
        "**Input:**\\\n",
        "3\\\n",
        "5\\\n",
        "**Output:**\\\n",
        "6.2 kilometres\n",
        "\n",
        "=================\n",
        "\n",
        "**Example 2:** \\\n",
        "**Input:**\\\n",
        "2\\\n",
        "0\\\n",
        "**Output:**\\\n",
        "0 is not a valid month\n",
        "\n",
        "**Example 3:** \\\n",
        "**Input:**\\\n",
        "35\\\n",
        "12\\\n",
        "**Output:**\\\n",
        "35 is not a valid day of any month\n",
        "\n",
        "\n",
        "**Example 4:** \\\n",
        "**Input:**\\\n",
        "Hello\\\n",
        "12\\\n",
        "**Output:**\\\n",
        "Please do not enter any string as input\n",
        "\n",
        "\n",
        "**Example 5:** \\\n",
        "**Input:**\\\n",
        "15\\\n",
        "12\\\n",
        "**Output:**\\\n",
        "4.25 kilometres\n",
        "\n",
        "\n",
        "\n",
        "\n"
      ]
    },
    {
      "cell_type": "code",
      "execution_count": null,
      "metadata": {
        "id": "fg9mQUaEWH7a",
        "outputId": "6b16d245-f9a6-4d8e-af4e-2b2099b5ac88"
      },
      "outputs": [
        {
          "name": "stdout",
          "output_type": "stream",
          "text": [
            "Enter the number of days = 15\n",
            "Enter the number of months = 12\n",
            "4.25  kilometres\n"
          ]
        }
      ],
      "source": [
        "#To do\n",
        "try:\n",
        "    days = int(input(\"Enter the number of days = \"))\n",
        "    months = int(input(\"Enter the number of months = \"))\n",
        "    if days<=31 and months <=12:\n",
        "        if days <10:\n",
        "            distance = 5+ (days*2)/months\n",
        "            print(distance,\" kilometres\")\n",
        "        else:\n",
        "            distance = 3+ days/months\n",
        "            print(distance,\" kilometres\")\n",
        "    if days>31 or months >12:\n",
        "        raise TypeError\n",
        "                \n",
        "except ValueError:\n",
        "    print(\"Please do not enter any string as input\")\n",
        "except ZeroDivisionError:\n",
        "    print('0 is not a valid month')\n",
        "except TypeError:\n",
        "    print(days,\"is not a valid day of any month\")\n",
        "    "
      ]
    },
    {
      "cell_type": "markdown",
      "metadata": {
        "id": "2Xzq6xJNWvbf"
      },
      "source": [
        "### Task 9\n",
        "Write a python program to make a calculator. The user must input a string consisting of a number, operator and another number separated by white spaces.\n",
        "* If the user’s input does not contain 3 elements, raise an exception error stating “Input does not contain 3 elements/Wrong operator”.\n",
        "* If the user inputs any other values except numbers in first and third position of the input, raise value error exception stating “Input does not contain numbers.” \n",
        "* If the user does not input ‘+’ or ‘-’ or ’/’ or ‘*’ or ‘%’ in second position of the input, again raise an exception stating “Input does not contain 3 elements/Wrong operator”.\n",
        "* In case of division, also handle divide by zero exception.\n",
        "\n",
        "If all the inputs are correct, calculate the result and print the value.\n",
        "\n",
        "**Example 1:** \\\n",
        "**Input:**\\\n",
        "1 + 1 + 1\\\n",
        "**Output:**\\\n",
        "Input does not contain 3 elements/Wrong operator\n",
        "\n",
        "=================\n",
        "\n",
        "**Example 2:** \\\n",
        "**Input:**\\\n",
        "A * B\\\n",
        "**Output:**\\\n",
        "Input does not contain numbers.\n",
        "\n",
        "=================\n",
        "\n",
        "**Example 3:** \\\n",
        "**Input:**\\\n",
        "1 $ 3\\\n",
        "**Output:**\\\n",
        "Input does not contain 3 elements/Wrong operator\n",
        "\n",
        "=================\n",
        "\n",
        "**Example 4:** \\\n",
        "**Input:**\\\n",
        "1 + 1\\\n",
        "**Output:**\\\n",
        "The answer is : 2\n"
      ]
    },
    {
      "cell_type": "code",
      "execution_count": null,
      "metadata": {
        "id": "vX2d7DiVXbhc",
        "outputId": "dd9ae5a6-baec-49df-d1c5-254924d6838a"
      },
      "outputs": [
        {
          "name": "stdout",
          "output_type": "stream",
          "text": [
            "Enter ( give space after evry input) = 1 $ 1\n",
            "Input does not contain 3 elements/Wrong operator\n"
          ]
        }
      ],
      "source": [
        "string = input(\"Enter ( give space after evry input) = \")\n",
        "split = string.split(\" \")\n",
        "operator = ['+','-','*','/','%']\n",
        "try:\n",
        "    list_1 = []\n",
        "    for i in split:\n",
        "        list_1.append(i)\n",
        "    \n",
        "    \n",
        "    if len(list_1)>3:\n",
        "        raise Exception\n",
        "    \n",
        "    if not (list_1[0].isdigit() and list_1[2].isdigit()):\n",
        "        raise ValueError\n",
        "    \n",
        "    if list_1[1] not in operator:\n",
        "        raise Exception\n",
        "    \n",
        "    if list_1[1] == operator[0]:\n",
        "        result = int(list_1[0]) + int(list_1[2])\n",
        "    \n",
        "    if list_1[1] == operator[1]:\n",
        "        result = int(list_1[0]) - int(list_1[2])\n",
        "        \n",
        "    if list_1[1] == operator[2]:\n",
        "        result = int(list_1[0]) * int(list_1[2])\n",
        "        \n",
        "    if list_1[1] == operator[3]:\n",
        "        if int(list_1[2]) == 0 :\n",
        "            raise ZeroDivisionError\n",
        "        else:\n",
        "            result = int(list_1[0]) / int(list_1[2])\n",
        "    \n",
        "    if list_1[1] == operator[4]:\n",
        "        result = int(list_1[0]) % int(list_1[2]) \n",
        "        \n",
        "    print(result)\n",
        "    \n",
        "except ZeroDivisionError:\n",
        "    print(\"Input can not be Zero\")\n",
        "    \n",
        "except Exception:\n",
        "    print(\"Input does not contain 3 elements/Wrong operator\")\n",
        "\n",
        "\n"
      ]
    },
    {
      "cell_type": "code",
      "execution_count": null,
      "metadata": {
        "id": "y69Yd6qYyg37"
      },
      "outputs": [],
      "source": [
        ""
      ]
    }
  ],
  "metadata": {
    "colab": {
      "collapsed_sections": [],
      "name": "20301301_Md. Anonto Shuvo_10_CSE110 Assignment06.ipynb",
      "provenance": []
    },
    "kernelspec": {
      "display_name": "Python 3",
      "language": "python",
      "name": "python3"
    },
    "language_info": {
      "codemirror_mode": {
        "name": "ipython",
        "version": 3
      },
      "file_extension": ".py",
      "mimetype": "text/x-python",
      "name": "python",
      "nbconvert_exporter": "python",
      "pygments_lexer": "ipython3",
      "version": "3.7.6"
    }
  },
  "nbformat": 4,
  "nbformat_minor": 0
}