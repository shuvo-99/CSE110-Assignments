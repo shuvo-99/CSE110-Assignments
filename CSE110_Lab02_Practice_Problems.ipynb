{
  "cells": [
    {
      "cell_type": "markdown",
      "metadata": {
        "id": "mnjQp1z8oXkZ"
      },
      "source": [
        "## CSE110 LAB02 Practice Problems (No deadline, no submissions)\n",
        "\n",
        "## Strings and Lists"
      ]
    },
    {
      "cell_type": "code",
      "source": [
        ""
      ],
      "metadata": {
        "id": "wTc2zcDOqnCz"
      },
      "execution_count": null,
      "outputs": []
    },
    {
      "cell_type": "markdown",
      "metadata": {
        "id": "C5DrrCx4oXke"
      },
      "source": [
        "#### QUESTION 01\n",
        "\n",
        "Take an input from the user and tell the user if the input is a palindrome or Not.\n",
        "\n",
        "**Sample Input**<br/>\n",
        "1235321<br/>\n",
        "1233521<br/>\n",
        "abcba<br/>\n",
        "\n",
        "**Sample Output**<br/>\n",
        "Palindrome<br/>\n",
        "Not a Palindrome<br/>\n",
        "Palindrome<br/>\n"
      ]
    },
    {
      "cell_type": "code",
      "execution_count": null,
      "metadata": {
        "id": "bHSzx_yqoXkf",
        "outputId": "ec394ece-731b-4557-ad3a-2477c2db24dc"
      },
      "outputs": [
        {
          "name": "stdout",
          "output_type": "stream",
          "text": [
            " Enter a string = gadha\n",
            " Not palindrome\n"
          ]
        }
      ],
      "source": [
        "string = input(' Enter a string = ')\n",
        "string_reverse = (string[-1::-1])\n",
        "if string_reverse == string:\n",
        "    print(\" Palindrome \")\n",
        "else :\n",
        "    print(\" Not palindrome\")"
      ]
    },
    {
      "cell_type": "markdown",
      "metadata": {
        "id": "dg5QSzzroXkh"
      },
      "source": [
        "#### QUESTION 02\n",
        "\n",
        "Given a string, print whether it is a number, word or mixed with digit and letters.\n",
        "If all the characters are numeric values, print NUMBER. If they are all letters, print\n",
        "WORD. If it is mixed, print MIXED.\n",
        "\n",
        "**Sample Input**<br/>\n",
        "213213<br/>\n",
        "jhg231j213<br/>\n",
        "Hello<br/>\n",
        "\n",
        "**Sample Output**<br/>\n",
        "NUMBER<br/>\n",
        "MIXED<br/>\n",
        "WORD<br/>\n",
        "\n"
      ]
    },
    {
      "cell_type": "code",
      "execution_count": null,
      "metadata": {
        "id": "Al5AudFFoXki",
        "outputId": "63a5db2e-1ad9-4fd5-a24d-5ad8799258c7"
      },
      "outputs": [
        {
          "ename": "SyntaxError",
          "evalue": "invalid syntax (<ipython-input-7-d6839d685080>, line 6)",
          "output_type": "error",
          "traceback": [
            "\u001b[1;36m  File \u001b[1;32m\"<ipython-input-7-d6839d685080>\"\u001b[1;36m, line \u001b[1;32m6\u001b[0m\n\u001b[1;33m    elif str[i] = 'A' and str[i] <= 'z' or str[i]>='a' or str[i]<=1:\u001b[0m\n\u001b[1;37m                ^\u001b[0m\n\u001b[1;31mSyntaxError\u001b[0m\u001b[1;31m:\u001b[0m invalid syntax\n"
          ]
        }
      ],
      "source": [
        "str = input\n",
        "for i in range (len(str)):\n",
        "    if str[i].isdigit():\n",
        "        number = True\n",
        "    \n",
        "    elif str[i] = 'A' and str[i] <= 'z' or str[i]>='a' or str[i]<=1:\n",
        "        word = True\n",
        "        \n",
        "if (word == True and number ==True):\n",
        "    print('mixed')\n",
        "elif (word ==True): \n",
        "    print('word')\n",
        "elif (number == True):\n",
        "    print('number')\n",
        "\n",
        "    \n",
        "    \n"
      ]
    },
    {
      "cell_type": "markdown",
      "metadata": {
        "id": "TUGMaukGoXkj"
      },
      "source": [
        "#### QUESTION 03\n",
        "\n",
        "Take a string from the user. And return it back to the user as a Dancing sentence.\n",
        "\n",
        "A sentence is called dancing if its first letter is uppercase and the case of each subsequent letter is the opposite of the previous letter. Spaces should be ignored when determining the case of a letter. For example, \"A b Cd\" is a dancing sentence because the first letter ('A') is uppercase, the next letter ('b') is lowercase, the next letter ('C') is uppercase, and the next letter ('d') is lowercase\n",
        "\n",
        "Sample Input<br/>\n",
        "`This is a dancing sentence`<br/>\n",
        "`This   is         a  dancing   sentence`<br/>\n",
        "`aaaaaaaaaaa`<br/>\n",
        "`z`<br/>\n",
        "\n",
        "Sample Output<br/>\n",
        "`ThIs Is A dAnCiNg SeNtEnCe`<br/>\n",
        "`ThIs   Is         A  dAnCiNg   SeNtEnCe`<br/>\n",
        "`AaAaAaAaAaA`<br/>\n",
        "`Z`<br/>\n"
      ]
    },
    {
      "cell_type": "code",
      "execution_count": null,
      "metadata": {
        "id": "-fthvcN9oXkj"
      },
      "outputs": [],
      "source": [
        ""
      ]
    },
    {
      "cell_type": "markdown",
      "metadata": {
        "id": "2wkQAzD-oXkk"
      },
      "source": [
        "#### QUESTION 04\n",
        "\n",
        "Ceaser Cipher: Each letter of a given text is replaced by a letter some fixed number of positions down the alphabet. For example, with a shift of 1, A would be replaced by B, B would become C, and so on.\n",
        "\n",
        "Given an encoded text and a number of shifted letters, decode it. Each given character is an uppercase letter.\n",
        "\n",
        "**Sample Input**<br/>\n",
        "VQREQFGT, 2<br/>\n",
        "ABCDEFGHIJKLMNOPQRSTUVWXYZ, 10<br/>\n",
        "TOPCODER, 0<br/>\n",
        "\n",
        "**Sample Output**<br/>\n",
        "TOPCODER<br/>\n",
        "QRSTUVWXYZABCDEFGHIJKLMNOP<br/>\n",
        "TOPCODER<br/>"
      ]
    },
    {
      "cell_type": "code",
      "execution_count": null,
      "metadata": {
        "id": "u89TEDNVoXkl"
      },
      "outputs": [],
      "source": [
        ""
      ]
    },
    {
      "cell_type": "markdown",
      "metadata": {
        "id": "2q3OFb6PoXkl"
      },
      "source": [
        "#### QUESTION 05\n",
        "\n",
        "Write a python program that reads 10 numbers from the user, and then prints them in the reverse order.\n"
      ]
    },
    {
      "cell_type": "code",
      "execution_count": null,
      "metadata": {
        "id": "1qy94B4YoXkm"
      },
      "outputs": [],
      "source": [
        ""
      ]
    },
    {
      "cell_type": "markdown",
      "metadata": {
        "id": "TXQeoidJoXkn"
      },
      "source": [
        "#### QUESTION 06\n",
        "\n",
        "Write a python program that reads 2 numbers from the user where the first input is a sequence of more than 1 character and the second number is the index of the number in the list from where you have to reverse the numbers. Then print the string back to the user.\n",
        "\n",
        "**Sample Input**<br/>\n",
        "12345, 4<br/>\n",
        "12345, 2<br/>\n",
        "Vsvfb5265b, 5<br/>\n",
        "\n",
        "**Sample Output**<br/>\n",
        "54321<br/>\n",
        "32145<br/>\n",
        "5bfvsV265b<br/>"
      ]
    },
    {
      "cell_type": "code",
      "execution_count": null,
      "metadata": {
        "id": "Ns8a6FwEoXkn"
      },
      "outputs": [],
      "source": [
        ""
      ]
    },
    {
      "cell_type": "markdown",
      "metadata": {
        "id": "NXuI-w5goXko"
      },
      "source": [
        "#### QUESTION 07\n",
        "\n",
        "Write a Python program that takes two inputs as lists and makes a new list with the similar elements in both the given lists. Then, print the new list.\n",
        "\n",
        "**Sample Input**<br/>\n",
        "red, orange, green, blue, white<br/>\n",
        "black, yellow, green, blue<br/>\n",
        "\n",
        "\n",
        "**Sample Output**<br/>\n",
        "['green', 'blue']"
      ]
    },
    {
      "cell_type": "code",
      "execution_count": null,
      "metadata": {
        "id": "IRZHo3MUoXko"
      },
      "outputs": [],
      "source": [
        ""
      ]
    },
    {
      "cell_type": "markdown",
      "metadata": {
        "id": "Shh9Gpw6oXko"
      },
      "source": [
        "#### QUESTION 08\n",
        "\n",
        "Write a Python program to print the elements in a given list with out the duplicates.\n",
        "\n",
        "**Sample Input**<br/>\n",
        "0, 0, 1, 2, 3, 4, 4, 5, 6, 6, 6, 7, 8, 9, 4, 4<br/>\n",
        "\n",
        "\n",
        "**Sample Output**<br/>\n",
        "['0', '1', '2', '3', '4', '5', '6', '7', '8', '9']<br/>"
      ]
    },
    {
      "cell_type": "code",
      "execution_count": null,
      "metadata": {
        "id": "W3QuWGwMoXkp"
      },
      "outputs": [],
      "source": [
        ""
      ]
    },
    {
      "cell_type": "markdown",
      "metadata": {
        "id": "ZersNQ8ZoXkp"
      },
      "source": [
        "#### QUESTION 09\n",
        "\n",
        "You are given a string that contains alphanumeric characters only. Your task is to\n",
        "sort the string in the following manner:\n",
        "\n",
        "a. All sorted lowercase letters are ahead of uppercase letters.\n",
        "b. All sorted uppercase letters are ahead of digits.\n",
        "c. All sorted odd digits are ahead of sorted even digits.\n",
        "\n",
        "**Sample Input**<br/>\n",
        "Bracu1234<br/>\n",
        "\n",
        "\n",
        "**Sample Output**<br/>\n",
        "acruB1324<br/>"
      ]
    },
    {
      "cell_type": "code",
      "execution_count": null,
      "metadata": {
        "id": "vMibM-22oXkp"
      },
      "outputs": [],
      "source": [
        ""
      ]
    },
    {
      "cell_type": "code",
      "source": [
        "a= int(input('Enter number here'))\n",
        "b= int(input('Enter second number'))\n",
        "counter = 1\n",
        "for i in range (a):\n",
        "    for j in range(b):\n",
        "        print(counter, end = \"\")\n",
        "        counter+=1\n",
        "    counter = 1    \n",
        "    print()"
      ],
      "metadata": {
        "colab": {
          "base_uri": "https://localhost:8080/"
        },
        "id": "fD684HmtqpYS",
        "outputId": "73dd35b0-95b4-4e9e-c48f-9c2740274c7f"
      },
      "execution_count": null,
      "outputs": [
        {
          "output_type": "stream",
          "name": "stdout",
          "text": [
            "Enter number here4\n",
            "Enter second number6\n",
            "123456\n",
            "123456\n",
            "123456\n",
            "123456\n"
          ]
        }
      ]
    }
  ],
  "metadata": {
    "kernelspec": {
      "display_name": "Python 3",
      "language": "python",
      "name": "python3"
    },
    "language_info": {
      "codemirror_mode": {
        "name": "ipython",
        "version": 3
      },
      "file_extension": ".py",
      "mimetype": "text/x-python",
      "name": "python",
      "nbconvert_exporter": "python",
      "pygments_lexer": "ipython3",
      "version": "3.7.6"
    },
    "colab": {
      "name": "CSE110 Lab02 Practice Problems.ipynb",
      "provenance": []
    }
  },
  "nbformat": 4,
  "nbformat_minor": 0
}