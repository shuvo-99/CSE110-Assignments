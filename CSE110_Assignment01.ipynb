{
  "cells": [
    {
      "cell_type": "markdown",
      "metadata": {
        "id": "WlPqimS0wc-l"
      },
      "source": [
        "# CSE110 Assignment 1\n",
        "\n",
        "This assignment is to guide you to solve basic programming problems in Python. Since this is the first assignment, the first problem is solved for you with explanations. Some problems are partially solved to help you. Go through them, try to understand and question each statment of the following questions and codes. If you can understand the problems and the solutions, solving more difficult problems would not seem so difficult. \n",
        "\n",
        "## Write the Python code of the following problems:\n"
      ]
    },
    {
      "cell_type": "markdown",
      "metadata": {
        "id": "RDasv_rPwc-o"
      },
      "source": [
        "### Task 1\n",
        "\n",
        "Write Python code of a program that reads two numbers from the user, and prints their sum, product, and difference.\n",
        "\n",
        "\n",
        "*hint: Subtract the second number from the first one*\n",
        "\n",
        "For your explanation, the first question's code is done below. Try relating the block of code with the lesson you have learned and understand the significance of each line. You're most welcome to play around with the code. This will strengthen your understanding.\n"
      ]
    },
    {
      "cell_type": "code",
      "execution_count": null,
      "metadata": {
        "id": "qVnf3wJGwc-q",
        "outputId": "d929798a-3ca2-4f6d-e18b-c255dac791bc"
      },
      "outputs": [
        {
          "name": "stdout",
          "output_type": "stream",
          "text": [
            "Please Enter Your First Number10\n",
            "Please Enter Your Second Number20\n",
            "<class 'str'>\n",
            "<class 'str'>\n",
            "30\n",
            "200\n",
            "10\n"
          ]
        }
      ],
      "source": [
        "\n",
        "var_1 = input('Please Enter Your First Number')\n",
        "var_2 = input('Please Enter Your Second Number')\n",
        "\n",
        "print(type(var_1))\n",
        "print(type(var_2))\n",
        "\n",
        "var_3 = int(var_1)\n",
        "var_4 = int(var_2)\n",
        "\n",
        "sum = var_3+var_4\n",
        "\n",
        "product = var_3*var_4\n",
        "\n",
        "difference = var_4-var_3\n",
        "\n",
        "print(sum)\n",
        "print(product)\n",
        "print(difference)\n"
      ]
    },
    {
      "cell_type": "markdown",
      "metadata": {
        "id": "fCVsv7Fowc-s"
      },
      "source": [
        "### Task 2\n",
        "\n",
        "Write Python code of a program that reads the radius of a circle and prints its circumference and area.\n",
        "\n",
        "*hint: import math and then use math.pi for getting the value of pi. \n",
        "For details read from https://docs.python.org/3/library/math.html*\n",
        "\n"
      ]
    },
    {
      "cell_type": "code",
      "execution_count": null,
      "metadata": {
        "id": "VNW3T_Ddwc-s",
        "outputId": "9a3d03ca-bae3-4b83-aa46-2ba47e2c28d2"
      },
      "outputs": [
        {
          "name": "stdout",
          "output_type": "stream",
          "text": [
            "Please enter the value of radius :2.5\n",
            "circumference of circle = 15.71\n",
            "the area is = 19.63\n"
          ]
        }
      ],
      "source": [
        "import math\n",
        "\n",
        "'''Start your Code from the Line Below'''\n",
        "radius = float(input('Please enter the value of radius :' ))\n",
        "\n",
        "circumference = 2*math.pi*radius\n",
        "\n",
        "print('circumference of circle = %.2f'%circumference) \n",
        " \n",
        "area = math.pi*(radius*radius)\n",
        "print(\"the area is = %.2f\"%area)\n"
      ]
    },
    {
      "cell_type": "markdown",
      "metadata": {
        "id": "dPBdYA03wc-t"
      },
      "source": [
        "### Task 3\n",
        "\n",
        "Write Python code of a program that reads two numbers from the user. Your program should then print “First is greater” if the first number is greater, “Second is greater” if the second number is greater, and “The numbers are equal” otherwise."
      ]
    },
    {
      "cell_type": "code",
      "execution_count": null,
      "metadata": {
        "id": "GM06277Fwc-0",
        "outputId": "a89d8325-276d-4d5a-ec25-8d2a63c960d8"
      },
      "outputs": [
        {
          "name": "stdout",
          "output_type": "stream",
          "text": [
            "Enter first number = 10\n",
            "Enter second number = 10\n",
            "The numbers are equal\n"
          ]
        }
      ],
      "source": [
        "num1 = int(input(\"Enter first number = \"))\n",
        "num2 = int(input(\"Enter second number = \"))\n",
        "if num1>num2 :\n",
        "    print(\"First is greater\")\n",
        "\n",
        "elif num2>num1 :\n",
        "    print (\"Second is gretare\")\n",
        "    \n",
        "else :\n",
        "    print(\"The numbers are equal\")\n"
      ]
    },
    {
      "cell_type": "markdown",
      "metadata": {
        "id": "WcPZy_phwc-1"
      },
      "source": [
        "### Task 4\n",
        "\n",
        "Write Python code of a program that reads two numbers, subtracts the smaller number from the larger one, and prints the result.\n",
        "\n",
        "*hint: First check which number is greater*\n"
      ]
    },
    {
      "cell_type": "code",
      "execution_count": null,
      "metadata": {
        "id": "f_foe7vawc-1",
        "outputId": "f25be47a-ecf6-4c60-cc6e-82a62afb7478"
      },
      "outputs": [
        {
          "name": "stdout",
          "output_type": "stream",
          "text": [
            "Enter first number = 5\n",
            "Enter second number = 10\n",
            "Result =  5.0\n"
          ]
        }
      ],
      "source": [
        "num1 = float(input(\"Enter first number = \"))\n",
        "num2 = float(input(\"Enter second number = \"))\n",
        "if num1>num2 :\n",
        "    result = num1-num2\n",
        "    print(\"Result =\",result)\n",
        "\n",
        "else :\n",
        "    result = num2- num1\n",
        "    print (\"Result = \",result)\n",
        "    "
      ]
    },
    {
      "cell_type": "markdown",
      "metadata": {
        "id": "nIb0c30Mwc-2"
      },
      "source": [
        "### Task 5\n",
        "\n",
        "Write Python code of a program that reads a number, and prints “The number is even” or “The number is odd”, depending on whether the number is even or odd. \n",
        "\n",
        "*hint: use the modulus (%) operator*\n"
      ]
    },
    {
      "cell_type": "code",
      "execution_count": null,
      "metadata": {
        "id": "L1jWe4GZwc-2",
        "outputId": "f48fbd9d-ceff-41fc-b93a-535165f9032b"
      },
      "outputs": [
        {
          "name": "stdout",
          "output_type": "stream",
          "text": [
            "Enter the number = 10\n",
            "The number is even\n"
          ]
        }
      ],
      "source": [
        "num = int(input(\"Enter the number = \"))\n",
        "if num%2==0 :\n",
        "    print(\"The number is even\")\n",
        "    \n",
        "else : \n",
        "    print(\" The number is odd\")"
      ]
    },
    {
      "cell_type": "markdown",
      "metadata": {
        "id": "aos0TP39wc-2"
      },
      "source": [
        "### Task 6\n",
        "\n",
        "Write Python code of a program that reads an integer, and prints the integer if it is a multiple of **either 2 or 5.**\n",
        "\n",
        "For example, 2, 4, 5, 6, 8, 10, 12, 14, 15, 16, 18, 20, 22 …\n",
        "\n"
      ]
    },
    {
      "cell_type": "code",
      "execution_count": null,
      "metadata": {
        "id": "nST24uPTwc-3",
        "outputId": "a6d89347-dc3b-4595-82d5-e17af5326ac0"
      },
      "outputs": [
        {
          "name": "stdout",
          "output_type": "stream",
          "text": [
            "Enter the number = 20\n",
            "The integer is 20\n"
          ]
        }
      ],
      "source": [
        "num = int(input(\"Enter the number = \"))\n",
        "if (num%2==0 or num%5==0) :\n",
        "    print(\"The integer is\",num)\n",
        "    \n",
        "else :\n",
        "    print(\"The number is not multiple of 2 or 5\")"
      ]
    },
    {
      "cell_type": "markdown",
      "metadata": {
        "id": "X-M8b1Rcwc-3"
      },
      "source": [
        "### Task 7\n",
        "Write Python code of a program that reads an integer, and prints the integer  it is a multiple of **either 2 or 5 but not both.** \n",
        "\n",
        "For example, 2, 4, 5, 6, 8, 12, 14, 15, 16, 18, 22 …\n"
      ]
    },
    {
      "cell_type": "code",
      "execution_count": null,
      "metadata": {
        "id": "k47W7gPZwc-3",
        "outputId": "0c69f57c-dc5f-4745-8dee-2d19b0f8eddb"
      },
      "outputs": [
        {
          "name": "stdout",
          "output_type": "stream",
          "text": [
            "Enter the number = 15\n",
            "The integer is =  15\n"
          ]
        }
      ],
      "source": [
        "num = int(input(\"Enter the number = \"))\n",
        "if (num%2==0 and num%5==0) :\n",
        "    print(\"The integer is not correct\")\n",
        "    \n",
        "else :\n",
        "    print(\"The integer is = \",num)"
      ]
    },
    {
      "cell_type": "markdown",
      "metadata": {
        "id": "xX00gWbRwc-4"
      },
      "source": [
        "### Task 8\n",
        "Write Python code of a program that reads an integer, and prints the integer if it is a multiple of **2 and 5.**\n",
        "\n",
        "For example, 10, 20, 30, 40, 50 …\n",
        "\n"
      ]
    },
    {
      "cell_type": "code",
      "execution_count": null,
      "metadata": {
        "id": "du60CT2rwc-4",
        "outputId": "4ca93fa8-8151-4bc5-c492-e4447d03758b"
      },
      "outputs": [
        {
          "name": "stdout",
          "output_type": "stream",
          "text": [
            "Enter the number = 25\n",
            "The integer is not correct\n"
          ]
        }
      ],
      "source": [
        "num = int(input(\"Enter the number = \"))\n",
        "if (num%2==0 and num%5==0) :\n",
        "    print(\"The integer is = \",num)\n",
        "    \n",
        "else :\n",
        "    print(\"The integer is not correct\",)"
      ]
    },
    {
      "cell_type": "markdown",
      "metadata": {
        "id": "lqEntWAzwc-4"
      },
      "source": [
        "### Task 9\n",
        "\n",
        "\n",
        "Write Python code of a program that reads an integer, and prints the integer if it is a multiple of **NEITHER 2 NOR 5.** \n",
        "\n",
        "For example, 1, 3, 7, 9, 11, 13, 17, 19, 21, 23, 27, 29, 31, 33, 37, 39 …\n"
      ]
    },
    {
      "cell_type": "code",
      "execution_count": null,
      "metadata": {
        "id": "L7Ed_Gt1wc-4",
        "outputId": "03aa5d34-34d2-496a-b7aa-a84497a84202"
      },
      "outputs": [
        {
          "name": "stdout",
          "output_type": "stream",
          "text": [
            "Enter the number = 25\n",
            "The integer is not correct\n"
          ]
        }
      ],
      "source": [
        "num = int(input(\"Enter the number = \"))\n",
        "if not(num%2==0 or num%5==0) :\n",
        "    print(\"The integer is = \",num)\n",
        "    \n",
        "else :\n",
        "    print(\"The integer is not correct\")\n",
        "    "
      ]
    },
    {
      "cell_type": "markdown",
      "metadata": {
        "id": "S5XhX-9Kwc-5"
      },
      "source": [
        "### Task 10\n",
        "\n",
        "Write Python code of a program that reads an integer, and prints the integer if it is NOT a multiple of **2 OR NOT a multiple of 5.**\n",
        "\n",
        "For example, 1, 2, 3, 4, 5, 6, 7, 8, 9, 11, 12, 13, 14, 15, 16, 17, 18, 19, 21, 22\n"
      ]
    },
    {
      "cell_type": "code",
      "execution_count": null,
      "metadata": {
        "id": "Ilec4YlDwc-5"
      },
      "outputs": [],
      "source": [
        "num = int(input(\"Enter the number = \"))\n",
        "if not(num%2==0 and num%5==0) :\n",
        "    print(\"The integer is = \",num)\n",
        "    \n",
        "else :\n",
        "    print(\"The integer is not correct\")\n",
        "    "
      ]
    },
    {
      "cell_type": "markdown",
      "metadata": {
        "id": "_aE0b6uRwc-5"
      },
      "source": [
        "### Task 11\n",
        "\n",
        "Write Python code of a program that reads a student’s mark for a single subject, and prints out the corresponding grade for that mark. The mark ranges and corresponding grades are shown in the table below.\n",
        "\n",
        "*hint: This problem can be solved in two ways: top-down (starts from A) and bottom-up (starts from F)*\n",
        "\n",
        "\n",
        "| Marks | Grage|\n",
        "| --- | --- | \n",
        "|90 or above| A |\n",
        "|  |  | \n",
        "|80-89| B |\n",
        "|  |  | \n",
        "|70-79| C |\n",
        "|  |  | \n",
        "|60-69| D |\n",
        "|  |  | \n",
        "|50-59| E |\n",
        "|  |  | \n",
        "|Below 50| F |\n",
        "\n",
        "\n",
        "\n",
        "\n",
        "\n"
      ]
    },
    {
      "cell_type": "code",
      "execution_count": null,
      "metadata": {
        "id": "PfMTrHPtwc-6",
        "outputId": "8ac24f20-d7ba-484d-bfef-fb5f71de5cb0"
      },
      "outputs": [
        {
          "name": "stdout",
          "output_type": "stream",
          "text": [
            "Enter the mark = 45\n",
            "F\n"
          ]
        }
      ],
      "source": [
        "mark = float(input(\"Enter the mark = \"))\n",
        "\n",
        "if mark>=90 :\n",
        "    print(\"A\")\n",
        "elif mark>=80 :\n",
        "    print(\"B\")\n",
        "elif mark>=70 :\n",
        "    print(\"C\")\n",
        "elif mark>=60 :\n",
        "    print(\"D\")\n",
        "elif mark>=50 :\n",
        "    print(\"E\")\n",
        "else :\n",
        "    print(\"F\")    "
      ]
    },
    {
      "cell_type": "markdown",
      "metadata": {
        "id": "MzdtP81Dwc-6"
      },
      "source": [
        "### Task 12\n",
        "\n",
        "Write Python code of a program to compute and display a person’s weekly salary as determined by the following conditions:\n",
        "If the hours worked are less than or equal to 40, the person receives Tk200.00 per hour, else the person receives Tk8000.00 plus Tk300.00 for each hour worked over 40 hours.\n",
        "The program should request the hours worked as input and should display the salary as output.\n",
        "\n",
        "**example1:**\\\n",
        "Input: 100\\\n",
        "Output: 26000\n",
        "\n",
        "**example2:**\\\n",
        "Input: 30\\\n",
        "Output: 6000\n"
      ]
    },
    {
      "cell_type": "code",
      "execution_count": null,
      "metadata": {
        "id": "Hxvv18vAwc-6",
        "outputId": "943c5b58-7fa6-4026-b135-f6aa2edaf5b2"
      },
      "outputs": [
        {
          "name": "stdout",
          "output_type": "stream",
          "text": [
            "Enter the working hour = 30\n",
            "The salary is =  6000.0\n"
          ]
        }
      ],
      "source": [
        "hour = float(input(\"Enter the working hour = \"))\n",
        "if hour<=40 :\n",
        "    salary = 200*hour\n",
        "    print(\"The salary is = \",salary)\n",
        "else : \n",
        "    salary = 8000+(300*(hour-40))\n",
        "    print(\"The salary is = \",salary)"
      ]
    },
    {
      "cell_type": "markdown",
      "metadata": {
        "id": "_ucClTVOwc-7"
      },
      "source": [
        "### Task 13\n",
        "Write Python code of a program that finds the number of hours, minutes, and seconds in a **given number of seconds.** \n",
        "\n",
        "**Example:**\\\n",
        "Input: 10000 seconds\\\n",
        "Output: 2 Hours 46 minutes, 40 seconds\n",
        "\n",
        "*hints: 1 hour = 60 mins = 3600 seconds*\\\n",
        "*1min = 60 seconds* \n",
        "\n",
        "\n",
        "\n",
        "\n"
      ]
    },
    {
      "cell_type": "code",
      "execution_count": null,
      "metadata": {
        "id": "OpObveQZwc-7",
        "outputId": "ba8ab782-2c2f-47e9-c2ec-88cf3114aca5"
      },
      "outputs": [
        {
          "name": "stdout",
          "output_type": "stream",
          "text": [
            "Enter the number = 10000\n",
            "2 hours  46 minutes  40 seconds \n"
          ]
        }
      ],
      "source": [
        "num = int(input(\"Enter the number = \"))\n",
        "hour = num//3600\n",
        "hour1 = num%3600\n",
        "minute = hour1//60\n",
        "second = hour1%60\n",
        "print(hour,\"hours \", minute,\"minutes \",second,\"seconds \")"
      ]
    },
    {
      "cell_type": "markdown",
      "metadata": {
        "id": "pME_SPRAwc-7"
      },
      "source": [
        "### Task 14\n",
        "Suppose the following expressions are used to calculate the values of L for different values of S:\n",
        "\n",
        "$L =  3000-125S^2$ \n",
        "if     $S<100$\n",
        "\n",
        "$ c =  \\frac{12000}{4+S^2/14900}$\n",
        "if     $S\\geq100$\n",
        "\n",
        "Write a Python code of a program that reads a value of S and then calculates the value of L.\\\n",
        "\n",
        "For example:\\\n",
        "If S=3, L= 1875.\\\n",
        "If S=120, L= 2416.2162162162163\\\n",
        "\n",
        "\n",
        "*hints: You can import math and use math function for making squares math.pow(number, power)   Or you can simply write S**2.*"
      ]
    },
    {
      "cell_type": "code",
      "execution_count": null,
      "metadata": {
        "id": "RWdaXCCNwc-7",
        "outputId": "7bf5692a-a0c8-405d-ee1e-8ad605714de0"
      },
      "outputs": [
        {
          "name": "stdout",
          "output_type": "stream",
          "text": [
            "Enter value for S = 3\n",
            " L =  1875.0\n"
          ]
        }
      ],
      "source": [
        "s = float(input(\"Enter value for S = \"))\n",
        "if s<100 :\n",
        "    l = 3000-(125*(s**2))\n",
        "    print(\" L = \",l)\n",
        "else :\n",
        "    l=(12000/(4+(s**2)/14900))\n",
        "    print(\"L = \",l) \n",
        "    "
      ]
    },
    {
      "cell_type": "markdown",
      "metadata": {
        "id": "wEQrW3cnwc-8"
      },
      "source": [
        "### Task 15\n",
        "\n",
        "Take an hour from the user as input and tell it is time for which meal.\n",
        "\n",
        "•\tThe user will input the number in a 24-hour format. So, 14 means 2 pm, 3 means 3 am, 18 means 6 pm, etc.\\\n",
        "•\tValid inputs are 0 to 23. Inputs less than 0 or more than 23 are invalid in 24-hour clock.\\\n",
        "•\tAssume, Input will be whole numbers. For example, 3.5 will NOT be given as input.\n",
        "\n",
        "Inputs: Message to be printed\\\n",
        "4 to 6: Breakfast\\\n",
        "12 to 13: Lunch\\\n",
        "16 to 17: Snacks\\\n",
        "19 to 20: Dinner\\\n",
        "For all other valid inputs, say \"Patience is a virtue\"\\\n",
        "For all other invalid inputs, say \"Wrong time\"\n",
        "\n",
        "For example,\\\n",
        "If the user enters 4, your program should print the message \"Breakfast\".\\\n",
        "If the user enters 5, your program should print the message \"Breakfast\".\\\n",
        "If the user enters 6, your program should print the message \"Breakfast\".\\\n",
        "If the user enters 0, your program should print the message \"Patience is a virtue\".\\\n",
        "If the user enters 1, your program should print the message \"Patience is a virtue\".\\\n",
        "If the user enters 18, your program should print the message \"Patience is a virtue\".\\\n",
        "If the user enters 23, your program should print the message \"Patience is a virtue\".\\\n",
        "If the user enters 24, your program should print the message \"Wrong Time\".\\\n",
        "If the user enters -1, your program should print the message \"Wrong Time\".\\\n",
        "If the user enters 27, your program should print the message \"Wrong time\".\n",
        "\n",
        "Hints:\\\n",
        "You can use nested conditionals (if-else) or chained conditions (if-elif-else) to solve this problem.\n",
        "\n"
      ]
    },
    {
      "cell_type": "code",
      "execution_count": null,
      "metadata": {
        "id": "73JmnND1wc-8"
      },
      "outputs": [],
      "source": [
        "hour = int(input(\"Enter the time = \"))\n",
        "if hour>23 or hour<0 :\n",
        "    print(\"Wrong Time\")\n",
        "elif hour>=0 and hour<4 :\n",
        "    print(\"Patience is a virtue \")\n",
        "elif hour>=4 and hour<7 :\n",
        "    print(\"Breakfast \")\n",
        "elif hour>=7 and hour<12 :\n",
        "    print(\"Patience is a virtue \")\n",
        "elif hour>=12 and hour<14 :\n",
        "    print(\"Lunch \")\n",
        "elif hour>=14 and hour<16 :\n",
        "    print(\"Patience is a virtue \")\n",
        "elif hour>=16 and hour<18 :\n",
        "    print(\"Snacks \")\n",
        "elif hour>=18 and hour<19 :\n",
        "    print(\"Patience is a virtue\")\n",
        "elif hour>=19 and hour<20 :\n",
        "    print(\"Dinner \")    \n",
        "else :\n",
        "    print(\"Patience is a virtue \")"
      ]
    },
    {
      "cell_type": "code",
      "execution_count": null,
      "metadata": {
        "id": "xQUNJSn-wc-8"
      },
      "outputs": [],
      "source": [
        ""
      ]
    }
  ],
  "metadata": {
    "kernelspec": {
      "display_name": "Python 3",
      "language": "python",
      "name": "python3"
    },
    "language_info": {
      "codemirror_mode": {
        "name": "ipython",
        "version": 3
      },
      "file_extension": ".py",
      "mimetype": "text/x-python",
      "name": "python",
      "nbconvert_exporter": "python",
      "pygments_lexer": "ipython3",
      "version": "3.7.6"
    },
    "colab": {
      "name": "CSE110 Assignment01.ipynb",
      "provenance": []
    }
  },
  "nbformat": 4,
  "nbformat_minor": 0
}