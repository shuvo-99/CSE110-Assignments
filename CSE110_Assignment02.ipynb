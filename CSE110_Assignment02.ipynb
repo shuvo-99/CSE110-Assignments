{
  "cells": [
    {
      "cell_type": "markdown",
      "metadata": {
        "id": "byQJwwm3NS_a"
      },
      "source": [
        "# CSE110 Assignment 2\n",
        "\n",
        "This assignment is to guide you to solve basic programming problems using loop in Python. \n",
        "\n",
        "## Write the Python code of the following problems:"
      ]
    },
    {
      "cell_type": "markdown",
      "metadata": {
        "id": "HxGK9VMXNS_j"
      },
      "source": [
        "### Task 1\n",
        "\n",
        "Write python program, which prints the following sequences of values in loops:\n",
        "\n",
        "a)\t24, 18, 12, 6, 0, -6\\\n",
        "b)\t-10, -5, 0, 5, 10, 15, 20\\\n",
        "c)\t18, 27, 36, 45, 54, 63\\\n",
        "d)\t18,-27, 36,-45,54,-63\n",
        "\n",
        "**Hints(1):** Use a while loop for solving these problems.\n",
        "\n",
        "**Hints(2):** We are already familiar with the print() function. But when we use it to print any value it automatically adds an additional newline after each print statement.\n",
        "\n",
        "For example:\\\n",
        "print(1)\\\n",
        "print(2)\n",
        "\n",
        "Output:\\\n",
        "1\\\n",
        "2\n",
        "\n",
        "=====================================================================\n",
        "\n",
        "To solve this problem, in Python3, we need to add an extra argument (end = \" \") in the print function which tells the program to skip printing the additional newline.\n",
        "\n",
        "For example:\\\n",
        "print(1, end =\" \")\\\n",
        "print(2)\n",
        "\n",
        "Output:(prints the next output right to the previous one)\\\n",
        "12\n",
        "\n",
        "=====================================================================\n",
        "\n",
        "In Task-1(a), the loop counter should be initialized at 24 and the loop should terminate when the loop counter reaches -6. The difference between the first two values is 24-18=6. So the loop counter value is getting decremented by 6 in every iteration.\n",
        "\n",
        "For your understanding task 1(a) code is done for you.\n"
      ]
    },
    {
      "cell_type": "code",
      "execution_count": null,
      "metadata": {
        "id": "f0_qZ4jeNS_l",
        "outputId": "35aefabc-af0e-4700-9a2b-2f21a3e558c9"
      },
      "outputs": [
        {
          "name": "stdout",
          "output_type": "stream",
          "text": [
            "24, 18, 12, 6, 0, -6"
          ]
        }
      ],
      "source": [
        "# a) 24, 18, 12, 6, 0, -6\n",
        "\n",
        "# initialize loop counter\n",
        "counter = 24\n",
        "\n",
        "# loop structure\n",
        "while counter >= -6:\n",
        "    \n",
        "    #inside loop body\n",
        "    if counter == -6:\n",
        "        print(counter, end = \"\") \n",
        "    else:\n",
        "        print(counter, end = \", \") \n",
        "     \n",
        "    counter = counter - 6 #updating loop counter\n",
        "    #inside loop body\n",
        "    \n",
        "#outside loop body"
      ]
    },
    {
      "cell_type": "code",
      "execution_count": null,
      "metadata": {
        "id": "1C8e7ePwNS_o",
        "outputId": "61836b4f-9944-48a9-cfd9-e8f441d8a46c"
      },
      "outputs": [
        {
          "name": "stdout",
          "output_type": "stream",
          "text": [
            "-10, -5, 0, 5, 10, 15, 20"
          ]
        }
      ],
      "source": [
        "# b)-10, -5, 0, 5, 10, 15, 20\n",
        "\n",
        "counter = -10\n",
        "while counter <= 20:\n",
        "    if counter == 20:\n",
        "        print(counter, end = \"\") \n",
        "    else:\n",
        "        print(counter, end = \", \") \n",
        "     \n",
        "    counter = counter + 5"
      ]
    },
    {
      "cell_type": "code",
      "execution_count": null,
      "metadata": {
        "id": "CB6CeoyjNS_p",
        "outputId": "53dc59dc-8381-4c5d-f253-1e2387c78887"
      },
      "outputs": [
        {
          "name": "stdout",
          "output_type": "stream",
          "text": [
            "18, 27, 36, 45, 54, 63"
          ]
        }
      ],
      "source": [
        "# c)18, 27, 36, 45, 54, 63\n",
        "counter = 18\n",
        "while counter <= 63:\n",
        "    if counter == 63:\n",
        "        print(counter, end = \"\") \n",
        "    else:\n",
        "        print(counter, end = \", \") \n",
        "       \n",
        "    counter = counter + 9"
      ]
    },
    {
      "cell_type": "markdown",
      "metadata": {
        "id": "rVQsbsLgNS_q"
      },
      "source": [
        "**Hints for 1(d):** \n",
        "\n",
        "print(5 * (-1)) gives output -5\\\n",
        "print(\"-\" + str(5)) gives output -5"
      ]
    },
    {
      "cell_type": "code",
      "execution_count": null,
      "metadata": {
        "id": "J_2WeQHwNS_r",
        "outputId": "f70609aa-ebdf-45d3-944b-93f54ec50c33"
      },
      "outputs": [
        {
          "name": "stdout",
          "output_type": "stream",
          "text": [
            "18,-27,36,-45,54,-63,"
          ]
        }
      ],
      "source": [
        "# d)18,-27, 36,-45,54,-63\n",
        "\n",
        "counter = 18\n",
        "check = 1\n",
        "while counter <= 63:\n",
        "    if check%2 != 0:\n",
        "        print(counter, end = \",\") \n",
        "        check = check + 1\n",
        "        counter = counter + 9 \n",
        "    else:\n",
        "        print((counter*(-1)), end = \",\") \n",
        "        check = check + 1 \n",
        "        counter = counter + 9\n"
      ]
    },
    {
      "cell_type": "markdown",
      "metadata": {
        "id": "Q3xpxIu-NS_s"
      },
      "source": [
        "====================================================================\\\n",
        "<font color='blue'>\n",
        "All the tasks can be solved using both the \"while loop\" and the \"for loop\". But you need to choose the best looping construct which is the most suitable for solving a particular task.\n",
        "</font>\n",
        "\n",
        "===================================================================="
      ]
    },
    {
      "cell_type": "markdown",
      "metadata": {
        "id": "uhWcdo_NNS_t"
      },
      "source": [
        "### Task 2\n",
        "Write a Python code for the following:\n",
        "\n",
        "1)\tAsk the user to enter the name of his favorite car.\\\n",
        "2)\tAsk the user to enter a Number\n",
        "\n",
        "Display the name of the user’s favorite car, the number of times specified in the second step.\n",
        "\n",
        "**Example:** If the user enters “Toyota” and 20, your program should print the name “Toyota” twenty times.\n",
        "\n",
        "**Example:** If the user enters “Veyron” and 5, your program should print the name “Veyron” five times.\n",
        "\n",
        "**Input:**\\\n",
        "Veyron, 5\n",
        "\n",
        "**Output:**\\\n",
        "Veyron\\\n",
        "Veyron\\\n",
        "Veyron\\\n",
        "Veyron\\\n",
        "Veyron\n"
      ]
    },
    {
      "cell_type": "code",
      "execution_count": null,
      "metadata": {
        "id": "BMucK5eVNS_u"
      },
      "outputs": [],
      "source": [
        "#Todo\n",
        "\n",
        "car_name = input(\" Enter the name of your favourite car : \")\n",
        "number = (int(input(\" Enter how many times to print : \")))\n",
        "count = 1\n",
        "while count <= number :\n",
        "    print(car_name)\n",
        "    count += 1\n"
      ]
    },
    {
      "cell_type": "markdown",
      "metadata": {
        "id": "_FY1ExioNS_2"
      },
      "source": [
        "### Task 3\n",
        "Write a Python code of a program that adds all numbers that are multiples of **both 7 and 9** up to 600 (including 600).\n",
        "\n",
        "Output: 2835\n"
      ]
    },
    {
      "cell_type": "code",
      "execution_count": null,
      "metadata": {
        "id": "HxRQj7TANS_2",
        "outputId": "2f7b8430-8666-40d5-f7da-d28aaa998b9f"
      },
      "outputs": [
        {
          "name": "stdout",
          "output_type": "stream",
          "text": [
            " Total sum is =  2835\n"
          ]
        }
      ],
      "source": [
        "#Todo\n",
        "Sum  = 0\n",
        "count = 1\n",
        "while count <= 600:\n",
        "         if (count%7== 0 and count%9== 0):\n",
        "            Sum = Sum + count\n",
        "    \n",
        "         count += 1\n",
        "    \n",
        "print(\" Total sum is = \", Sum)"
      ]
    },
    {
      "cell_type": "markdown",
      "metadata": {
        "id": "NP8qWFvjNS_3"
      },
      "source": [
        "### Task 4\n",
        "Write a Python code of a program that adds all numbers that are multiples of **either 7 or 9** up to 600(including 600). \\\n",
        "Ensure that numbers like 63 are added only once in the sum.\n",
        "\n",
        "Output: 42649\n"
      ]
    },
    {
      "cell_type": "code",
      "execution_count": null,
      "metadata": {
        "id": "ZiARCEVNNS_4",
        "outputId": "44cbb2e5-4d0c-4c8f-d9db-cc86217a8dc9"
      },
      "outputs": [
        {
          "name": "stdout",
          "output_type": "stream",
          "text": [
            " Total sum is =  42649\n"
          ]
        }
      ],
      "source": [
        "#Todo\n",
        "Sum  = 0\n",
        "count = 1\n",
        "while count <= 600:\n",
        "         if (count%7== 0 or count%9== 0):\n",
        "            Sum = Sum + count\n",
        "    \n",
        "         count += 1\n",
        "    \n",
        "print(\" Total sum is = \", Sum)"
      ]
    },
    {
      "cell_type": "markdown",
      "metadata": {
        "id": "LMfABU1kNS_4"
      },
      "source": [
        "### Task 5\n",
        "Write a Python code of a program that adds all numbers that are multiples of **either 7 or 9 but not both**, up to 600(including 600).\n",
        "\n",
        "Output: 39814\n"
      ]
    },
    {
      "cell_type": "code",
      "execution_count": null,
      "metadata": {
        "id": "ej2OWhyrNS_5",
        "outputId": "756d8c7d-124b-46e3-cfec-708e293d69c6"
      },
      "outputs": [
        {
          "name": "stdout",
          "output_type": "stream",
          "text": [
            " Total sum is =  39814\n"
          ]
        }
      ],
      "source": [
        "#Todo\n",
        "Sum  = 0\n",
        "count = 1\n",
        "while count <= 600:\n",
        "         if(count%7== 0 and count%9!= 0) or (count%7!= 0 and count%9== 0):\n",
        "               Sum = Sum + count\n",
        "               \n",
        "         count += 1\n",
        "               \n",
        "    \n",
        "print(\" Total sum is = \", Sum)"
      ]
    },
    {
      "cell_type": "markdown",
      "metadata": {
        "id": "icUW8bx_NS_6"
      },
      "source": [
        "### Task 6\n",
        "Write a Python code to displays all the **odd numbers** between 10 and 50.\n",
        "\n",
        "Output: 11 13 15 17 19 21 23 25 27 29 31 33 35 37 39 41 43 45 47 49\n"
      ]
    },
    {
      "cell_type": "code",
      "execution_count": null,
      "metadata": {
        "id": "f_NM_wN1NS_6",
        "outputId": "20571f81-f9f0-41a2-ee58-d6682f305ea2"
      },
      "outputs": [
        {
          "name": "stdout",
          "output_type": "stream",
          "text": [
            "11 13 15 17 19 21 23 25 27 29 31 33 35 37 39 41 43 45 47 49 "
          ]
        }
      ],
      "source": [
        "#Todo\n",
        "count = 10\n",
        "while (count <=50):\n",
        "    if (count%2 != 0):\n",
        "         print(count, end = \" \")\n",
        "            \n",
        "    count = count+1       \n"
      ]
    },
    {
      "cell_type": "markdown",
      "metadata": {
        "id": "Qoi7QeL_NS_6"
      },
      "source": [
        "### Task 7\n",
        "Write a Python code that will calculate the **value of y if the expression** of y is as follows (n is the input):  \n",
        "\n",
        "$y = 1^2 - 2^2 +3^2 -4^2 +5^2 .........+ n^2 $\n",
        "\n",
        "**Example:** \n",
        "\n",
        "If the user enters 10, y= -55 \\\n",
        "If the user enters 20, y= -210\n"
      ]
    },
    {
      "cell_type": "code",
      "execution_count": null,
      "metadata": {
        "id": "9Gt2HMybNS_7",
        "outputId": "2585f671-ada1-4c84-91d7-82e9ab5ccd53"
      },
      "outputs": [
        {
          "name": "stdout",
          "output_type": "stream",
          "text": [
            "Enter last number,y = 20\n",
            "y =  -210\n"
          ]
        }
      ],
      "source": [
        "#Todo\n",
        "n = int(input(\"Enter last number,y = \"))\n",
        "sum = 0\n",
        "\n",
        "for x in range(1, n+1,1):\n",
        "    if x %2 != 0:\n",
        "        sum = sum + x*x\n",
        "\n",
        "    else:\n",
        "         sum = sum + x*x*(-1)\n",
        "         \n",
        "print(\"y = \",sum) "
      ]
    },
    {
      "cell_type": "markdown",
      "metadata": {
        "id": "DBhYaRc0NS_8"
      },
      "source": [
        "### Task 8\n",
        "Write a Python code of a program that asks the user to enter ten numbers then display the total and the average of **ONLY** the **odd numbers** among those ten numbers.\n",
        "\n",
        "**Example(1):** \n",
        "\n",
        "Input: 1 2 3 4 5 6 7 8 9 10 \\\n",
        "Output: Total is 25 and Average is 5.0\\\n",
        "(i.e., Total is 25 = (1+3+5+7+9) and Average is 25/5 = 5.0)]\n",
        "\n",
        "\n",
        "**Example(2):** \n",
        "\n",
        "Input: -20  3  -5  40  -17  9  20  -8   99  -200 \\\n",
        "Output: Total is 89 and Average is 17.8 \\\n",
        "(i.e., Total is 89 =(3+(-5)+(-17)+9+99) and Average is 89/5 = 17.8)]\n",
        "\n",
        "\n"
      ]
    },
    {
      "cell_type": "code",
      "execution_count": null,
      "metadata": {
        "id": "uePjxgbINS_8",
        "outputId": "e11937a9-2f26-4d0c-f0cd-333efee015f9"
      },
      "outputs": [
        {
          "name": "stdout",
          "output_type": "stream",
          "text": [
            " Enter a number = 1\n",
            " Enter a number = 2\n",
            " Enter a number = 3\n",
            " Enter a number = 4\n",
            " Enter a number = 5\n",
            " Enter a number = 6\n",
            " Enter a number = 7\n",
            " Enter a number = 8\n",
            " Enter a number = 9\n",
            " Enter a number = 10\n",
            "Total sum is =  25\n",
            "Total average is =  5.0\n"
          ]
        }
      ],
      "source": [
        "sum = 0\n",
        "count = 0\n",
        "i = 1\n",
        "while i <=10:\n",
        "    x = int(input(\" Enter a number = \"))\n",
        "    if x%2 !=0:\n",
        "        sum = sum +x\n",
        "        count = count + 1\n",
        "        \n",
        "    i = i +1\n",
        "    \n",
        "avg = sum/count \n",
        "print(\"Total sum is = \",sum)\n",
        "print(\"Total average is = \",avg)\n"
      ]
    },
    {
      "cell_type": "markdown",
      "metadata": {
        "id": "usO9LeF9NS_8"
      },
      "source": [
        "### Task 9\n",
        "Write a Python code for the following:\n",
        "* Ask the user to enter a Number, N\n",
        "* Display the summation of multiples of 7 up to that number (**from 1 to N inclusive**)\n",
        "\n",
        "**Example(1):** If the user **enters 50**, your program should print 196. \\\n",
        "(Because: 7 + 14 + 21 + 28 + 35 + 42 + 49 = 196).\n",
        "\n",
        "**Example(2):** If the user **enters 75**, your program should print 385. \\\n",
        "(Because: 7 + 14 + 21 + 28 + 35 + 42 + 49 + 56 + 63 + 70 = 385).\n",
        "\n"
      ]
    },
    {
      "cell_type": "code",
      "execution_count": null,
      "metadata": {
        "id": "14mqV9RPNS_9",
        "outputId": "384f8711-4f3c-463c-9a9a-1a7ca011ca6b",
        "colab": {
          "base_uri": "https://localhost:8080/"
        }
      },
      "outputs": [
        {
          "output_type": "stream",
          "name": "stdout",
          "text": [
            "Enter a number = 50\n",
            " Total sum is =  196\n"
          ]
        }
      ],
      "source": [
        "#Todo\n",
        "num =int(input(\"Enter a number = \"))\n",
        "Sum  = 0\n",
        "count = 1\n",
        "while count <= num:\n",
        "       if (count%7== 0):\n",
        "           Sum = Sum + count\n",
        "    \n",
        "         count += 1\n",
        "    \n",
        "print(\" Total sum is = \", Sum)"
      ]
    },
    {
      "cell_type": "markdown",
      "metadata": {
        "id": "uaNeD8UgNS_9"
      },
      "source": [
        "### Task 10\n",
        "Write a Python code that will read 10 numbers from the user, and then print the first number, the sum of the first 2 numbers, the sum of the first 3 numbers, and so on up to the sum of 10 numbers.\n",
        "\n",
        "For example,\n",
        "\n",
        "The user enters 10, output 10, then \\\n",
        "The user enters 2, (10+2) = 12, output 12, then \\\n",
        "The user enters 4, (10+2+4) = 16, output 16, then \\\n",
        "The user enters 20, (10+2+4+20) = 36, output 36, and continuous till the 10$^{th}$ input\n"
      ]
    },
    {
      "cell_type": "code",
      "execution_count": null,
      "metadata": {
        "id": "t3IxGP4ZNS_-",
        "outputId": "e29fdc73-f957-4a47-c7be-c782052bf532"
      },
      "outputs": [
        {
          "name": "stdout",
          "output_type": "stream",
          "text": [
            " Enter a number = 1\n",
            "Total sum is =  1\n",
            " Enter a number = 2\n",
            "Total sum is =  3\n",
            " Enter a number = 3\n",
            "Total sum is =  6\n",
            " Enter a number = 4\n",
            "Total sum is =  10\n",
            " Enter a number = 5\n",
            "Total sum is =  15\n",
            " Enter a number = 6\n",
            "Total sum is =  21\n",
            " Enter a number = 7\n",
            "Total sum is =  28\n",
            " Enter a number = 8\n",
            "Total sum is =  36\n",
            " Enter a number = 9\n",
            "Total sum is =  45\n",
            " Enter a number = 10\n",
            "Total sum is =  55\n"
          ]
        }
      ],
      "source": [
        "#Todo\n",
        "sum = 0\n",
        "count = 0\n",
        "i = 1\n",
        "while i <=10:\n",
        "    x = int(input(\" Enter a number = \"))\n",
        "  \n",
        "    sum = sum +x\n",
        "    print(\"Total sum is = \",sum)\n",
        "    count = count + 1\n",
        "        \n",
        "    i = i +1\n",
        "    "
      ]
    },
    {
      "cell_type": "markdown",
      "metadata": {
        "id": "pu1Vk_8TNS_-"
      },
      "source": [
        "### Task 11\n",
        "Write a Python program which takes a number and prints the digits from the unit place, then the tenth, then hundredth, etc. <font color='red'>(Right to Left)</font>\n",
        "\n",
        "**Example:** If the user gives 32768, then print 8, 6, 7, 2, 3 \n",
        "\n",
        "**Hint:** First to get the digit from the right side, take the remainder of the number using modulus (%) operator and print the digit. For dropping the last digit, perform floor division by 10 on the number. Then start over.\n",
        "\n",
        "32,768 % 10 = 8 \n",
        "\n",
        "32,768 // 10 = 3, 276 \n",
        "\n",
        "3, 276 % 10 = 6\n",
        "\n",
        "3, 276 // 10 = 327 \n",
        "\n",
        "327 % 10 = 7 \n",
        "\n",
        "327 // 10 = 32 \n",
        "\n",
        "32 % 10 = 2 \n",
        "\n",
        "32 //10 = 3 \n",
        "\n",
        "3 % 10 = 3 \n",
        "\n",
        "3 // 10 = 0 \n",
        "\n",
        "Done! When the number becomes 0 your loop should end.\n"
      ]
    },
    {
      "cell_type": "code",
      "execution_count": null,
      "metadata": {
        "id": "vZn4cSRrNS__",
        "outputId": "250cb20c-9fa0-4b64-82ac-fc06ac810df9"
      },
      "outputs": [
        {
          "name": "stdout",
          "output_type": "stream",
          "text": [
            "Enter the number = 32768\n",
            "8, 6, 7, 2, 3, "
          ]
        }
      ],
      "source": [
        "#Todo\n",
        "num = int(input(\"Enter the number = \"))\n",
        "y=0\n",
        "x=0\n",
        "while(x<num):\n",
        "    x=num%10\n",
        "    y=num//10\n",
        "    print(x, end=\", \")\n",
        "    num = y\n",
        " \n"
      ]
    },
    {
      "cell_type": "markdown",
      "metadata": {
        "id": "pAqxVlmQNS__"
      },
      "source": [
        "### Task 12\n",
        "\n",
        "Write a Python program that takes a number and tells how many digits are in that number. \n",
        "\n",
        "**Example:** If the user gives 9876, you should print 4. \n",
        "\n",
        "\n",
        "\n",
        "**Hint:** Keep floor dividing by ten and count how many times this could be divided. \n",
        "\n",
        "9876 floor divide by 10, is 987, count that got 1 digit (total 1) \\\n",
        "987 floor divide by 10, is 98, count that got 1 digit (total 2) \\\n",
        "98 floor divide by 10, is 9, count that got 1 digit (total 3) \\\n",
        "9 floor divide by 10, is 0, count that got 1 digit (total 4) \n",
        "\n",
        "Done! (When the number becomes 0 your loop should end.)\n",
        "\n"
      ]
    },
    {
      "cell_type": "code",
      "execution_count": null,
      "metadata": {
        "id": "VEC6IzG0NS__",
        "outputId": "4198fa43-d9a7-4c47-f858-402081473e74"
      },
      "outputs": [
        {
          "name": "stdout",
          "output_type": "stream",
          "text": [
            "Enter a number = 531795\n",
            "Number of digits =  6\n"
          ]
        }
      ],
      "source": [
        "#Todo\n",
        "num = int(input(\"Enter a number = \"))\n",
        "y=0\n",
        "x=0\n",
        "count=0\n",
        "while(num>x):\n",
        "        x=num%10\n",
        "        y=num//10\n",
        "        num = y\n",
        "        count=count+1\n",
        "     \n",
        "print(\"Number of digits = \",count)  "
      ]
    },
    {
      "cell_type": "markdown",
      "metadata": {
        "id": "bsPKC06HNTAA"
      },
      "source": [
        "### Task 13\n",
        "Write a Python code of a program that takes a number and prints the value of 10 to the power that number. <font color='red'>You need to use a loop because math function power is not allowed in this task.</font> \n",
        "\n",
        "For example: if the user gives 3, print 1000. \n",
        "\n",
        "**Hint:** Keep multiplying 1 by 10, again and again. \\\n",
        "You need to write, \\\n",
        "$product = product x 10$\n",
        "\n",
        "$1 x 10 = 10 $ \\\n",
        "$10 x 10 = 100$ \\\n",
        "$100 x 10 = 1000$ \n"
      ]
    },
    {
      "cell_type": "code",
      "execution_count": null,
      "metadata": {
        "id": "_WjBn82ONTAA",
        "outputId": "07c6b55f-3544-42d6-d514-7defb1b83fcf"
      },
      "outputs": [
        {
          "name": "stdout",
          "output_type": "stream",
          "text": [
            "Enter the power of 10 = 3\n",
            "1000\n"
          ]
        }
      ],
      "source": [
        "#Todo\n",
        "result = 1\n",
        "power = int(input(\"Enter the power of 10 = \"))\n",
        "for i in range(power):\n",
        "    result *= 10\n",
        "    \n",
        "print(result)\n"
      ]
    },
    {
      "cell_type": "markdown",
      "metadata": {
        "id": "ZLaKGIV9NTAB"
      },
      "source": [
        "### Task 14\n",
        "\n",
        "Write a Python program that takes a number from the user and prints the divisors of that number and then print how many divisors were there.\n",
        "\n",
        "**Example1:** \n",
        "\n",
        "Input: 6 \\\n",
        "Output: \\\n",
        "1, 2, 3, 6 \\\n",
        "“Total 4 divisors”.\n",
        "\n",
        "\n",
        "**Example2:** \n",
        "\n",
        "Input: 121 \\\n",
        "Output: \\\n",
        "1, 11, 121\n",
        "\n",
        "“Total 3 divisors”.\n",
        "\n"
      ]
    },
    {
      "cell_type": "code",
      "execution_count": null,
      "metadata": {
        "id": "vaweCgZsNTAB",
        "outputId": "06f9b5a4-a266-418f-f73c-11eb53675431"
      },
      "outputs": [
        {
          "name": "stdout",
          "output_type": "stream",
          "text": [
            " Enter the number = 6\n",
            "Divisors =  1, 2, 3, 6, \n",
            "\n",
            "Total 4 divisors\n"
          ]
        }
      ],
      "source": [
        "#Todo\n",
        "num = int(input(\" Enter the number = \"))\n",
        "count = 0\n",
        "print(\"Divisors = \", end=\" \")\n",
        "for x in range (1,num+1):\n",
        "    if num%x == 0 :\n",
        "        count += 1 \n",
        "        \n",
        "        print (x,end=\", \")\n",
        "        \n",
        "print(\"\\n\")        \n",
        "print( \"Total\", count,\"divisors\" )"
      ]
    },
    {
      "cell_type": "markdown",
      "metadata": {
        "id": "G5uIPGJ2NTAC"
      },
      "source": [
        "### Task 15\n",
        "Write a Python program that takes a number and tells if it is a perfect number or not.\n",
        "\n",
        "**Perfect Number:** An integer number is said to be a perfect number if its factors, including 1 but not the number itself, sum to the number.\n",
        "\n",
        "**Example1:**\n",
        "\n",
        "Input: 6 \\\n",
        "Output: “6 is a perfect number” \\\n",
        "Explanation: 6 have 4 divisors: 1, 2, 3, and 6. \\\n",
        "If we add all factors except itself, 6 = 1 + 2 + 3.\n",
        "\n",
        "**Example2:**\n",
        "\n",
        "Input: 28 \\\n",
        "Output: “28 is a perfect number” \\\n",
        "Explanation: 28 have 6 divisors: 1, 2, 4, 7, 14, and 28. \\\n",
        "If we add all factors except itself, 28 = 1 + 2 + 4 + 7 + 14.\n",
        "\n",
        "**Example3:**\n",
        "\n",
        "Input: 33 \\\n",
        "Output: “33 is not a perfect number” \\\n",
        "Explanation: 33 have 3 divisors: 1, 3, 11, and 33. \\\n",
        "If we add all factors except itself, 15 = 1 + 3 + 11."
      ]
    },
    {
      "cell_type": "code",
      "execution_count": null,
      "metadata": {
        "id": "x0X00g_yNTAC",
        "outputId": "512b7869-f4d5-4e83-a24b-fffd775ab42e"
      },
      "outputs": [
        {
          "name": "stdout",
          "output_type": "stream",
          "text": [
            "Enter any number: 33\n",
            "The number is not a Perfect number\n"
          ]
        }
      ],
      "source": [
        "#Todo\n",
        "num = int(input(\"Enter any number: \"))\n",
        "sum = 0\n",
        "for i in range(1, num):\n",
        "    if(num%i == 0):\n",
        "        sum = sum + i\n",
        "if (sum == num):\n",
        "    print(\"The number is a Perfect number\")\n",
        "else:\n",
        "    print(\"The number is not a Perfect number\")"
      ]
    },
    {
      "cell_type": "markdown",
      "metadata": {
        "id": "765ztPAnNTAD"
      },
      "source": [
        "### Task 16\n",
        "\n",
        "Write a Python program that asks the user for one number and tells if it is a prime number or not. \n",
        "\n",
        "**Prime Number:** If a number has only two divisors, (1 and itself), then it is prime. If it is divisible by more numbers, then it is not a prime.\n",
        "\n",
        "**Hint:** use the divisor count from task 16. \n",
        "\n",
        "**Example1:** \n",
        "\n",
        "Input: 11 \\\n",
        "Output: “11 is a prime number” \\\n",
        "Explanation: 11 has only 2 divisors: 1, and 11.\n",
        "\n",
        "**Example2:** \n",
        "\n",
        "Input: 6 \\\n",
        "Output: “6 is not a prime number” \\\n",
        "Explanation: 6 have 4 divisors: 1, 2, 3 and 6.\n",
        "\n",
        "\n"
      ]
    },
    {
      "cell_type": "code",
      "execution_count": null,
      "metadata": {
        "id": "D9IAO0ehNTAD",
        "outputId": "bf3da285-334d-4dfb-b229-f0b15648a528"
      },
      "outputs": [
        {
          "name": "stdout",
          "output_type": "stream",
          "text": [
            "Enter the number = 20\n",
            "20 is not a prime number\n"
          ]
        }
      ],
      "source": [
        "#Todo\n",
        "num = int(input(\"Enter the number = \"))\n",
        "\n",
        "if num > 1: \n",
        "\n",
        "   for i in range(2, num): \n",
        "       if (num%i == 0): \n",
        "           print(num, \"is not a prime number\") \n",
        "           break\n",
        "   else: \n",
        "       print(num, \"is a prime number\") \n",
        "  \n",
        "else: \n",
        "   print(num, \"is not a prime number\") "
      ]
    },
    {
      "cell_type": "markdown",
      "metadata": {
        "id": "CH8JfTM2NTAD"
      },
      "source": [
        "### Task 17\n",
        "\n",
        "Write a Python program that asks the user for a quantity then takes that many numbers and prints the maximum, minimum and average of those numbers. \n",
        "\n",
        "**Example:**\n",
        "If the user enters 5 as an input for quantity. Then enters 10, 4, -1, -100, and 1. \\\n",
        "Your program output should be: “Maximum 10”, “Minimum -100”, “Average is -17.2” \n",
        "\n",
        "[Average calculation: (10+4 + (-1) + (-100) + 1)/5 = -86/5=-17.2]\n"
      ]
    },
    {
      "cell_type": "code",
      "execution_count": null,
      "metadata": {
        "id": "pPvKgFokNTAE",
        "outputId": "ab6bee7e-64aa-4d4d-887c-9477f0ab88af"
      },
      "outputs": [
        {
          "name": "stdout",
          "output_type": "stream",
          "text": [
            " Enter the number of quantity = 5\n",
            " Enter a number = 2\n",
            " Enter a number = -1\n",
            " Enter a number = 5\n",
            " Enter a number = -20\n",
            " Enter a number = 100\n",
            " Maximum  100\n",
            " Minimum  -20\n",
            " Average 17.2\n"
          ]
        }
      ],
      "source": [
        "#Todo\n",
        "quan = int(input(\" Enter the number of quantity = \"))\n",
        "num = int(input(\" Enter a number = \"))    \n",
        "i = 1\n",
        "sum = num\n",
        "max = num\n",
        "min = num\n",
        "for i in range (1,quan):\n",
        "    new_num = int(input(\" Enter a number = \"))\n",
        "    sum = sum + new_num\n",
        "    if new_num >max:\n",
        "        max = new_num\n",
        "    elif new_num <min:\n",
        "        min =new_num\n",
        "    \n",
        "    i = i+1    \n",
        "avg = (sum/quan)\n",
        "print(\" Maximum \", max)    \n",
        "print(\" Minimum \", min)\n",
        "print(\" Average\", avg)"
      ]
    },
    {
      "cell_type": "markdown",
      "metadata": {
        "id": "iaCU7VDkNTAE"
      },
      "source": [
        "## Optional Tasks (18 -21)"
      ]
    },
    {
      "cell_type": "markdown",
      "metadata": {
        "id": "CrRDkmHMNTAE"
      },
      "source": [
        "### Task 18\n",
        "\n",
        "Take five numbers from the user and find the minimum and the average of **only the even** numbers entered by the user. [If the user enters odd numbers ignore them]\n",
        "\n",
        "Assume, the first input is always an even number.\n",
        "\n",
        "**Example1:** \n",
        "\n",
        "If the user enters 10, 4, -1, -100, and 1. \\\n",
        "Output: “Minimum -100”, “Average is 28.66667” \\\n",
        "[Average calculation: (10+4 + (-100))/3 = -86/3=-28.66667]\n",
        "\n",
        "**Example2:**\n",
        "\n",
        "If the user enters 2, 10, 1, 21, and 3. \\\n",
        "Output: Minimum 2”, “Average is 6.0” \\\n",
        "Average calculation: [(2+10)/2 = 12/2= 6]"
      ]
    },
    {
      "cell_type": "code",
      "execution_count": null,
      "metadata": {
        "id": "VgECNHtZNTAF",
        "outputId": "f38ce3ce-1fe5-4f5b-87df-43e89bdf73b5"
      },
      "outputs": [
        {
          "name": "stdout",
          "output_type": "stream",
          "text": [
            " Enter the number of quantity = 5\n",
            " Enter a number = 10\n",
            " Enter a number = 4\n",
            " Enter a number = -1\n",
            " Enter a number = -100\n",
            " Enter a number = 1\n",
            " Minimum  -100\n",
            " Average -28.666666666666668\n"
          ]
        }
      ],
      "source": [
        "#Todo\n",
        "quan = int(input(\" Enter the number of quantity = \"))\n",
        "num = int(input(\" Enter a number = \"))    \n",
        "i = 1\n",
        "count=0\n",
        "if num%2==0:\n",
        "    sum = num\n",
        "    count=1\n",
        "    min = num\n",
        "    for i in range (1,quan):\n",
        "        new_num = int(input(\" Enter a number = \"))\n",
        "        if new_num%2 ==0 :\n",
        "            sum = sum + new_num\n",
        "            count+=1\n",
        "            if new_num <min:\n",
        "                min =new_num\n",
        "    \n",
        "        \n",
        "    \n",
        "    i = i+1    \n",
        "avg = (sum/count)\n",
        "    \n",
        "print(\" Minimum \", min)\n",
        "print(\" Average\", avg)\n"
      ]
    },
    {
      "cell_type": "markdown",
      "metadata": {
        "id": "UfUKaGUKNTAF"
      },
      "source": [
        "### Task 19\n",
        "\n",
        "Write a Python code for the following:\n",
        "* Ask the user to enter a number, N (Total number of inputs to be taken). Assume that the user will never enter the first number as zero.\n",
        "* Take N number of inputs\n",
        "* Prints out the product of all the numbers read\n",
        "\n",
        "For example, if the first input is 4, then the program has to read in four numbers from the user and print the product of these four numbers. \n",
        "\n",
        "**Example:**\\\n",
        "Input: 5 10 6 4 2 1 \\\n",
        "Output: 480\n",
        "\n",
        "Explanation:\n",
        "5 is the total number of inputs taken. Then, the calculation should be 10 X 6 X 4 X 2 X 1 = 480 \n",
        "\n",
        "\n"
      ]
    },
    {
      "cell_type": "code",
      "execution_count": null,
      "metadata": {
        "id": "SGp9ovqHNTAG",
        "outputId": "5e39db13-1c14-4571-b6f2-88dff17effb2"
      },
      "outputs": [
        {
          "name": "stdout",
          "output_type": "stream",
          "text": [
            " Enter the number of Inputs = 10\n",
            " Enter a number = 1\n",
            " Enter a number = -45\n",
            " Enter a number = -63\n",
            " Enter a number = 5\n",
            " Enter a number = 8\n",
            " Enter a number = 9\n",
            " Enter a number = -20\n",
            " Enter a number = 5\n",
            " Enter a number = 6\n",
            " Enter a number = 9\n",
            " Product =  -5511240000\n"
          ]
        }
      ],
      "source": [
        "#Todo\n",
        "quan = int(input(\" Enter the number of Inputs = \"))\n",
        "i = 1\n",
        "product = 1\n",
        "for i in range (1,quan+1):\n",
        "    num = int(input(\" Enter a number = \"))\n",
        "    product = product * num\n",
        " \n",
        "    \n",
        "    i = i+1    \n",
        "\n",
        "print(\" Product = \", product)"
      ]
    },
    {
      "cell_type": "markdown",
      "metadata": {
        "id": "L8Ol-JKYNTAG"
      },
      "source": [
        "### Task 20\n",
        "Ask the user for a range (a starting number and an ending number). \n",
        "**Count** how many numbers are prime numbers and how many numbers are perfect numbers between that range and **print** those numbers. \n",
        "\n",
        "For example, between 2 and 6, there are 3 prime numbers (2, 3, 5) and 1 perfect number (6). \n",
        "\n",
        "\n",
        "**Example:**\\\n",
        "Sample Input: 2 6 \n",
        "\n",
        "Sample Output:\n",
        "\n",
        "Between 2 and 6,\\\n",
        "Found 3 prime numbers \\\n",
        "Found 1 perfect number.\\\n",
        "Prime numbers: 2, 3, 5.\\\n",
        "Perfect numbers: 6.\n",
        "\n"
      ]
    },
    {
      "cell_type": "code",
      "execution_count": null,
      "metadata": {
        "id": "el1hP5Q4NTAG",
        "outputId": "83fb0b12-d9b7-4926-e9ca-c6eabdbedb48"
      },
      "outputs": [
        {
          "name": "stdout",
          "output_type": "stream",
          "text": [
            "Enter starting number:2\n",
            "Enter ending number:6\n",
            "Between 2 and 6\n",
            "2,3,5,are the prime numbers.\n",
            "found 3 prime numbers.\n",
            "6,is the perfect number.\n",
            "found 1 perfect number.\n"
          ]
        }
      ],
      "source": [
        "#Todo\n",
        "prime=0\n",
        "perfect=0\n",
        "start= int(input(\"Enter starting number:\"))\n",
        "end= int(input(\"Enter ending number:\"))\n",
        "print(\"Between\",start,\"and\",end)\n",
        "for x in range(start,end+1):\n",
        "    if x>1:\n",
        "        for num in range(2,x):\n",
        "            if x%num==0:\n",
        "                break\n",
        "        else:\n",
        "            prime = prime + 1\n",
        "            print(x,end=\",\")\n",
        "    else:\n",
        "        continue\n",
        "if prime==1:\n",
        "    print(\"is the prime number.\")\n",
        "    print(\"found\",prime,\" prime number.\")\n",
        "else:\n",
        "    print(\"are the prime numbers.\")\n",
        "    print(\"found\",prime,\"prime numbers.\")\n",
        "for x in range(start,end+1):\n",
        "    sum = 1\n",
        "    i = 2\n",
        "    while i * i <= x:\n",
        "        if x % i == 0:\n",
        "            sum = sum + i + x/i\n",
        "        i += 1\n",
        "    if sum == x and x!=1:\n",
        "        perfect+=1\n",
        "        print(x,end=\",\")\n",
        "if perfect==1:\n",
        "    print(\"is the perfect number.\")\n",
        "    print(\"found\",perfect,\"perfect number.\")\n",
        "else:\n",
        "    print(\"are the perfect numbers.\")\n",
        "    print(\"found\",perfect,\"perfect numbers.\")"
      ]
    },
    {
      "cell_type": "markdown",
      "metadata": {
        "id": "Pr7TtkQhNTAH"
      },
      "source": [
        "### Task 21\n",
        "Write a Python program that takes a number from the user and prints its digits from left to right. <font color='red'> (left to right) </font>\n",
        "\n",
        "**Example:** if the user gives 32768, then print 3, 2, 7, 6, 8 \n",
        "\n",
        "**Hint:**\n",
        "* You need to combine Task12 and Task13 for solving this problem.\n",
        "* Count how many digits are in the input number. <font color='red'>(While counting digits, do not modify the original number)</font> **[Task12]**\n",
        "* Calculate 10 to the power that number of digits minus 1. **[Task13]**\\\n",
        "(You can reuse the task11 or directly call math.pow(). While using math functions, you need to keep in mind that it returns everything in floating-point numbers.)\n",
        "\n",
        "Say, 32768 have 5 digits, so you calculate 10 to power 4 which is 10,000. \n",
        "Take the remainder of 32,768 by 10,000 and thus you get 2,768 \n",
        "Then  floor divide 32,768 by 10,000 and thus you get 3. \n",
        "Then floor divide 10,000 by 10 to get 1,000 \n",
        "\n",
        "Take the remainder of 2,768 by 1,000 and thus you get 768.\\\n",
        "Then floor divide 2,768 by 1,000 and thus you get 2.\\\n",
        "Then floor divide 10,00 by 10 to get 1,00 \n",
        "\n",
        "Keep going on until there are no more digits left (zero!). \n",
        "\n",
        "In short:\n",
        "\n",
        "Loop 1: First count digits; say 5 in this case for 32,768  \\\n",
        "Loop 2: Then calculate 10 to power 4 (5-1), which is 10,000. \\\n",
        "Loop 3: Then repeat following three steps \n",
        "\n",
        "32,768 % 10,000 = 2,768\n",
        "<br>\n",
        "32,768 // 10,000 = 3 \n",
        "<br>\n",
        "10,000//10 = 1,000 \n",
        "<br><br>\n",
        "\n",
        "2,768 % 1,000 = 768\n",
        "<br>\n",
        "2,768 //1,000 = 2 \n",
        "<br>\n",
        "1,000//10 = 100 \n",
        "<br><br>\n",
        "\n",
        "768 % 100 = 68 \n",
        "<br>\n",
        "768 // 100 = 7 \n",
        "<br>\n",
        "100//10 = 10 \n",
        "<br><br>\n",
        "\n",
        "68 % 10 = 8\n",
        "<br>\n",
        "68 //10 = 6 \n",
        "<br>\n",
        "10//10 = 1\n",
        "<br><br>\n",
        "\n",
        "8 % 1 = 0\n",
        "<br>\n",
        "8 //1 = 8 \n",
        "<br>\n",
        "1//10 = 0`\n",
        "\n",
        "\n",
        "Done! (When the digit count becomes 0, your loop should end.)\n",
        "\n"
      ]
    },
    {
      "cell_type": "code",
      "execution_count": null,
      "metadata": {
        "id": "cfn69vfANTAH"
      },
      "outputs": [],
      "source": [
        "#Todo"
      ]
    }
  ],
  "metadata": {
    "kernelspec": {
      "display_name": "Python 3",
      "language": "python",
      "name": "python3"
    },
    "language_info": {
      "codemirror_mode": {
        "name": "ipython",
        "version": 3
      },
      "file_extension": ".py",
      "mimetype": "text/x-python",
      "name": "python",
      "nbconvert_exporter": "python",
      "pygments_lexer": "ipython3",
      "version": "3.7.6"
    },
    "colab": {
      "name": "CSE110 Assignment02.ipynb",
      "provenance": []
    }
  },
  "nbformat": 4,
  "nbformat_minor": 0
}