{
  "cells": [
    {
      "cell_type": "markdown",
      "metadata": {
        "id": "mRHB9cBf5D7V"
      },
      "source": [
        "# CSE110 Assignment 5\n",
        "This assignment is to guide you to solve everything you have learned so far by implementing functions in Python. \n",
        "\n",
        "**<font color='red'>[MUST MAINTAIN VARIABLE NAMING CONVENTIONS FOR ALL THE TASKS]</font>**\n",
        "\n",
        "## Write the Python code of the following problems:\n"
      ]
    },
    {
      "cell_type": "markdown",
      "metadata": {
        "id": "_uzpm0b85D7Z"
      },
      "source": [
        "### Task 1\n",
        "Write a function called **even_checker** that takes a number as an argument and prints whether the number is even or odd *inside the function*.\n",
        "\n",
        "**Example1:** \\\n",
        "**Function Call:**\\\n",
        "even_checker(5)\\\n",
        "**Output:**\\\n",
        "Odd!!\n",
        "\n",
        "=============================\n",
        "\n",
        "**Example2:** \\\n",
        "**Function Call:**\\\n",
        "even_checker(2)\\\n",
        "**Output:**\\\n",
        "Even!!\n",
        "\n"
      ]
    },
    {
      "cell_type": "code",
      "execution_count": null,
      "metadata": {
        "id": "tMMBecSe5D7a",
        "outputId": "ecfd5f96-2bf8-42d5-cd87-695d83293171"
      },
      "outputs": [
        {
          "name": "stdout",
          "output_type": "stream",
          "text": [
            "Even\n"
          ]
        }
      ],
      "source": [
        "# to do\n",
        "def even_checker(x):\n",
        "    if x%2==0:\n",
        "        print(\"Even\")\n",
        "    else:\n",
        "        print(\"Odd\")\n",
        "        \n",
        "even_checker(2)"
      ]
    },
    {
      "cell_type": "markdown",
      "metadata": {
        "id": "YFKgn6Yw5D7f"
      },
      "source": [
        "### Task 2\n",
        "Write a python function that takes the limit as an argument of the Fibonacci series and prints till that limit. \n",
        "\n",
        "**Function Call:**\\\n",
        "fibonacci(10)\\\n",
        "**Output:**\\\n",
        "0 1 1 2 3 5 8\\\n",
        "======================\\\n",
        "**Function Call:**\\\n",
        "fibonacci(5)\\\n",
        "**Output:**\\\n",
        "0 1 1 2 3 5 "
      ]
    },
    {
      "cell_type": "code",
      "execution_count": null,
      "metadata": {
        "id": "J4ab_IeA5D7g",
        "outputId": "c96e7b92-5358-42a8-c805-8d64f65f8561"
      },
      "outputs": [
        {
          "name": "stdout",
          "output_type": "stream",
          "text": [
            "0 1 1 2 3 5 8 "
          ]
        }
      ],
      "source": [
        "# to do\n",
        "def fibonacci(x):\n",
        "    a = 0\n",
        "    b = 1\n",
        "    c = a+b\n",
        "    while a<=x :\n",
        "        print (a, end =\" \")\n",
        "        a=b\n",
        "        b=c\n",
        "        c=a+b\n",
        "        \n",
        "fibonacci(10) "
      ]
    },
    {
      "cell_type": "markdown",
      "metadata": {
        "id": "rDY_xNcO5D7k"
      },
      "source": [
        "### Task 3\n",
        "Write a function called **foo_moo** that takes a number as an argument and **returns** the following statements according the below mention conditions. Then, finally prints the statement in the function call. \n",
        "\n",
        "* \tIf the number is divisible by 2, it should return “Foo”.\n",
        "*   If the number is divisible by 3, it should return “Moo”. \n",
        "*   If the number is divisible by both 2 and 3, it should return “FooMoo”.\n",
        "*   Otherwise, it returns “Boo”.\n",
        "\n",
        "**Example1:** \\\n",
        "**Function Call:**\\\n",
        "foo_moo(5)\\\n",
        "**Output:**\\\n",
        "Boo\n",
        "\n",
        "=================\n",
        "\n",
        "\n",
        "**Example2:** \\\n",
        "**Function Call:**\\\n",
        "foo_moo(4)\\\n",
        "**Output:**\\\n",
        "Foo\n",
        "\n",
        "=================\n",
        "\n",
        "\n",
        "**Example3:** \\\n",
        "**Function Call:**\\\n",
        "foo_moo(6)\\\n",
        "**Output:**\\\n",
        "FooMoo\n",
        "\n"
      ]
    },
    {
      "cell_type": "code",
      "execution_count": null,
      "metadata": {
        "id": "2roUcNrC5D7l",
        "outputId": "cd337549-6834-4472-8b97-8d0c7677b9eb"
      },
      "outputs": [
        {
          "name": "stdout",
          "output_type": "stream",
          "text": [
            "FooMoo\n"
          ]
        }
      ],
      "source": [
        "# to do\n",
        "def foo_moo(x):\n",
        "    if (x%2 ==0 and x%3 ==0):\n",
        "        print(\"FooMoo\") \n",
        "    elif x%2==0:\n",
        "        print(\"Foo\")\n",
        "    elif x%3==0:\n",
        "        print(\"Moo\")\n",
        "    else:\n",
        "        print(\"Boo\")\n",
        "        \n",
        "foo_moo(6)"
      ]
    },
    {
      "cell_type": "markdown",
      "metadata": {
        "id": "nemw1U-i5D7s"
      },
      "source": [
        "### Task 4\n",
        "Write a python function that takes a string as an argument. Your task is to calculate the number of uppercase letters and lowercase letters and print them in the function. \n",
        "\n",
        "**Function Call:**\\\n",
        "function_name('The quick Sand Man')\\\n",
        "**Output:**\\\n",
        "No. of Uppercase characters : 3\\\n",
        "No. of Lowercase Characters: 12\\\n",
        "============================\\\n",
        "**Function Call:**\\\n",
        "function_name('HaRRy PotteR')\\\n",
        "**Output:**\\\n",
        "No. of Uppercase characters : 5\\\n",
        "No. of Lowercase Characters: 6\n"
      ]
    },
    {
      "cell_type": "code",
      "execution_count": null,
      "metadata": {
        "id": "4ZBb4Mcr5D7t",
        "outputId": "13c7821e-01d8-4259-a38d-7136bcc22937"
      },
      "outputs": [
        {
          "name": "stdout",
          "output_type": "stream",
          "text": [
            "No. of Uppercase characters :  3\n",
            "No. of Lowercase Characters :  12\n"
          ]
        }
      ],
      "source": [
        "# to do\n",
        "def upper_lower(string):\n",
        "    upper = 0\n",
        "    lower = 0 \n",
        "    for i in string:        \n",
        "        if (i>='A'and i<='Z'): \n",
        "            upper += 1            \n",
        "        if (i>='a'and i<='z'): \n",
        "            lower += 1               \n",
        "    print('No. of Uppercase characters : ',upper)\n",
        "    print('No. of Lowercase Characters : ',lower)    \n",
        "\n",
        "upper_lower('The quick Sand Man')"
      ]
    },
    {
      "cell_type": "markdown",
      "metadata": {
        "id": "e9bojIHe5D7w"
      },
      "source": [
        "### Task 5\n",
        "Write a function called **calculate_tax** that takes 3 arguments: your age, salary, and current job designation.\n",
        "\n",
        "\n",
        "Your first task is to take these arguments as user input and pass these values to the function.\n",
        "\n",
        "Your second task is to implement the function and calculate the tax as the following conditions:\n",
        "*  **NO TAX IF YOU ARE LESS THAN 18 YEARS OLD.**\n",
        "*  **NO TAX IF YOU ARE THE PRESIDENT OF THE COMPANY** \n",
        "*  No tax if you get paid less than 10,000\n",
        "*  5% tax if you get paid between 10K and 20K\n",
        "*  10% tax if you get paid more than 20K\n",
        "\n",
        "\n",
        "Finally return this tax value. Then print the returned value in the function call.\n",
        "\n",
        "**Example1:** \\\n",
        "**Input:**\\\n",
        "16\\\n",
        "20000\\\n",
        "Student\\\n",
        "**Function Call:**\\\n",
        "calculate_tax(16, 20000, 'Student')\\\n",
        "**Output:**\\\n",
        "0\n",
        "\n",
        "===================================\n",
        "\n",
        "**Example2:** \\\n",
        "**Input:**\\\n",
        "20\\\n",
        "18000\\\n",
        "assistant manager\\\n",
        "**Function Call:**\\\n",
        "calculate_tax(20, 18000, 'assistant manager')\\\n",
        "**Output:**\\\n",
        "900.0\n",
        "\n",
        "\n",
        "===================================\n",
        "\n",
        "**Example3:** \\\n",
        "**Input:**\\\n",
        "20\\\n",
        "22000\\\n",
        "assistant manager\\\n",
        "**Function Call:**\\\n",
        "calculate_tax(20, 22000, 'Assistant manager')\\\n",
        "**Output:**\\\n",
        "2200.0\n",
        "\n",
        "===================================\n",
        "\n",
        "\n",
        "**Example4:** \\\n",
        "**Input:**\\\n",
        "20\\\n",
        "122000\\\n",
        "president\\\n",
        "**Function Call:**\\\n",
        "calculate_tax(20, 122000, 'president')\\\n",
        "**Output:**\\\n",
        "0\n",
        " \n",
        "\n",
        "**Hints:**\\\n",
        "Here the job designation is a string, so it can be written in both uppercase and lower cases. So, you need to check the value ignoring the case.\n"
      ]
    },
    {
      "cell_type": "code",
      "execution_count": null,
      "metadata": {
        "id": "M4oo-FKQ5D7x",
        "outputId": "878d2e4a-30fb-445d-a875-cd6b22e5475f"
      },
      "outputs": [
        {
          "name": "stdout",
          "output_type": "stream",
          "text": [
            "Enter your age = 20\n",
            "Enter your salary = 122000\n",
            "Enter your current job designation = PresidenT\n",
            "0\n"
          ]
        }
      ],
      "source": [
        "# to do\n",
        "your_age = int(input(\"Enter your age = \")) \n",
        "salary = int(input(\"Enter your salary = \")) \n",
        "current_job_designation = input(\"Enter your current job designation = \").lower() \n",
        "\n",
        "def calculate_tax(your_age,salary,current_job_designation):\n",
        "    if your_age<18 or current_job_designation == \"president\" or salary < 10000 :\n",
        "        return 0 \n",
        "    elif salary>=10000 and salary<=20000:\n",
        "        return salary*(0.05)\n",
        "    else:\n",
        "        return salary*(0.1)\n",
        "\n",
        "print(calculate_tax(your_age,salary,current_job_designation))  "
      ]
    },
    {
      "cell_type": "markdown",
      "metadata": {
        "id": "VXLQHyLp5D71"
      },
      "source": [
        "### Task 6\n",
        "Write a function which will take 1 argument, number of days.\n",
        "\n",
        "Your first task is to take the number of days as user input and pass the value to the function.\n",
        " \n",
        "Your second task is to implement the function and calculate the total number of years, number of months, and the remaining number of days as output. No need to return any value, print inside the function. \n",
        "\n",
        "**Note:** Assume, each year to be 365 days and month to be 30 days.\n",
        "\n",
        "**Hint:** Divide and mod the main input to get the desired output.\n",
        "\n",
        "**Input:**\\\n",
        "4330\\\n",
        "**Function Call:**\\\n",
        "function_name(4330)\\\n",
        "**Output:**\\\n",
        "11 years, 10 months and 15 days\n",
        "\n",
        "================================\n",
        "\n",
        "**Input:**\\\n",
        "2250\\\n",
        "**Function Call:**\\\n",
        "function_name(2250)\\\n",
        "**Output:**\\\n",
        "6 years, 2 months and 0 days\n",
        "\n",
        "\n",
        "**Hints:** \\\n",
        "This task’s calculation is similar to Assignment-1’s seconds to hours, minutes conversion."
      ]
    },
    {
      "cell_type": "code",
      "execution_count": null,
      "metadata": {
        "id": "gkE9d9gs5D72",
        "outputId": "2158b247-c420-4b7c-cb9b-fee5bbcd792f"
      },
      "outputs": [
        {
          "name": "stdout",
          "output_type": "stream",
          "text": [
            "Enter the number of days = 2250\n",
            "6 years, 2 months and 0 days \n"
          ]
        }
      ],
      "source": [
        "# todo\n",
        "num = int(input(\"Enter the number of days = \"))\n",
        "def year_month_day(num):\n",
        "    year = num//365\n",
        "    year1 = num%365\n",
        "    month = year1//30\n",
        "    day = year1%30\n",
        "    print(year,\"years,\", month,\"months\",'and',day,\"days \")\n",
        "year_month_day(num)"
      ]
    },
    {
      "cell_type": "markdown",
      "metadata": {
        "id": "SMPiTBn-5D78"
      },
      "source": [
        "### Task 7\n",
        "Write a function called **splitting_money** that takes an “amount” of money as a argument.\n",
        "\n",
        "Your first task is to take the “amount” of money as user input and pass the value to the function paramater.\n",
        " \n",
        "Your second task is to implement the function and calculate how that money can be split into 500, 100, 50, 20, 10, 5, 2, and 1 taka notes.\n",
        "\n",
        "Then print the returned value in the function call.\n",
        "\n",
        "**Example1:** \\\n",
        "If the money is 1234, then the function should return \n",
        "\n",
        "“500 Taka: 2 note(s) \\\n",
        "100 Taka: 2 note(s) \\\n",
        "20 Taka: 1 note(s) \\\n",
        "10 Taka: 1 note(s) \\\n",
        "2 Taka: 2 note(s)”\n",
        "\n",
        "**Example2:** \\\n",
        "If the money is 151, then the function should return\n",
        "\n",
        "“100 Taka: 1 note(s)\\\n",
        "50 Taka: 1 note(s)\\\n",
        "1 Taka: 1 note(s)”\n",
        "\n",
        "\n",
        "**Hints:** \\\n",
        "This task’s calculation is similar to Assignment-1’s seconds to hours, minutes conversion. To return the result containing multiple strings, you need to store it in a variable and return it at the end of the function.\n"
      ]
    },
    {
      "cell_type": "code",
      "execution_count": null,
      "metadata": {
        "id": "WQS_DPXn5D79",
        "outputId": "80ea887a-83f0-4225-dbdd-d36d467ece2a"
      },
      "outputs": [
        {
          "name": "stdout",
          "output_type": "stream",
          "text": [
            "Enter the number of days = 1234\n",
            "500 taka : 2 note(s)\n",
            "100 taka : 2 note(s)\n",
            "20 taka : 1 note(s)\n",
            "10 taka : 1 note(s)\n",
            "2 taka : 2 note(s)\n"
          ]
        }
      ],
      "source": [
        "# to do\n",
        "num = int(input(\"Enter the number of days = \"))\n",
        "def splitting_money(num):\n",
        "    money_list = [500,100,50,20,10,5,2,1]\n",
        "    for i in range(len(money_list)):\n",
        "        note = num//money_list[i]\n",
        "        num = num%money_list[i]\n",
        "        if note!=0:\n",
        "             print(money_list[i],'taka :',note,'note(s)')\n",
        "splitting_money(num)"
      ]
    },
    {
      "cell_type": "markdown",
      "metadata": {
        "id": "8-vvES0i5D8B"
      },
      "source": [
        "### Task 8\n",
        "Write a function called **show_palindrome** that takes a number as an argument and then returns a palindrome string. Finally, prints the returned value in the function call.\n",
        "\n",
        "**Example1:** \\\n",
        "**Function Call:**\\\n",
        "show_palindrome(5)\\\n",
        "**Output:**\\\n",
        "123454321\n",
        "\n",
        "===================\n",
        "\n",
        "**Example2:** \\\n",
        "**Function Call:**\\\n",
        "show_palindrome(3)\\\n",
        "**Output:**\\\n",
        "12321\n"
      ]
    },
    {
      "cell_type": "code",
      "execution_count": null,
      "metadata": {
        "id": "QN-Iu8sz5D8C",
        "outputId": "da75c6b3-9bc3-4c2c-f0fd-b48e30329f8e"
      },
      "outputs": [
        {
          "name": "stdout",
          "output_type": "stream",
          "text": [
            "123454321\n",
            "\n"
          ]
        }
      ],
      "source": [
        "# to do\n",
        "def show_palindrome(n):\n",
        "    for i in range(1,n+1):\n",
        "        print(i,end='')\n",
        "    for j in range(n-1,0,-1):\n",
        "        print(j,end='')\n",
        "    print('\\n')\n",
        "show_palindrome(5)    "
      ]
    },
    {
      "cell_type": "markdown",
      "metadata": {
        "id": "V_PVNpx45D8F"
      },
      "source": [
        "### Task 9\n",
        "Write a function called **show_palindromic_triangle** that takes a number as a argument and prints a Palindromic Triangle in the function. \n",
        "\n",
        "\n",
        "**Example1:** \\\n",
        "**Function Call:**\\\n",
        "show_palindromic_triangle(5)\\\n",
        "**Output:**\n",
        "\n",
        "&emsp; &emsp; &emsp; &emsp; 1\\\n",
        "&emsp; &emsp; &emsp; 1 &nbsp; 2 &nbsp; 1 \\\n",
        "&emsp; &emsp; 1 &nbsp; 2 &nbsp; 3 &nbsp; 2 &nbsp; 1 \\\n",
        "&emsp; 1 &nbsp; 2 &nbsp; 3 &nbsp; 4 &nbsp; 3 &nbsp; 2 &nbsp; 1 \\\n",
        "1 &nbsp; 2 &nbsp; 3 &nbsp; 4 &nbsp; 5 &nbsp; 4 &nbsp; 3 &nbsp; 2 &nbsp; 1\n",
        "\n",
        "=============================================================\n",
        "\n",
        "\n",
        "**Example1:** \\\n",
        "**Function Call:**\\\n",
        "show_palindromic_triangle(3)\\\n",
        "**Output:**\n",
        "\n",
        "&emsp; &emsp; 1 \\\n",
        "&emsp; 1 &nbsp; 2 &nbsp; 1 \\\n",
        "1 &nbsp; 2 &nbsp; 3 &nbsp; 2 &nbsp; 1\n",
        "\n",
        "\n",
        "**Hints:** \\\n",
        "Need to use both print() and print( , end = \" \") functions"
      ]
    },
    {
      "cell_type": "code",
      "execution_count": null,
      "metadata": {
        "id": "fUu0BrHz5D8G",
        "outputId": "128c7232-7fa9-4f6b-b45f-43e9dbac5b4a"
      },
      "outputs": [
        {
          "name": "stdout",
          "output_type": "stream",
          "text": [
            "    1\n",
            "   121\n",
            "  12321\n",
            " 1234321\n",
            "123454321\n"
          ]
        }
      ],
      "source": [
        "# to do\n",
        "\n",
        "def show_palindrome(x):\n",
        "    odd = 1\n",
        "    space = x - 1 \n",
        "    for i in range(1,x+1):\n",
        "        k = 0\n",
        "        for j in range(1,space+1):\n",
        "            print(' ',end='')\n",
        "            \n",
        "        for j in range(1,odd+1):\n",
        "            if (j<=i):\n",
        "                k=k+1\n",
        "            else :\n",
        "                k=k-1 \n",
        "            \n",
        "            print(k,end='')\n",
        "        print()\n",
        "        odd = odd+2\n",
        "        space = space-1\n",
        "        \n",
        "show_palindrome(5)\n"
      ]
    },
    {
      "cell_type": "markdown",
      "metadata": {
        "id": "iLTMEWXg5D8M"
      },
      "source": [
        "### Task 10\n",
        "Write a function called **area_circumference_generator** that takes a radius of a circle as a  function parameter and calculates its circumference and area. Then returns these two results as a **tuple** and prints the results using tuple unpacking in the function call accorrding to the given format. <font color='red'>[Must use tuple packing & unpacking] </font> \n",
        "\n",
        "**Example1:** \\\n",
        "**Function Call:**\\\n",
        "area_circumference_generator(1)\\\n",
        "**Output:**\\\n",
        "(3.141592653589793, 6.283185307179586)\\\n",
        "Area of the circle is 3.141592653589793 and circumference is 6.283185307179586\n",
        "\n",
        "====================================\n",
        "\n",
        "**Example2:** \\\n",
        "**Function Call:**\\\n",
        "area_circumference_generator(1.5)\\\n",
        "**Output:**\\\n",
        "(7.0685834705770345, 9.42477796076938)\\\n",
        "Area of the circle is 7.0685834705770345 and circumference is 9.42477796076938\n",
        "\n",
        "====================================\n",
        "\n",
        "\n",
        "**Example3:** \\\n",
        "**Function Call:**\\\n",
        "area_circumference_generator(2.5)\\\n",
        "**Output:**\\\n",
        "(19.634954084936208, 15.707963267948966)\\\n",
        "Area of the circle is 19.634954084936208 and circumference is 15.707963267948966\n"
      ]
    },
    {
      "cell_type": "code",
      "execution_count": null,
      "metadata": {
        "id": "k8SLTHf35D8N",
        "outputId": "45975d0d-6665-45f6-a574-cabeb09e7fdf"
      },
      "outputs": [
        {
          "name": "stdout",
          "output_type": "stream",
          "text": [
            "(19.634954084936208, 15.707963267948966)\n",
            "Area of the circle is 19.634954084936208 and circumference is 15.707963267948966\n"
          ]
        }
      ],
      "source": [
        "# to do\n",
        "import math \n",
        "def area_circumference_generator(r):\n",
        "    circumference = 2 * math.pi * r\n",
        "    area = math.pi * (r * r)\n",
        "    return (area,circumference)\n",
        "result = (area_circumference_generator (2.5)) \n",
        "print (result)\n",
        "a,b = result\n",
        "print('Area of the circle is',a,'and','circumference is',b)"
      ]
    },
    {
      "cell_type": "markdown",
      "metadata": {
        "id": "NpgEU6ZI5D8S"
      },
      "source": [
        "### Task 11\n",
        "Write a function called **make_square** that takes a tuple in the parameter as a range of numbers (starting point and ending point (included)). The function should **return a dictionary** with the numbers as keys and its squares as values.\n",
        "\n",
        "**Example1:** \\\n",
        "**Function Call:**\\\n",
        "make_square((1,3))\\\n",
        "**Output:**\\\n",
        "{1: 1, 2: 4, 3: 9}\n",
        "\n",
        "====================================\n",
        "\n",
        "**Example2:** \\\n",
        "**Function Call:**\\\n",
        "make_square((5,9))\\\n",
        "**Output:**\\\n",
        "{5: 25, 6: 36, 7: 49, 8: 64, 9: 81}\n",
        "\n",
        "\n",
        "\n",
        "**Hints:** \\\n",
        "You need to declare a dictionary to store the result. You should use the range function to run the “for loop”.\n"
      ]
    },
    {
      "cell_type": "code",
      "execution_count": null,
      "metadata": {
        "id": "-KGD8b0F5D8T",
        "outputId": "cecf1151-74c3-4662-8611-9827787796e8"
      },
      "outputs": [
        {
          "name": "stdout",
          "output_type": "stream",
          "text": [
            "{5: 25, 6: 36, 7: 49, 8: 64, 9: 81}\n"
          ]
        }
      ],
      "source": [
        "# to do\n",
        "def make_square(n):\n",
        "    a,b = n\n",
        "    dict1 = {}\n",
        "    for i in range(a,b+1):\n",
        "        k = i\n",
        "        v = i**2\n",
        "        dict1.update({k:v})\n",
        "    return(dict1)\n",
        "print(make_square((5,9)))"
      ]
    },
    {
      "cell_type": "markdown",
      "metadata": {
        "id": "ZSdXyrvP5D8X"
      },
      "source": [
        "### Task 12\n",
        "Write a function called **remove_odd** that takes a list of numbers that have both even and odd numbers mixed. \\\n",
        "Your function should remove all the odd numbers and **return a compact list** which only contains the even numbers. \n",
        "\n",
        "**Example1:** \\\n",
        "**Function Call:**\\\n",
        "remove_odd ([21, 33, 44, 66, 11, 1, 88, 45, 10, 9])\\\n",
        "**Output:**\\\n",
        "[44, 66, 88, 10]\n",
        "\n",
        "====================================\n",
        "\n",
        "**Example2:** \\\n",
        "**Function Call:**\\\n",
        "remove_odd ([11,2,3,4,5,2,0,5,3])\\\n",
        "**Output:**\\\n",
        "[2, 4, 2, 0]\n",
        "\n"
      ]
    },
    {
      "cell_type": "code",
      "execution_count": null,
      "metadata": {
        "id": "7gfZ__Nx5D8X",
        "outputId": "0d355c05-58db-4b94-f429-c03fb3603697"
      },
      "outputs": [
        {
          "name": "stdout",
          "output_type": "stream",
          "text": [
            "[44, 66, 88, 10]\n"
          ]
        }
      ],
      "source": [
        "# to do\n",
        "def remove_odd(n):\n",
        "    even = []\n",
        "    for i in n:\n",
        "        if i%2 ==0:\n",
        "            even.append(i)\n",
        "    return even\n",
        "   \n",
        "print(remove_odd([21, 33, 44, 66, 11, 1, 88, 45, 10, 9]))"
      ]
    },
    {
      "cell_type": "markdown",
      "metadata": {
        "id": "J7xaBB5i5D8c"
      },
      "source": [
        "### Task 13\n",
        "Write a function called **rem_duplicate** that takes a tuple in the parameter and return a tuple removing all the duplicate values. Then print the returned tuple in the function call.\n",
        "\n",
        "**Example1:** \\\n",
        "**Function Call:**\\\n",
        "rem_duplicate((1,1,1,2,3,4,5,6,6,6,6,4,0,0,0))\\\n",
        "**Output:**\\\n",
        "(1, 2, 3, 4, 5, 6, 0)\n",
        "\n",
        "====================================\n",
        "\n",
        "**Example2:** \\\n",
        "**Function Call:**\\\n",
        "rem_duplicate((\"Hi\", 1, 2, 3, 3, \"Hi\",'a', 'a', [1,2]))\\\n",
        "**Output:**\\\n",
        "('Hi', 1, 2, 3, 'a', [1, 2])\n",
        "\n",
        "\n",
        "**Hints:** \\\n",
        "Unlike lists, tuples are immutable so, the tuple taken as an argument cannot be modified. But list can be modified and lastly for returning the result use type conversion. You need to use membership operators (in, not in) for preventing adding any duplicates values.\n"
      ]
    },
    {
      "cell_type": "code",
      "execution_count": null,
      "metadata": {
        "id": "mniLLbJY5D8d",
        "outputId": "550ddb35-0758-4d3a-a1ff-292ce79cd0ee"
      },
      "outputs": [
        {
          "name": "stdout",
          "output_type": "stream",
          "text": [
            "('Hi', 1, 2, 3, 'a', [1, 2])\n"
          ]
        }
      ],
      "source": [
        "# to do\n",
        "def rem_duplicate(my_tuple):\n",
        "    my_list = list(my_tuple)\n",
        "    new_list =[] \n",
        "    for i in my_list:\n",
        "        if i not in new_list:\n",
        "            new_list.append(i)\n",
        "    \n",
        "    new_tuple = tuple(new_list)\n",
        "    return new_tuple\n",
        "\n",
        "print(rem_duplicate((\"Hi\", 1, 2, 3, 3, \"Hi\",'a', 'a', [1,2])))"
      ]
    },
    {
      "cell_type": "markdown",
      "metadata": {
        "id": "yJxb2yrb5D8h"
      },
      "source": [
        "### Task 14\n",
        "Write a python function that takes a list as an argument. Your task is to create a new list where **each element can be present at max 2 times**. Inside the function, print the number of elements removed from the given list. Finally, return the new list and print the result.\n",
        "\n",
        "**Hint:** Use list_name.count(element) to count the total number of times an element is in a list. list_name is your new list for this problem.\n",
        "\n",
        "**Function Call:**\\\n",
        "function_name([1, 2, 3, 3, 3, 3, 4, 5, 8, 8])\\\n",
        "**Output:**\\\n",
        "Removed: 2\\\n",
        "[1, 2, 3, 3, 4, 5, 8, 8]\\\n",
        "================================\\\n",
        "**Function Call:**\\\n",
        "function_name([10, 10, 15, 15, 20])\\\n",
        "**Output:**\\\n",
        "Removed: 0\\\n",
        "[10, 10, 15, 15, 20]"
      ]
    },
    {
      "cell_type": "code",
      "execution_count": null,
      "metadata": {
        "id": "URBhYdgt5D8h"
      },
      "outputs": [],
      "source": [
        "# todo\n",
        "def valid_element(my_list):\n",
        "    removed = 0\n",
        "    new_list = []\n",
        "    for i in my_list:\n",
        "        if i not in new_list:\n",
        "            new_list.append(i)\n",
        "        elif i in new_list:\n",
        "            repeat_count = new_list.count(i)\n",
        "            if repeat_count < 2:\n",
        "                new_list.append(i)\n",
        "            else:    \n",
        "                removed = i\n",
        "    print('Removed:', removed)\n",
        "    return (new_list)\n",
        "result = valid_element([1, 2, 3, 3, 3, 3, 4, 5, 8, 8])\n",
        "print(result)"
      ]
    },
    {
      "cell_type": "markdown",
      "metadata": {
        "id": "oZRJfnm85D8m"
      },
      "source": [
        "### Task 15\n",
        "Write a function which will take 4 arguments. They are:\n",
        "- starting value(inclusive)\n",
        "- ending value(exclusive)\n",
        "- first divisor\n",
        "- second divisor\n",
        "\n",
        "Your first task is to take these arguments as user input and pass these values to the function.\n",
        "\n",
        "Your second task is to implement the function and find all the numbers that are divisible by the <u>first divisor or second divisor but not both</u> from the starting value(inclusive) and ending value(exclusive). Add all the numbers that are divisible and finally return this value. Print the returned value in the function call.\n",
        "\n",
        "**Input:**\\\n",
        "10\\\n",
        "40\\\n",
        "4\\\n",
        "7\\\n",
        "**Function Call:**\\\n",
        "function_name(10, 40, 4, 7)\\\n",
        "**Output:**\\\n",
        "210\\\n",
        "================================\\\n",
        "**Input:**\\\n",
        "5\\\n",
        "100\\\n",
        "3\\\n",
        "4\\\n",
        "**Function Call:**\\\n",
        "function_name(5, 100, 3, 4)\\\n",
        "**Output:**\\\n",
        "2012\n",
        "\n",
        "\n"
      ]
    },
    {
      "cell_type": "code",
      "execution_count": null,
      "metadata": {
        "id": "WStErxZP5D8m",
        "outputId": "b5320e18-78d4-4990-f76d-ee242dcc0ca4"
      },
      "outputs": [
        {
          "name": "stdout",
          "output_type": "stream",
          "text": [
            "Enter the starting number = 5\n",
            "Enter the ending number = 100\n",
            "Enter first divisor = 3\n",
            "Enter second divisor = 4\n",
            "2012\n"
          ]
        }
      ],
      "source": [
        "# to do\n",
        "start=int(input(\"Enter the starting number = \"))\n",
        "end=int(input(\"Enter the ending number = \"))\n",
        "d1=int(input(\"Enter first divisor = \"))\n",
        "d2=int(input(\"Enter second divisor = \"))\n",
        "def new_function(start,end,d1,d2):\n",
        "    sum = 0\n",
        "    for i in range(start,end):\n",
        "        if (i%d1==0 and i%d2==0):\n",
        "            pass\n",
        "        else:\n",
        "            if (i%d1==0 or i%d2==0):\n",
        "                sum+=i \n",
        "    return sum\n",
        "print(new_function(start,end,d1,d2))    "
      ]
    },
    {
      "cell_type": "markdown",
      "metadata": {
        "id": "vqET24dk5D8u"
      },
      "source": [
        "### Task 16\n",
        "Write a python function that will perform the basic calculation (addition, subtraction, multiplication and division) based on 3 arguments. They are:\n",
        "- Operator ('+', '-', '/', '*')\n",
        "- First Operand (any number)\n",
        "- Second Operand (any number)\n",
        "\n",
        "Your first task is to take these arguments as user input and pass the values to the function parameters.\n",
        "\n",
        "Your second task is to write a function and performs the calculation based on the given operator. Then, finally return the result in the function call and print the result.\n",
        "\n",
        "**Input:**\\\n",
        "\"+\"\\\n",
        "10\\\n",
        "20\\\n",
        "**Function Call:**\\\n",
        "function_name(\"+\", 10, 20)\\\n",
        "**Output:**\\\n",
        "30\n",
        "\n",
        "================================\n",
        "\n",
        "**Input:**\\\n",
        "\"*\"\\\n",
        "5.5\\\n",
        "2.5\\\n",
        "**Function Call:**\\\n",
        "function_name(\"*\", 5.5, 2.5)\\\n",
        "**Output:**\\\n",
        "13.75\n"
      ]
    },
    {
      "cell_type": "code",
      "execution_count": null,
      "metadata": {
        "id": "sh7YQRv_5D8v",
        "outputId": "588ec1c7-570a-4a80-a7e4-f711c8cc62ac"
      },
      "outputs": [
        {
          "name": "stdout",
          "output_type": "stream",
          "text": [
            "Enter the operator = /\n",
            "Enter first number = 10\n",
            "Enter second number = 20\n",
            "0.5\n"
          ]
        }
      ],
      "source": [
        "# to do\n",
        "operator=input(\"Enter the operator = \")\n",
        "num1=float(input(\"Enter first number = \"))\n",
        "num2=float(input(\"Enter second number = \"))\n",
        "def my_calculator(operator,num1,num2):\n",
        "    if operator == '+':\n",
        "        add = num1+num2\n",
        "        return add\n",
        "    elif operator == '-':\n",
        "        subtract = num1 - num2\n",
        "        return subtract\n",
        "    elif operator=='*':\n",
        "        multiply = num1*num2\n",
        "        return multiply\n",
        "    elif operator== '/':\n",
        "        divide = num1/num2\n",
        "        return divide\n",
        "        \n",
        "print(my_calculator(operator,num1,num2))"
      ]
    },
    {
      "cell_type": "markdown",
      "metadata": {
        "id": "j6RsRgJP5D8y"
      },
      "source": [
        "### Task 17\n",
        "Write a python function which will take a string as an argument. \n",
        "\n",
        "Your first task is to take a string as user input and pass the value to the function.\n",
        "\n",
        "Your second task is to implement a function which will check whether all the alphabets from a to j (convert all the alphabets to lowercase) has appeared at least once in the given string or not. \n",
        "- If all of these alphabets (a to j) appear at least once, then the result will be 5. \n",
        "- If any one of the alphabets (a to j) is not in the given string, then the result will be 6.\n",
        "\n",
        "Return this result and print the statement, “Chelsea is the best club in England” that many times.\n",
        "\n",
        "**Example:**\n",
        "\"A black jackal is hunting a full grown deer\" \n",
        "\n",
        "Here all the alphabets from A to J are present at least once. So, the function will return 5 and will print the statement 5 times.\n",
        "\n",
        "**Input:**\\\n",
        "\"A black jackal is hunting a full grown deer\"\\\n",
        "**Function Call:**\\\n",
        "function_name(\"A black jackal is hunting a full grown deer\")\\\n",
        "**Output:**\\\n",
        "Chelsea is the best club in England\\\n",
        "Chelsea is the best club in England\\\n",
        "Chelsea is the best club in England\\\n",
        "Chelsea is the best club in England\\\n",
        "Chelsea is the best club in England\n",
        "\n",
        "==============================================\n",
        "\n",
        "**Input:**\\\n",
        "\"ABBCDEFEFGHI\"\\\n",
        "**Function Call:**\\\n",
        "function_name(\"ABBCDEFEFGHI\")\\\n",
        "**Output:**\\\n",
        "Chelsea is the best club in England\\\n",
        "Chelsea is the best club in England\\\n",
        "Chelsea is the best club in England\\\n",
        "Chelsea is the best club in England\\\n",
        "Chelsea is the best club in England\\\n",
        "Chelsea is the best club in England\n"
      ]
    },
    {
      "cell_type": "code",
      "execution_count": null,
      "metadata": {
        "id": "8u2sBE7c5D8z",
        "outputId": "cc0b7cb3-16c3-479f-9547-f3cdbfe6973b"
      },
      "outputs": [
        {
          "name": "stdout",
          "output_type": "stream",
          "text": [
            "enter a string:A black jackal is hunting a full grown deer\n",
            "Chelsea is the best club in England\n",
            "Chelsea is the best club in England\n",
            "Chelsea is the best club in England\n",
            "Chelsea is the best club in England\n",
            "Chelsea is the best club in England\n"
          ]
        }
      ],
      "source": [
        "# to do\n",
        "def string_function(string):\n",
        "    dic={'a':0,'b':0,'c':0,'d':0,'e':0,'f':0,'g':0,'h':0,'i':0,'j':0}\n",
        "    for alphabet in string:\n",
        "        if alphabet not in dic:\n",
        "            continue\n",
        "        else:\n",
        "            dic[alphabet]=dic[alphabet]+1\n",
        "            \n",
        "        checker=0   \n",
        "    for key,value in dic.items():\n",
        "        if value==0:\n",
        "            checker=1\n",
        "            break\n",
        "    if checker==1:\n",
        "        for i in range(6):\n",
        "            print(\"Chelsea is the best club in England\")\n",
        "    else:\n",
        "        for i in range(5):\n",
        "            print(\"Chelsea is the best club in England\")\n",
        "user_input=input(\"enter a string:\")\n",
        "user_input.lower()\n",
        "string_function(user_input)"
      ]
    },
    {
      "cell_type": "markdown",
      "metadata": {
        "id": "KGitjtfO5D83"
      },
      "source": [
        "\n",
        "### Task 18\n",
        "Write a function which will take 2 arguments. They are:\n",
        "- Sentence \n",
        "- position \n",
        "\n",
        "Your first task is to take these arguments as user input and pass these values to the function parameters.\n",
        "\n",
        "Your second task is to implement the function and remove the characters at the index number which is divisible by the position (Avoid the index number 0 as it will always be divisible by the position, so no need to remove the index 0 character). \n",
        "Finally, add the removed characters at the end of the new string.\n",
        "\n",
        "Return the value and then finally, print the new string at the function call.\n",
        "\n",
        "**Input:**\\\n",
        "‘I love programming.’\\\n",
        "3\\\n",
        "**Function call:**\\\n",
        "function_name(‘I love programming.’,3)\\\n",
        "**Output:**\\\n",
        "I lveprgrmmngo oai.\n",
        "\n",
        "==============================================\n",
        "\n",
        "**Input:**\\\n",
        "‘Python is easy to learn. I love python.’\\\n",
        "6\\\n",
        "**Function call:**\\\n",
        "function_name(‘Python is easy to learn. I love python.’,6)\\\n",
        "**Output:**\\\n",
        "Pythonis eay to earn.I lov pythn. sl eo\n"
      ]
    },
    {
      "cell_type": "code",
      "execution_count": null,
      "metadata": {
        "id": "1Op6YcHY5D84",
        "outputId": "ff8d3bc4-05f7-4ce9-aa9c-17bf69194435"
      },
      "outputs": [
        {
          "name": "stdout",
          "output_type": "stream",
          "text": [
            "Enter = I love programming\n",
            "Enter = 3\n",
            "I lveprgrmmngo oai\n"
          ]
        }
      ],
      "source": [
        "\n",
        "sentence = input(\"Enter = \")\n",
        "position = int(input(\"Enter = \"))\n",
        "def my(sentence,position):\n",
        "    remove = ''\n",
        "    for i in range(len(sentence)):\n",
        "        if i!=0:\n",
        "            if i%position != 0:\n",
        "                print(sentence[i],end='')\n",
        "            elif i%position == 0:\n",
        "                remove = remove + sentence[i]\n",
        "        else:\n",
        "            print(sentence[i],end='')\n",
        "            \n",
        "    return remove\n",
        "      \n",
        "print(my(sentence,position))"
      ]
    },
    {
      "cell_type": "markdown",
      "metadata": {
        "id": "5Gq0ZAzQ5D8-"
      },
      "source": [
        "### Task 19\n",
        "You have been hired as an app developer for the company karon_tumi_bekar. The company plans to make an app for a grocery store where the user can order groceries and see the total amount to be paid in the cart section. \n",
        "\n",
        "To build this feature, you have to write a function that takes 2 arguments. They are:\n",
        "- order_items (must be a list)\n",
        "- location (default value should be set to ‘Dhanmondi’)\n",
        "\n",
        "Your first task is to take a list of items from the user. Pass the list into the function parameter along with the optional location (Use default argument technique). (Also, no need to take location as input, pass this any value you want.) \n",
        "\n",
        "Your second task is to implement the function. In the function, create a dictionary for the items shown in the table. Calculate the total price of the items passed as a list to the function. Additionally, add a delivery fee of 30 taka if the location is Dhanmondi. Otherwise, add a delivery fee of 70 taka. Finally, return the value and print it.\n",
        "\n",
        "| Item | Price(Tk) |\n",
        "| --- | --- |\n",
        "| Rice | 105 |\n",
        "| Potato | 20 |\n",
        "| Chicken | 250 |\n",
        "| Beef | 510 |\n",
        "| Oil | 85 |\n",
        "\n",
        "**Hint:** The keys are the items and values are the corresponding price. Iterate the items in the list and check if the items in the list are available in the dictionary keys or not. If it is available, add the price.\n",
        "\n",
        "**Example:**\\\n",
        "function_name([‘Rice’, ‘Beef’, ‘Rice’], ‘Mohakhali’)\n",
        "\n",
        "total = 105 + 510 + 105 = 720 (Take the price of each item and add them.)\\\n",
        "total = 720 + 70 = 790 (Finally, add the delivery fee based on the location.)\n",
        "\n",
        "**Input:**\\\n",
        "[‘Rice’, ‘Beef’, ‘Rice’]\\\n",
        "**Function Call:**\\\n",
        "function_name([‘Rice’, ‘Beef’, ‘Rice’], ‘Mohakhali’)\\\n",
        "**Output:**\\\n",
        "790\n",
        "\n",
        "==============================================\n",
        "\n",
        "**Input:**\\\n",
        "[‘Rice’, ‘Beef’, ‘Rice’]\\\n",
        "**Function Call:**\\\n",
        "function_name([‘Rice’, ‘Beef’, ‘Rice’])\\\n",
        "**Output:**\\\n",
        "750"
      ]
    },
    {
      "cell_type": "code",
      "execution_count": null,
      "metadata": {
        "id": "-vQ3gIWm5D8-",
        "outputId": "c62875be-65e3-4391-81fc-b818cd3a0552"
      },
      "outputs": [
        {
          "name": "stdout",
          "output_type": "stream",
          "text": [
            "Enter how may items you want to oder = 3\n",
            " Enter your oder = rice\n",
            " Enter your oder = beef\n",
            " Enter your oder = rice\n",
            "790\n"
          ]
        }
      ],
      "source": [
        "item_list = []\n",
        "num1 = int(input(\"Enter how may items you want to oder = \"))\n",
        "i = 1\n",
        "while i <=num1:\n",
        "    x = input(\" Enter your oder = \").lower()\n",
        "    item_list.append(x)\n",
        "    i = i + 1\n",
        "\n",
        "def recipet(my_list, location = 'Dhanmondhi'):\n",
        "    product_list={'rice':105,'potato':20,'chicken':250,'beef':510,'oil':85}\n",
        "    key_list = list(product_list.keys())\n",
        "    total_cost = 0\n",
        "    for item in item_list:\n",
        "        for key in key_list:\n",
        "            if item==key:\n",
        "                total_cost += product_list[key]\n",
        "    if location!='Dhanmondhi':\n",
        "        return total_cost + 70\n",
        "    else:\n",
        "        return total_cost + 30\n",
        "    \n",
        "print(recipet(item_list,'Badda'))\n",
        "    "
      ]
    },
    {
      "cell_type": "markdown",
      "metadata": {
        "id": "XGLNNSH25D9B"
      },
      "source": [
        "### Task 20\n",
        "You have been hired by the Abahani football club to write a function that will calculate the total bonus on the yearly earnings of each player for the total goals they have scored. Since the number of players will vary, you decide to use the \"*args\" technique that you learned in your CSE110 class. (No need to take any input from the user. Call the functions and print the values inside the function.) \n",
        "For each player: pass the name, yearly earning, the total goal scored this season, bonus percent per goal. Additionally, if the goal scored is above 30, add an extra bonus of 10000 taka. If it is between 20 and 30 inclusive, add an extra 5000 taka.\n",
        "\n",
        "**Example:**\\\n",
        "function_name(‘Neymar’, 1200000, 30, 10)\n",
        "\n",
        "bonus = 30 * (10 / 100 * 1200000) + 5000 = 3605000\n",
        "\n",
        "**Function call:**\\\n",
        "function_name(‘Neymar’, 1200000, 30, 10)\\\n",
        "**Output:**\\\n",
        "Neymar earned a bonus of 3605000 Taka for 31 goals.\n",
        "\n",
        "=====================================================\n",
        "\n",
        "**Function call:**\\\n",
        "function_name(‘Neymar’, 1200000, 30, 10, ‘Jamal’, 700000, 19, 5)\\\n",
        "**Output:**\\\n",
        "Neymar earned a bonus of 3605000 Taka for 31 goals.\\\n",
        "Jamal earned a bonus of 665000 Taka for 19 goals.\n",
        "\n",
        "\n",
        "\n"
      ]
    },
    {
      "cell_type": "code",
      "execution_count": null,
      "metadata": {
        "id": "IIz3msUa5D9B",
        "outputId": "4ff607f8-1b74-4c25-fed6-8e7070ff07d5"
      },
      "outputs": [
        {
          "name": "stdout",
          "output_type": "stream",
          "text": [
            "Neymar earned a bonus of 3605000 Taka for 30 goals.\n",
            "Jamal earned a bonus of 665000 Taka for 19 goals.\n"
          ]
        }
      ],
      "source": [
        "# to do\n",
        "def player_bonus(*player_info):\n",
        "    for item in range(len(player_info)):\n",
        "\n",
        "        name = (4 * item)\n",
        "        if name <= (len(player_info) - 1):\n",
        "            name_count = player_info[name]\n",
        "        else:\n",
        "            continue\n",
        "\n",
        "        salary = (4 * item + 1)\n",
        "        if salary <= (len(player_info) - 1):\n",
        "            salary_count = player_info[salary]\n",
        "        else:\n",
        "            continue\n",
        "\n",
        "        goal = (4 * item + 2)\n",
        "        if goal <= (len(player_info) - 1):\n",
        "            goal_count = player_info[goal]\n",
        "        else:\n",
        "            continue\n",
        "\n",
        "        percentage = (4 * item + 3)\n",
        "        if percentage <= (len(player_info) - 1):\n",
        "            percentage_count = player_info[percentage]\n",
        "        else:\n",
        "            continue\n",
        "\n",
        "        if goal_count > 30:\n",
        "            bonus = int(goal_count * (percentage_count / 100 * salary_count) + 10000)\n",
        "\n",
        "        elif goal_count >= 20 and goal <= 30:\n",
        "            bonus = int(goal_count * (percentage_count / 100 * salary_count) + 5000)\n",
        "\n",
        "        else:\n",
        "            bonus = int(goal_count * (percentage_count / 100 * salary_count))\n",
        "        print(name_count, \"earned a bonus of\", bonus, \"Taka for\", goal_count, \"goals.\")\n",
        "\n",
        "\n",
        "player_bonus(\"Neymar\", 1200000, 30, 10,'Jamal', 700000, 19, 5)"
      ]
    },
    {
      "cell_type": "code",
      "execution_count": null,
      "metadata": {
        "id": "U6SYD49C5D9E"
      },
      "outputs": [],
      "source": [
        ""
      ]
    }
  ],
  "metadata": {
    "colab": {
      "collapsed_sections": [],
      "name": "20301301_Md. Anonto Shuvo_10_CSE110 Assignment05.ipynb",
      "provenance": []
    },
    "kernelspec": {
      "display_name": "Python 3",
      "language": "python",
      "name": "python3"
    },
    "language_info": {
      "codemirror_mode": {
        "name": "ipython",
        "version": 3
      },
      "file_extension": ".py",
      "mimetype": "text/x-python",
      "name": "python",
      "nbconvert_exporter": "python",
      "pygments_lexer": "ipython3",
      "version": "3.7.6"
    }
  },
  "nbformat": 4,
  "nbformat_minor": 0
}